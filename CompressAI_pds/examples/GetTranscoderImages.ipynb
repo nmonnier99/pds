{
 "cells": [
  {
   "cell_type": "code",
   "execution_count": 23,
   "id": "ee6eb85a",
   "metadata": {},
   "outputs": [],
   "source": [
    "import math\n",
    "import io\n",
    "import torch\n",
    "from torchvision import transforms\n",
    "import numpy as np\n",
    "import pickle\n",
    "import re\n",
    "import scipy.stats as st\n",
    "import PIL\n",
    "from collections import Counter\n",
    "from PIL import Image\n",
    "from PIL import ImageChops\n",
    "import imageio\n",
    "import matplotlib.pyplot as plt\n",
    "import compressai\n",
    "\n",
    "from pytorch_msssim import ms_ssim\n",
    "from compressai.zoo import bmshj2018_factorized\n",
    "from compressai.dna_entropy_coding.coder import Coder\n",
    "from ipywidgets import interact, widgets"
   ]
  },
  {
   "cell_type": "code",
   "execution_count": 24,
   "id": "0c3eaaed",
   "metadata": {},
   "outputs": [],
   "source": [
    "device = 'cuda' if torch.cuda.is_available() else 'cpu'"
   ]
  },
  {
   "cell_type": "code",
   "execution_count": 25,
   "id": "e7f878d5",
   "metadata": {},
   "outputs": [],
   "source": [
    "def get_kodim_tensor(img_number): \n",
    "    img_name = '/kodim{:02d}.png'.format(img_number)\n",
    "    img = Image.open('./assets'+ img_name).convert('RGB')\n",
    "    x = transforms.ToTensor()(img).unsqueeze(0).to(device)\n",
    "    return img, x"
   ]
  },
  {
   "cell_type": "code",
   "execution_count": 26,
   "id": "db426b32",
   "metadata": {},
   "outputs": [],
   "source": [
    "def compute_x_hat(x, quality):\n",
    "    \n",
    "    net = bmshj2018_factorized(quality, pretrained=True).eval().to(device)\n",
    "\n",
    "    #COMPRESS\n",
    "    with torch.no_grad():\n",
    "        dictionary = net.get_y_hat_and_medians(x)\n",
    "        y_hat = dictionary['y_hat']\n",
    "        medians = dictionary['medians']\n",
    "\n",
    "    coder = Coder() ## Class defined in coder.py\n",
    "\n",
    "    y_rounded = y_hat-torch.unsqueeze(medians, dim=0)\n",
    "    y_rounded = torch.round(y_rounded).int()\n",
    "\n",
    "    #ENCODE\n",
    "    dna = coder.encode(y_rounded, quality) \n",
    "\n",
    "    #DECODE\n",
    "    y_rounded_decoded = coder.decode(dna, quality, x.shape)\n",
    "    y_hat_decoded = y_rounded_decoded + torch.unsqueeze(medians, dim=0)\n",
    "\n",
    "    #DECOMPRESS\n",
    "    with torch.no_grad():\n",
    "        dict_dna = net.get_x_hat(y_hat_decoded)\n",
    "        out_net_dna = {'x_hat': dict_dna['x_hat']}\n",
    "        out_net_dna['x_hat'] = out_net_dna['x_hat'].clamp(0, 1)\n",
    "\n",
    "    x_hat =  out_net_dna['x_hat'].clamp(0, 1)\n",
    "    return x_hat, dna"
   ]
  },
  {
   "cell_type": "code",
   "execution_count": 28,
   "id": "1e9751ef",
   "metadata": {},
   "outputs": [],
   "source": [
    "for i in range(1,25): \n",
    "    for q in range(1, 9): \n",
    "        img, x = get_kodim_tensor(i)\n",
    "        x_hat, dna = compute_x_hat(x, q)\n",
    "        \n",
    "        img_decoded = transforms.ToPILImage()(x_hat.squeeze().cpu())\n",
    "        path = 'assets/transcoder/'\n",
    "        img_name = '{}kodim{:02d}.png'.format(q, i)\n",
    "        img_path = path + img_name\n",
    "        imageio.imwrite(img_path, img_decoded)\n",
    "        \n",
    "        dna_name = '{}kodim{:02d}.fasta'.format(q, i)\n",
    "        dna_path = path + dna_name\n",
    "        with open(dna_path, 'w') as f:\n",
    "            f.write(dna)"
   ]
  },
  {
   "cell_type": "code",
   "execution_count": null,
   "id": "06303dfa",
   "metadata": {},
   "outputs": [],
   "source": []
  },
  {
   "cell_type": "code",
   "execution_count": null,
   "id": "6725e89a",
   "metadata": {},
   "outputs": [],
   "source": []
  },
  {
   "cell_type": "code",
   "execution_count": null,
   "id": "6d3ea563",
   "metadata": {},
   "outputs": [],
   "source": []
  }
 ],
 "metadata": {
  "kernelspec": {
   "display_name": "Python 3 (ipykernel)",
   "language": "python",
   "name": "python3"
  },
  "language_info": {
   "codemirror_mode": {
    "name": "ipython",
    "version": 3
   },
   "file_extension": ".py",
   "mimetype": "text/x-python",
   "name": "python",
   "nbconvert_exporter": "python",
   "pygments_lexer": "ipython3",
   "version": "3.9.12"
  }
 },
 "nbformat": 4,
 "nbformat_minor": 5
}
