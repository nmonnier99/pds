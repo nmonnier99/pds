{
 "cells": [
  {
   "cell_type": "code",
   "execution_count": 1,
   "id": "5baba262",
   "metadata": {},
   "outputs": [],
   "source": [
    "import math\n",
    "import io\n",
    "import torch\n",
    "from torchvision import transforms\n",
    "import numpy as np\n",
    "import pickle\n",
    "import re\n",
    "import scipy.stats as st\n",
    "import PIL\n",
    "from collections import Counter\n",
    "from PIL import Image\n",
    "from PIL import ImageChops\n",
    "import imageio\n",
    "from pytorch_msssim import ssim, ms_ssim\n",
    "import matplotlib.pyplot as plt\n",
    "from statistics import mean\n",
    "import compressai\n",
    "import skimage\n",
    "import torch.nn.functional as F\n",
    "from compression import rates\n",
    "from quality import psnr\n",
    "from compression import rates\n",
    "from oligochecker import size\n",
    "from oligoanalyzer import gc_stats\n",
    "from oligoanalyzer import homopolymer_stats\n",
    "from IQA_pytorch import NLPD, VIF, FSIM"
   ]
  },
  {
   "cell_type": "code",
   "execution_count": 2,
   "id": "d48a5fb9",
   "metadata": {},
   "outputs": [],
   "source": [
    "from compressai.zoo import bmshj2018_factorized\n",
    "from compressai.dna_entropy_coding.coder import Coder\n",
    "from ipywidgets import interact, widgets"
   ]
  },
  {
   "cell_type": "code",
   "execution_count": null,
   "id": "85fd09aa",
   "metadata": {},
   "outputs": [],
   "source": []
  },
  {
   "cell_type": "code",
   "execution_count": 3,
   "id": "b565f717",
   "metadata": {},
   "outputs": [],
   "source": [
    "device = 'cuda' if torch.cuda.is_available() else 'cpu'"
   ]
  },
  {
   "cell_type": "code",
   "execution_count": 4,
   "id": "e1a31370",
   "metadata": {},
   "outputs": [],
   "source": [
    "JPEG_SIZES = [\n",
    "    '1192x832', \n",
    "    '853x945', \n",
    "    '945x840', \n",
    "    '2000x2496', \n",
    "    '560x888',\n",
    "    '2048x1536', \n",
    "    '1600x1200', \n",
    "    '1430x1834', \n",
    "    '2048x1536', \n",
    "    '2592x1946'  \n",
    "]"
   ]
  },
  {
   "cell_type": "code",
   "execution_count": 5,
   "id": "15747bf1",
   "metadata": {},
   "outputs": [],
   "source": [
    "DATA_SET_LIST = [\n",
    "    'kodak', \n",
    "    'jpeg_dna'\n",
    "]"
   ]
  },
  {
   "cell_type": "code",
   "execution_count": 6,
   "id": "bba3995e",
   "metadata": {},
   "outputs": [],
   "source": [
    "METRICS_LIST = [\n",
    "    'PSNR', \n",
    "    'PSNR-YUV', \n",
    "    #'PSNR-Y-CB-CR', \n",
    "    'MS-SSIM', \n",
    "    'IW-SSIM', \n",
    "    'NLPD', \n",
    "    'VIF'\n",
    "]"
   ]
  },
  {
   "cell_type": "code",
   "execution_count": 7,
   "id": "b46208be",
   "metadata": {},
   "outputs": [],
   "source": [
    "MODELS_LIST = [\n",
    "    'benchmarkcodec', \n",
    "    'anchor1', \n",
    "    'anchor3', \n",
    "    'learningbased'\n",
    "]"
   ]
  },
  {
   "cell_type": "markdown",
   "id": "540bb45a",
   "metadata": {},
   "source": [
    "### Image extraction"
   ]
  },
  {
   "cell_type": "code",
   "execution_count": 8,
   "id": "85bc0ef0",
   "metadata": {},
   "outputs": [],
   "source": [
    "def get_original_tensor(data_set, img_id): \n",
    "    path = get_original_image_path(data_set, img_id)\n",
    "    img = Image.open(path).convert('RGB')\n",
    "    x = transforms.ToTensor()(img).unsqueeze(0).to(device)\n",
    "    return img, x"
   ]
  },
  {
   "cell_type": "code",
   "execution_count": 9,
   "id": "500e4f59",
   "metadata": {},
   "outputs": [],
   "source": [
    "def get_original_image_path(data_set, img_number): \n",
    "    img_path = 'assets/' + data_set\n",
    "    if data_set == 'kodak':\n",
    "        img_name = '/kodim{:02d}.png'.format(img_number)\n",
    "        \n",
    "    if data_set == 'jpeg_dna': \n",
    "        img_name = f\"/{str(img_number).zfill(5)}_\" + JPEG_SIZES[img_number-1]+'.png'\n",
    "    return img_path + img_name"
   ]
  },
  {
   "cell_type": "code",
   "execution_count": 10,
   "id": "0c06ff46",
   "metadata": {},
   "outputs": [],
   "source": [
    "def get_decoded_image_path(data_set, model_name, img_number, quality): \n",
    "    path = 'assets/' + data_set +'/' + model_name\n",
    "    img_name = ''\n",
    "    if data_set == 'kodak': \n",
    "        img_name = '/{}kodim{:02d}.png'.format(quality, img_number)\n",
    "        \n",
    "    elif data_set == 'jpeg_dna':\n",
    "        img_name = f\"/JPEG-1_{str(img_number).zfill(5)}\" + '_' + JPEG_SIZES[img_number-1] + '_' + str(quality) + '_decoded' + '.png'\n",
    "    else : \n",
    "        return ''\n",
    "    return path + img_name"
   ]
  },
  {
   "cell_type": "code",
   "execution_count": 11,
   "id": "46a9743e",
   "metadata": {},
   "outputs": [],
   "source": [
    "def get_decoded_tensor(data_set, model_name, img_number, quality):\n",
    "    path = get_decoded_image_path(data_set, model_name, img_number, quality)\n",
    "    img = Image.open(path).convert('RGB')   \n",
    "    x = transforms.ToTensor()(img).unsqueeze(0).to(device)\n",
    "    return img, x"
   ]
  },
  {
   "cell_type": "code",
   "execution_count": 12,
   "id": "bc14715e",
   "metadata": {},
   "outputs": [],
   "source": [
    "def get_dna_path(data_set, model_name, img_number, quality): \n",
    "    path = 'assets/' + data_set +'/' + model_name\n",
    "    dna_name = ''\n",
    "    if data_set == 'kodak': \n",
    "        dna_name = '/{}kodim{:02d}.fasta'.format(quality, img_number)\n",
    "        \n",
    "    elif data_set == 'jpeg_dna':\n",
    "        dna_name = f\"/JPEG-1_{str(img_number).zfill(5)}\" + '_' + JPEG_SIZES[img_number-1] + '_' + str(quality) + '.fasta'\n",
    "    else : \n",
    "        return ''\n",
    "    return path + dna_name"
   ]
  },
  {
   "cell_type": "code",
   "execution_count": 13,
   "id": "d38ea918",
   "metadata": {},
   "outputs": [],
   "source": [
    "def get_dna(data_set, model_name, img_number, quality):\n",
    "    path = get_dna_path(data_set, model_name, img_number, quality)\n",
    "    fasta_file = open(path)\n",
    "    dna = fasta_file.read()\n",
    "    fasta_file.close()\n",
    "    return dna\n"
   ]
  },
  {
   "cell_type": "code",
   "execution_count": 14,
   "id": "aebd66e6",
   "metadata": {},
   "outputs": [],
   "source": [
    "#print(get_dna('jpeg_dna', 'anchor1', 1, 1))#"
   ]
  },
  {
   "cell_type": "markdown",
   "id": "b213722f",
   "metadata": {},
   "source": [
    "# Biochemical constraints"
   ]
  },
  {
   "cell_type": "markdown",
   "id": "c6080b88",
   "metadata": {},
   "source": [
    "### DNA CG contents"
   ]
  },
  {
   "cell_type": "code",
   "execution_count": 15,
   "id": "c4a23a70",
   "metadata": {
    "scrolled": false
   },
   "outputs": [],
   "source": [
    "def CG_content(dna) : \n",
    "    return 100*(dna.count(\"C\")+dna.count(\"G\"))/len(dna)"
   ]
  },
  {
   "cell_type": "code",
   "execution_count": 16,
   "id": "f1343a2a",
   "metadata": {
    "scrolled": true
   },
   "outputs": [],
   "source": [
    "def cg_contents(model_name, data_set = 'jpeg_dna'): \n",
    "    \"\"\"\n",
    "    Plots of the percentage of CG nucleotides in dna strands in regards of the quality of the \n",
    "    encoding, computed for the 24 images of the kodak data set.  \n",
    "    \n",
    "    Parameters\n",
    "    ----------\n",
    "    model_name: string \n",
    "        name of the model to be used for dna encoding\n",
    "        'anchor1', 'anchor3', 'benchmark codec' or 'learning based'\n",
    "        \n",
    "    Returns\n",
    "    -------\n",
    "    A plot saved in the folder plots/\n",
    "    \"\"\"\n",
    "    if data_set == 'kodak': \n",
    "        number_of_images = 24\n",
    "    elif data_set == 'jpeg_dna': \n",
    "        number_of_images = 10\n",
    "    else : \n",
    "        print(\"Ivalid data set name, please enter  'jpeg_dna' or 'kodak'.\")\n",
    "        return\n",
    "    \n",
    "    \n",
    "    for i in range(1, number_of_images): \n",
    "        cg = []\n",
    "        bit_rate = []\n",
    "        print('image' + str(i))\n",
    "        for q in range(1,8):\n",
    "            print ('quality' + str(q))\n",
    "            dna = get_dna(data_set, model_name, i, q)\n",
    "            img, x = get_decoded_tensor(data_set, model_name, i, q)\n",
    "            cg.append(CG_content(dna))\n",
    "            bit_rate.append(compute_bit_rate(img, dna))\n",
    "            \n",
    "        plt.plot(bit_rate, cg)\n",
    "        \n",
    "    plt.xlabel('Rate (nt/pxl)')\n",
    "    plt.ylabel('CG content (%)')\n",
    "    plt.title('CG contents of ' + model_name +' dna for the ' + data_set + ' data set')\n",
    "    plt.ylim(0, 100) \n",
    "    #plt.legend(bbox_to_anchor=(1.05, 1), loc='upper left', borderaxespad=0.)\n",
    "    plt.savefig('plots/cg_' + data_set + '_'+ model_name + '.jpeg', bbox_inches='tight')\n",
    "    plt.show()\n",
    "    \n",
    "\n",
    "\n",
    "#cg_contents('anchor1')\n",
    "#cg_contents('anchor3')\n",
    "#cg_contents('benchmarkcodec')\n",
    "#cg_contents('learningbased')\n"
   ]
  },
  {
   "cell_type": "markdown",
   "id": "1e7e8f02",
   "metadata": {},
   "source": [
    "### Oligo length"
   ]
  },
  {
   "cell_type": "code",
   "execution_count": 17,
   "id": "ebe8db47",
   "metadata": {
    "scrolled": true
   },
   "outputs": [
    {
     "name": "stdout",
     "output_type": "stream",
     "text": [
      "<class 'dict'>\n",
      "752973 oligos have a length of 1\n"
     ]
    }
   ],
   "source": [
    "def display_oligo_length(dna): \n",
    "    stats = size.compute_data(dna)\n",
    "    print(type(stats))\n",
    "    size.nice_print(stats)\n",
    "dna = get_dna('kodak', 'benchmarkcodec', 2, 1)\n",
    "display_oligo_length(dna)\n"
   ]
  },
  {
   "cell_type": "markdown",
   "id": "83534b41",
   "metadata": {},
   "source": [
    "### Homopolymers"
   ]
  },
  {
   "cell_type": "code",
   "execution_count": 18,
   "id": "8b48d65a",
   "metadata": {},
   "outputs": [],
   "source": [
    "def homopolymer_data(dna):\n",
    "    (hom, nuc_hom, avg_hom, hom_pos_b) = homopolymer_stats.compute_data(dna)\n",
    "    return (hom, nuc_hom, avg_hom, hom_pos_b)\n",
    "\n",
    "def count_model_homopolymers(data_set, model_name): \n",
    "    if data_set == 'kodak': \n",
    "        number_of_images = 24\n",
    "    elif data_set == 'jpeg_dna': \n",
    "        number_of_images = 10\n",
    "    else : \n",
    "        print('Incorrect data set argument.')\n",
    "        return\n",
    "    homopolymers = 0\n",
    "    for img_id in range(1,number_of_images): \n",
    "        for q in range(1,8): \n",
    "            dna = get_dna(data_set, model_name, img_id, q)\n",
    "            (hom, nuc_hom, avg_hom, hom_pos_b) = homopolymer_data(dna)\n",
    "            homopolymers += sum(hom)\n",
    "    print('Number of homopolymers in all the DNA generated by the ' + model_name \n",
    "          + ' model on the ' + data_set + ' data set = ' + str(homopolymers))\n",
    "    if homopolymers > 0 : \n",
    "        print('The average length of the homopolymers is : ' + str(avg_hom))\n",
    "    return homopolymers\n",
    "\n",
    "def count_all_homopolymers(): \n",
    "    for data_set in DATA_SET_LIST: \n",
    "        for model_name in MODELS_LIST: \n",
    "            count_model_homopolymers(data_set, model_name)\n",
    "            \n",
    "#count_all_homopolymers()"
   ]
  },
  {
   "cell_type": "code",
   "execution_count": 57,
   "id": "3863776f",
   "metadata": {},
   "outputs": [
    {
     "name": "stdout",
     "output_type": "stream",
     "text": [
      "6801269\n",
      ">Oligo0\n",
      "GTTCAGAGTTCT\n"
     ]
    }
   ],
   "source": [
    "dna = get_dna('jpeg_dna', 'anchor1', 6,1)\n",
    "print(len(dna))\n",
    "print(dna[:20])\n",
    "#(hom, nuc_hom, avg_hom, hom_pos_b) = \n"
   ]
  },
  {
   "cell_type": "code",
   "execution_count": 19,
   "id": "0b42cff1",
   "metadata": {},
   "outputs": [
    {
     "data": {
      "text/plain": [
       "'\\ndef count_homopolymers(count, homopolymers, dna, i):\\n    if i == 0 :\\n        return count \\n    elif dna[i] == dna[i-1] : \\n        count_homopolymers(count, homo+1, dna, i-1)\\n    elif homo >= 3 : \\n        count.append(homo)\\n        count_homopolymers(count, 0, dna, i-1)\\n    else : \\n        count_homopolymers(count, 0, dna, i-1) \\n        \\ndef check_homopolymers(dna) :\\n    count = 0\\n    for i in range(len(dna)-2): \\n        if ((dna[i] == dna[i+1]) & (dna[i+1] == dna[i+2])): \\n            ++ count  \\n    if count > 0: \\n        print (count_homopolymers(0, [], dna, len(dna)))\\n    return count \\n'"
      ]
     },
     "execution_count": 19,
     "metadata": {},
     "output_type": "execute_result"
    }
   ],
   "source": [
    "'''\n",
    "def count_homopolymers(count, homopolymers, dna, i):\n",
    "    if i == 0 :\n",
    "        return count \n",
    "    elif dna[i] == dna[i-1] : \n",
    "        count_homopolymers(count, homo+1, dna, i-1)\n",
    "    elif homo >= 3 : \n",
    "        count.append(homo)\n",
    "        count_homopolymers(count, 0, dna, i-1)\n",
    "    else : \n",
    "        count_homopolymers(count, 0, dna, i-1) \n",
    "        \n",
    "def check_homopolymers(dna) :\n",
    "    count = 0\n",
    "    for i in range(len(dna)-2): \n",
    "        if ((dna[i] == dna[i+1]) & (dna[i+1] == dna[i+2])): \n",
    "            ++ count  \n",
    "    if count > 0: \n",
    "        print (count_homopolymers(0, [], dna, len(dna)))\n",
    "    return count \n",
    "'''"
   ]
  },
  {
   "cell_type": "code",
   "execution_count": 20,
   "id": "4f62dd9a",
   "metadata": {},
   "outputs": [
    {
     "data": {
      "text/plain": [
       "'\\ndef all_homopolymers(data_set = \\'jpeg_dna\\'): \\n    anchor1_count = 0\\n    anchor3_count = 0\\n    learningbased_count = 0\\n    benchmarkcodec_count = 0\\n    if data_set == \\'kodak\\': \\n        number_of_images = 24\\n    elif data_set == \\'jpeg_dna\\': \\n        number_of_images = 10\\n    else : \\n        print(\"Ivalid data set name, please enter  \\'jpeg_dna\\' or \\'kodak\\'.\")\\n        return\\n    for q in range(1, 9): \\n        for i in range(1, number_of_images + 1): \\n            anchor1_dna = get_dna(\\'anchor1\\', data_set,i,q)\\n            anchor3_dna = get_dna(\\'anchor3\\', data_set,i,q)\\n            benchmarkcodec_dna = get_dna(\\'benchmarkcodec\\', data_set,i,q)\\n            learningbased_dna = get_dna(\\'learningbased\\', data_set,i,q)\\n            \\n            anchor1_count += check_homopolymers(anchor1_dna) \\n            anchor3_count += check_homopolymers(anchor3_dna)\\n            learningbased_count += check_homopolymers(learningbased_dna)\\n            benchmarkcodec_count += check_homopolymers(benchmarkcodec_dna)\\n\\n    print(\"Number of homopolymers in anchor 1 dna : \" + str(anchor1_count))\\n    print(\"Number of homopolymers in anchor 3 dna : \" + str(anchor3_count))\\n    print(\"Number of homopolymers in learning based dna : \"+ str(learningbased_count))\\n    print(\"Number of homopolymers in benchmark codec dna : \"+ str(learningbased_count))\\n'"
      ]
     },
     "execution_count": 20,
     "metadata": {},
     "output_type": "execute_result"
    }
   ],
   "source": [
    "'''\n",
    "def all_homopolymers(data_set = 'jpeg_dna'): \n",
    "    anchor1_count = 0\n",
    "    anchor3_count = 0\n",
    "    learningbased_count = 0\n",
    "    benchmarkcodec_count = 0\n",
    "    if data_set == 'kodak': \n",
    "        number_of_images = 24\n",
    "    elif data_set == 'jpeg_dna': \n",
    "        number_of_images = 10\n",
    "    else : \n",
    "        print(\"Ivalid data set name, please enter  'jpeg_dna' or 'kodak'.\")\n",
    "        return\n",
    "    for q in range(1, 9): \n",
    "        for i in range(1, number_of_images + 1): \n",
    "            anchor1_dna = get_dna('anchor1', data_set,i,q)\n",
    "            anchor3_dna = get_dna('anchor3', data_set,i,q)\n",
    "            benchmarkcodec_dna = get_dna('benchmarkcodec', data_set,i,q)\n",
    "            learningbased_dna = get_dna('learningbased', data_set,i,q)\n",
    "            \n",
    "            anchor1_count += check_homopolymers(anchor1_dna) \n",
    "            anchor3_count += check_homopolymers(anchor3_dna)\n",
    "            learningbased_count += check_homopolymers(learningbased_dna)\n",
    "            benchmarkcodec_count += check_homopolymers(benchmarkcodec_dna)\n",
    "\n",
    "    print(\"Number of homopolymers in anchor 1 dna : \" + str(anchor1_count))\n",
    "    print(\"Number of homopolymers in anchor 3 dna : \" + str(anchor3_count))\n",
    "    print(\"Number of homopolymers in learning based dna : \"+ str(learningbased_count))\n",
    "    print(\"Number of homopolymers in benchmark codec dna : \"+ str(learningbased_count))\n",
    "'''    \n",
    "    "
   ]
  },
  {
   "cell_type": "code",
   "execution_count": 21,
   "id": "be0fad15",
   "metadata": {
    "scrolled": true
   },
   "outputs": [],
   "source": [
    "#all_homopolymers()"
   ]
  },
  {
   "cell_type": "markdown",
   "id": "b5f14db1",
   "metadata": {},
   "source": [
    "# Objective quality evaluation"
   ]
  },
  {
   "cell_type": "code",
   "execution_count": 22,
   "id": "d51a24e0",
   "metadata": {},
   "outputs": [],
   "source": [
    "def remove_padding(original_tensor, reconstructed_tensor): \n",
    "    height = original_tensor.shape[2]\n",
    "    width = original_tensor.shape[3]\n",
    "    reconstructed_tensor = reconstructed_tensor[:, :, :height, :width]\n",
    "    return reconstructed_tensor"
   ]
  },
  {
   "cell_type": "markdown",
   "id": "126b8e65",
   "metadata": {},
   "source": [
    "### Metrics"
   ]
  },
  {
   "cell_type": "markdown",
   "id": "dac98a49",
   "metadata": {},
   "source": [
    "#### PSNR\n",
    "\n",
    "\n",
    "- PSNR = Peak Signal-to-Noise Ratio\n",
    "- Measures the difference between an original image and a compressed or reconstructed version of it. \n",
    "- The higher the PSNR value, the better the quality of the compressed or reconstructed image.\n",
    "\n",
    "\\begin{equation}\n",
    "PSNR = - 10 \\cdot \\log_{10} (MSE)\n",
    "\\end{equation}\n",
    "\n",
    "\n"
   ]
  },
  {
   "cell_type": "code",
   "execution_count": 39,
   "id": "7cf8d14c",
   "metadata": {},
   "outputs": [],
   "source": [
    "def compute_psnr(original_tensor, reconstructed_tensor):\n",
    "    #reconstructed_tensor = remove_padding(original_tensor, reconstructed_tensor)\n",
    "    mse = torch.mean((original_tensor - reconstructed_tensor)**2).item()\n",
    "    return -10 * math.log10(mse)\n"
   ]
  },
  {
   "cell_type": "code",
   "execution_count": 41,
   "id": "c5a12d2d",
   "metadata": {},
   "outputs": [],
   "source": [
    "def compute_psnr_yuv(original_tensor, reconstructed_tensor):\n",
    "    #reconstructed_tensor = remove_padding(original_tensor, reconstructed_tensor)\n",
    "    reconstructed_img =  transforms.ToPILImage()(reconstructed_tensor.squeeze().cpu())\n",
    "    original_img = transforms.ToPILImage()(original_tensor.squeeze().cpu())\n",
    "    original_img = np.array(original_img)\n",
    "    reconstructed_img = np.array(reconstructed_img)\n",
    "    return psnr.psnr_yuv(original_img, reconstructed_img)"
   ]
  },
  {
   "cell_type": "code",
   "execution_count": 25,
   "id": "f73593f7",
   "metadata": {},
   "outputs": [],
   "source": [
    "def compute_psnr_y_cb_cr(original_tensor, reconstructed_tensor): \n",
    "    reconstructed_tensor = remove_padding(original_tensor, reconstructed_tensor)\n",
    "    reconstructed_img =  transforms.ToPILImage()(reconstructed_tensor.squeeze().cpu())\n",
    "    original_img = transforms.ToPILImage()(original_tensor.squeeze().cpu())\n",
    "    original_img = np.array(original_img)\n",
    "    reconstructed_img = np.array(reconstructed_img)\n",
    "    return psnr.psnr_y_cb_cr(original_img, reconstructed_img)"
   ]
  },
  {
   "cell_type": "markdown",
   "id": "31266dd1",
   "metadata": {},
   "source": [
    "#### MS-SSIM\n",
    "- MS-SSIM = Multi-Scale Structural Similarity Index\n",
    "- Measures the similarity between two images\n",
    "- Takes into account multiple scales of image structures\n",
    "- The higher the MS-SSIM, the higher the similqrity between 2 images"
   ]
  },
  {
   "cell_type": "code",
   "execution_count": 26,
   "id": "bdef3fd5",
   "metadata": {},
   "outputs": [],
   "source": [
    "def compute_msssim(original_tensor, reconstructed_tensor):\n",
    "    reconstructed_tensor = remove_padding(original_tensor, reconstructed_tensor)\n",
    "    return ms_ssim(original_tensor, reconstructed_tensor, data_range=1.).item()"
   ]
  },
  {
   "cell_type": "markdown",
   "id": "00c0f149",
   "metadata": {},
   "source": [
    "#### IW-SSIM\n",
    "- IW-SSIM = Information-Weighted Structural Similarity Index\n",
    "- Takes into account the importance of different regions in the image, and assigns them different weights based on their visual significance\n",
    "- The higher the MS-SSIM, the higher the similqrity between 2 images\n",
    "\n",
    "\\begin{equation}\n",
    "\\text{IW-SSIM} = \\frac{(2 \\mu_a \\mu_b + c_1)(2\\sigma_{ab} + c_2)}{(\\mu_a^2 + \\mu_b^2 + c_1)(\\sigma_a^2 + \\sigma_b^2 + c_2)} \\cdot \\text{SSIM}\n",
    "\\end{equation}\n"
   ]
  },
  {
   "cell_type": "code",
   "execution_count": 27,
   "id": "0f266b38",
   "metadata": {},
   "outputs": [],
   "source": [
    "def compute_iwssim(original_tensor, reconstructed_tensor, k=0.01):\n",
    "    reconstructed_tensor = remove_padding(original_tensor, reconstructed_tensor)\n",
    "    # Compute the constants c1 and c2 used in the IW-SSIM formula\n",
    "    c1 = (k * 1) ** 2\n",
    "    c2 = (k * 1) ** 2\n",
    "    # Compute the mean, variance, and covariance of the two input images\n",
    "    mean_original_tensor = original_tensor.mean(dim=(1, 2, 3), keepdim=True)\n",
    "    mean_reconstructed_tensor = reconstructed_tensor.mean(dim=(1, 2, 3), keepdim=True)\n",
    "    var_original_tensor = ((original_tensor - mean_original_tensor) ** 2).mean(dim=(1, 2, 3), keepdim=True)\n",
    "    var_reconstructed_tensor = ((reconstructed_tensor - mean_reconstructed_tensor) ** 2).mean(dim=(1, 2, 3), keepdim=True)\n",
    "    cov = ((original_tensor - mean_original_tensor) * (reconstructed_tensor - mean_reconstructed_tensor)).mean(dim=(1, 2, 3), keepdim=True)\n",
    "    \n",
    "    # Compute the SSIM value between the two input images using pytorch_msssim's ssim function\n",
    "    ssim_val = ssim(original_tensor, reconstructed_tensor, data_range=1.0, win_size=11, size_average=True)\n",
    "    \n",
    "    # Compute the IW-SSIM value using the mean, variance, covariance, and SSIM values\n",
    "    iwssim_val = ((2 * mean_original_tensor * mean_reconstructed_tensor + c1) * (2 * cov + c2)) / ((mean_original_tensor ** 2 + mean_reconstructed_tensor ** 2 + c1) * (var_original_tensor + var_reconstructed_tensor + c2)) * ssim_val\n",
    "    \n",
    "    # Return the average IW-SSIM value across the batch\n",
    "    return iwssim_val.mean().item()\n"
   ]
  },
  {
   "cell_type": "markdown",
   "id": "e492a7b0",
   "metadata": {},
   "source": [
    "#### NLPD\n"
   ]
  },
  {
   "cell_type": "code",
   "execution_count": 28,
   "id": "5d5b0ba2",
   "metadata": {},
   "outputs": [],
   "source": [
    "def compute_nlpd(original_tensor, reconstructed_tensor):\n",
    "    D = NLPD()\n",
    "    # set requires_grad attribute to True\n",
    "    reconstructed_tensor.requires_grad = True  \n",
    "    score = D(reconstructed_tensor, original_tensor, as_loss=False) \n",
    "    score_num = score.item()\n",
    "    # set 'as_loss=True' to get a value as loss for optimizations.\n",
    "    loss = D(reconstructed_tensor, original_tensor)\n",
    "    loss.backward()\n",
    "    return score_num"
   ]
  },
  {
   "cell_type": "markdown",
   "id": "d3daadf0",
   "metadata": {},
   "source": [
    "#### VIF\n"
   ]
  },
  {
   "cell_type": "code",
   "execution_count": 29,
   "id": "c3f7a351",
   "metadata": {},
   "outputs": [],
   "source": [
    "def compute_vif(original_tensor, reconstructed_tensor):\n",
    "    D = VIF()\n",
    "    # set requires_grad attribute to True\n",
    "    reconstructed_tensor.requires_grad = True  \n",
    "    score = D(reconstructed_tensor, original_tensor, as_loss=False)\n",
    "    score_num = score.item()\n",
    "    # set 'as_loss=True' to get a value as loss for optimizations.\n",
    "    loss = D(reconstructed_tensor, original_tensor)\n",
    "    loss.backward()\n",
    "    return score_num"
   ]
  },
  {
   "cell_type": "code",
   "execution_count": 30,
   "id": "29caa9cb",
   "metadata": {},
   "outputs": [
    {
     "data": {
      "text/plain": [
       "\"\\nimgO, XO = get_original_tensor('kodak', 1)\\nimgD, XD = get_decoded_tensor('kodak', 'learningbased', 1,1)\\nscore = compute_vif(XO, XD)\\nprint(score)\\n\\n\""
      ]
     },
     "execution_count": 30,
     "metadata": {},
     "output_type": "execute_result"
    }
   ],
   "source": [
    "'''\n",
    "imgO, XO = get_original_tensor('kodak', 1)\n",
    "imgD, XD = get_decoded_tensor('kodak', 'learningbased', 1,1)\n",
    "score = compute_vif(XO, XD)\n",
    "print(score)\n",
    "\n",
    "'''"
   ]
  },
  {
   "cell_type": "markdown",
   "id": "c7146a39",
   "metadata": {},
   "source": [
    "#### FSIM"
   ]
  },
  {
   "cell_type": "code",
   "execution_count": 31,
   "id": "f4e42816",
   "metadata": {},
   "outputs": [],
   "source": [
    "def compute_fsim(original_tensor, reconstructed_tensor): \n",
    "    D = FSIM()\n",
    "    # set requires_grad attribute to True\n",
    "    reconstructed_tensor.requires_grad = True  \n",
    "    score = D(reconstructed_tensor, original_tensor, as_loss=False)\n",
    "    score_num = score.item()\n",
    "    # set 'as_loss=True' to get a value as loss for optimizations.\n",
    "    loss = D(reconstructed_tensor, original_tensor)\n",
    "    loss.backward()\n",
    "    return score_num"
   ]
  },
  {
   "cell_type": "code",
   "execution_count": 32,
   "id": "45449b37",
   "metadata": {},
   "outputs": [],
   "source": [
    "def compute_bit_rate(img, dna): \n",
    "    h, w = img.size\n",
    "    return len(dna)/(h*w)"
   ]
  },
  {
   "cell_type": "markdown",
   "id": "e92370f8",
   "metadata": {},
   "source": [
    "### Plots"
   ]
  },
  {
   "cell_type": "code",
   "execution_count": 33,
   "id": "4cf41635",
   "metadata": {},
   "outputs": [],
   "source": [
    "def compute_metric(metric_name, original_tensor, reconstructed_tensor): \n",
    "    \n",
    "    \"\"\"\n",
    "    Computes the quality metric given by 'metric_name' for an encoded image, \n",
    "    in comparison to an original image. \n",
    "\n",
    "    Parameters\n",
    "    ----------\n",
    "    metric_name: string \n",
    "        name of the metric to be computed.\n",
    "        'PSNR', 'PSNR-YUV', 'PSNR-Y-CB-CR', 'MS-SSIM', 'IW-SSIM'\n",
    "        \n",
    "    original_tensor: tensor\n",
    "        original image run through the different encoder\n",
    "    reconstructed_tensor: tensor\n",
    "        reconstructed image tensor\n",
    "        \n",
    "\n",
    "    Returns\n",
    "    -------\n",
    "    The computed value of the given quality metric for the specified image\n",
    "    \"\"\"\n",
    "    \n",
    "    if metric_name == 'PSNR' : \n",
    "        return compute_psnr(original_tensor, reconstructed_tensor)\n",
    "    \n",
    "    elif metric_name == 'PSNR-YUV':\n",
    "        return compute_psnr_yuv(original_tensor, reconstructed_tensor)\n",
    "    \n",
    "    elif metric_name == 'PSNR-Y-CB-CR':\n",
    "        compute_psnr_y_cb_cr(original_tensor, reconstructed_tensor)\n",
    "        \n",
    "    elif metric_name == 'MS-SSIM': \n",
    "        return compute_msssim(original_tensor, reconstructed_tensor)\n",
    "    \n",
    "    elif metric_name =='IW-SSIM': \n",
    "        return compute_iwssim(original_tensor, reconstructed_tensor)\n",
    "    \n",
    "    elif metric_name == 'NLPD': \n",
    "        return compute_nlpd(original_tensor, reconstructed_tensor)\n",
    "    \n",
    "    elif metric_name == 'VIF': \n",
    "        return compute_vif(original_tensor, reconstructed_tensor)\n",
    "    else:\n",
    "        print(\"Invalid argument : \" + metric_name + \".\")\n",
    "        return"
   ]
  },
  {
   "cell_type": "code",
   "execution_count": 37,
   "id": "af0b2751",
   "metadata": {},
   "outputs": [],
   "source": [
    "def plot_metric(metric_name, img_number, data_set = 'jpeg_dna'): \n",
    "    \"\"\"\n",
    "    Plots a quality metric given by metric_name, for a an image encoded by different models.\n",
    "    \n",
    "    Parameters\n",
    "    ----------\n",
    "    metric_name: string \n",
    "        name of the metric to be plotted\n",
    "        'PSNR', 'PSNR-YUV', 'PSNR-Y-CB-CR' 'MSSSIM', or 'IWSSIM'\n",
    "    data_set : string\n",
    "        name of the data set on which to perform the computations\n",
    "        'jpeg_dna' or 'kodak'\n",
    "    img_number: \n",
    "        number of the image of interest in the given data set\n",
    "\n",
    "    Returns\n",
    "    -------\n",
    "    A plot saved in the folder /plots\n",
    "    \"\"\"\n",
    "    \n",
    "    # Check if the metric argument is valid\n",
    "    if (metric_name in METRICS_LIST) & (data_set in DATA_SET_LIST) :\n",
    "        \n",
    "        if data_set == 'kodak' : \n",
    "            number_of_images = 24\n",
    "        elif data_set == 'jpeg_dna' : \n",
    "            number_of_images = 10\n",
    "        if (img_number > number_of_images) or (img_number<1): \n",
    "            print('Invalid image number')\n",
    "    # Initialize empty lists to store metrics and bit rates for the image at all quality levels\n",
    "        learning_based_metric = []\n",
    "        anchor1_metric = [] \n",
    "        anchor3_metric = []\n",
    "        benchmark_codec_metric = []\n",
    "        learning_based_bitrates = []\n",
    "        anchor1_bitrates = []\n",
    "        anchor3_bitrates = []\n",
    "        benchmark_codec_bitrates = []\n",
    "        \n",
    "        img, x = get_original_tensor(data_set, img_number)\n",
    "\n",
    "       # Loop through quality levels 1-8\n",
    "        for quality in range(1, 9):\n",
    "            print(quality)\n",
    "            # Load image, tensor and dna for the learning-based method and calculate bit rate\n",
    "            learning_based_img, learning_based_tensor = get_decoded_tensor(data_set, 'learningbased', img_number,quality)\n",
    "            learning_based_dna = get_dna( data_set, 'learningbased', img_number,quality)\n",
    "            learning_based_bitrates.append(compute_bit_rate(img, learning_based_dna))\n",
    "\n",
    "            # Load image, tensor and dna for anchor1, calculate bit rate\n",
    "            anchor1_img, anchor1_tensor = get_decoded_tensor(data_set, 'anchor1', img_number, quality)\n",
    "            anchor1_dna = get_dna(data_set, 'anchor1', img_number,quality)\n",
    "            anchor1_bitrates.append(compute_bit_rate(img, anchor1_dna))\n",
    "\n",
    "            # Load image, tensor and dna for anchor3, calculate bit rate\n",
    "            anchor3_img, anchor3_tensor = get_decoded_tensor(data_set, 'anchor3', img_number, quality)\n",
    "            anchor3_dna = get_dna(data_set, 'anchor3', img_number,quality)\n",
    "            anchor3_bitrates.append(compute_bit_rate(img, anchor3_dna))\n",
    "\n",
    "            # Load image, tensor and dna for the JPEG DNA benchmark codec, calculate bit rate\n",
    "            benchmark_codec_img, benchmark_codec_tensor = get_decoded_tensor(data_set, 'benchmarkcodec', img_number, quality)\n",
    "            benchmark_codec_dna = get_dna( data_set, 'benchmarkcodec',img_number,quality)\n",
    "            benchmark_codec_bitrates.append(compute_bit_rate(img, benchmark_codec_dna))\n",
    "\n",
    "            # Calculate metric for each model and add to corresponding list \n",
    "\n",
    "            learning_based_metric.append(compute_metric(metric_name, x, learning_based_tensor))\n",
    "            anchor1_metric.append(compute_metric(metric_name, x, anchor1_tensor))\n",
    "            anchor3_metric.append(compute_metric(metric_name, x, anchor3_tensor))\n",
    "            benchmark_codec_metric.append(compute_metric(metric_name, x, benchmark_codec_tensor))\n",
    "\n",
    "\n",
    "        # plot results\n",
    "        if 'PSNR' in metric_name:  \n",
    "            unit = ' (dB)'\n",
    "        else : unit = ''\n",
    "        plt.plot(learning_based_bitrates, learning_based_metric, label='Learning based', marker='o', markersize=3)\n",
    "        plt.plot(anchor1_bitrates, anchor1_metric, label='Anchor 1', marker='o', markersize=3)\n",
    "        plt.plot(anchor3_bitrates, anchor3_metric, label='Anchor 3', marker='o', markersize=3)\n",
    "        plt.plot(benchmark_codec_bitrates, benchmark_codec_metric, label='JPEG DNA Benchmark Codec', marker='o', markersize=3)\n",
    "        plt.xlabel('Rate (nts/pxl)')\n",
    "        plt.ylabel(metric_name + unit)\n",
    "        plt.title(metric_name +' of the image ' + str(img_number)+ ' of the ' + data_set +  ' set for different models')\n",
    "        plt.legend()\n",
    "        plt.savefig('plots/'+ data_set + '_' + metric_name +'im' + str(img_number) +'.jpeg')\n",
    "        plt.show()\n",
    "        \n",
    "    else : \n",
    "        print('Invalid data set name or metric name')\n",
    "        return"
   ]
  },
  {
   "cell_type": "code",
   "execution_count": 44,
   "id": "7a8a45d5",
   "metadata": {
    "scrolled": true
   },
   "outputs": [
    {
     "name": "stdout",
     "output_type": "stream",
     "text": [
      "1\n"
     ]
    },
    {
     "ename": "OSError",
     "evalue": "image file is truncated (70 bytes not processed)",
     "output_type": "error",
     "traceback": [
      "\u001b[0;31m---------------------------------------------------------------------------\u001b[0m",
      "\u001b[0;31mOSError\u001b[0m                                   Traceback (most recent call last)",
      "Cell \u001b[0;32mIn[44], line 1\u001b[0m\n\u001b[0;32m----> 1\u001b[0m \u001b[43mplot_metric\u001b[49m\u001b[43m(\u001b[49m\u001b[38;5;124;43m'\u001b[39;49m\u001b[38;5;124;43mMS-SSIM\u001b[39;49m\u001b[38;5;124;43m'\u001b[39;49m\u001b[43m,\u001b[49m\u001b[43m \u001b[49m\u001b[38;5;241;43m6\u001b[39;49m\u001b[43m,\u001b[49m\u001b[43m \u001b[49m\u001b[38;5;124;43m'\u001b[39;49m\u001b[38;5;124;43mjpeg_dna\u001b[39;49m\u001b[38;5;124;43m'\u001b[39;49m\u001b[43m)\u001b[49m\n",
      "Cell \u001b[0;32mIn[37], line 51\u001b[0m, in \u001b[0;36mplot_metric\u001b[0;34m(metric_name, img_number, data_set)\u001b[0m\n\u001b[1;32m     48\u001b[0m learning_based_bitrates\u001b[38;5;241m.\u001b[39mappend(compute_bit_rate(img, learning_based_dna))\n\u001b[1;32m     50\u001b[0m \u001b[38;5;66;03m# Load image, tensor and dna for anchor1, calculate bit rate\u001b[39;00m\n\u001b[0;32m---> 51\u001b[0m anchor1_img, anchor1_tensor \u001b[38;5;241m=\u001b[39m \u001b[43mget_decoded_tensor\u001b[49m\u001b[43m(\u001b[49m\u001b[43mdata_set\u001b[49m\u001b[43m,\u001b[49m\u001b[43m \u001b[49m\u001b[38;5;124;43m'\u001b[39;49m\u001b[38;5;124;43manchor1\u001b[39;49m\u001b[38;5;124;43m'\u001b[39;49m\u001b[43m,\u001b[49m\u001b[43m \u001b[49m\u001b[43mimg_number\u001b[49m\u001b[43m,\u001b[49m\u001b[43m \u001b[49m\u001b[43mquality\u001b[49m\u001b[43m)\u001b[49m\n\u001b[1;32m     52\u001b[0m anchor1_dna \u001b[38;5;241m=\u001b[39m get_dna(data_set, \u001b[38;5;124m'\u001b[39m\u001b[38;5;124manchor1\u001b[39m\u001b[38;5;124m'\u001b[39m, img_number,quality)\n\u001b[1;32m     53\u001b[0m anchor1_bitrates\u001b[38;5;241m.\u001b[39mappend(compute_bit_rate(img, anchor1_dna))\n",
      "Cell \u001b[0;32mIn[11], line 3\u001b[0m, in \u001b[0;36mget_decoded_tensor\u001b[0;34m(data_set, model_name, img_number, quality)\u001b[0m\n\u001b[1;32m      1\u001b[0m \u001b[38;5;28;01mdef\u001b[39;00m \u001b[38;5;21mget_decoded_tensor\u001b[39m(data_set, model_name, img_number, quality):\n\u001b[1;32m      2\u001b[0m     path \u001b[38;5;241m=\u001b[39m get_decoded_image_path(data_set, model_name, img_number, quality)\n\u001b[0;32m----> 3\u001b[0m     img \u001b[38;5;241m=\u001b[39m \u001b[43mImage\u001b[49m\u001b[38;5;241;43m.\u001b[39;49m\u001b[43mopen\u001b[49m\u001b[43m(\u001b[49m\u001b[43mpath\u001b[49m\u001b[43m)\u001b[49m\u001b[38;5;241;43m.\u001b[39;49m\u001b[43mconvert\u001b[49m\u001b[43m(\u001b[49m\u001b[38;5;124;43m'\u001b[39;49m\u001b[38;5;124;43mRGB\u001b[39;49m\u001b[38;5;124;43m'\u001b[39;49m\u001b[43m)\u001b[49m   \n\u001b[1;32m      4\u001b[0m     x \u001b[38;5;241m=\u001b[39m transforms\u001b[38;5;241m.\u001b[39mToTensor()(img)\u001b[38;5;241m.\u001b[39munsqueeze(\u001b[38;5;241m0\u001b[39m)\u001b[38;5;241m.\u001b[39mto(device)\n\u001b[1;32m      5\u001b[0m     \u001b[38;5;28;01mreturn\u001b[39;00m img, x\n",
      "File \u001b[0;32m/usr/local/lib/python3.9/site-packages/PIL/Image.py:934\u001b[0m, in \u001b[0;36mImage.convert\u001b[0;34m(self, mode, matrix, dither, palette, colors)\u001b[0m\n\u001b[1;32m    889\u001b[0m \u001b[38;5;28;01mdef\u001b[39;00m \u001b[38;5;21mconvert\u001b[39m(\n\u001b[1;32m    890\u001b[0m     \u001b[38;5;28mself\u001b[39m, mode\u001b[38;5;241m=\u001b[39m\u001b[38;5;28;01mNone\u001b[39;00m, matrix\u001b[38;5;241m=\u001b[39m\u001b[38;5;28;01mNone\u001b[39;00m, dither\u001b[38;5;241m=\u001b[39m\u001b[38;5;28;01mNone\u001b[39;00m, palette\u001b[38;5;241m=\u001b[39mPalette\u001b[38;5;241m.\u001b[39mWEB, colors\u001b[38;5;241m=\u001b[39m\u001b[38;5;241m256\u001b[39m\n\u001b[1;32m    891\u001b[0m ):\n\u001b[1;32m    892\u001b[0m     \u001b[38;5;124;03m\"\"\"\u001b[39;00m\n\u001b[1;32m    893\u001b[0m \u001b[38;5;124;03m    Returns a converted copy of this image. For the \"P\" mode, this\u001b[39;00m\n\u001b[1;32m    894\u001b[0m \u001b[38;5;124;03m    method translates pixels through the palette.  If mode is\u001b[39;00m\n\u001b[0;32m   (...)\u001b[0m\n\u001b[1;32m    931\u001b[0m \u001b[38;5;124;03m    :returns: An :py:class:`~PIL.Image.Image` object.\u001b[39;00m\n\u001b[1;32m    932\u001b[0m \u001b[38;5;124;03m    \"\"\"\u001b[39;00m\n\u001b[0;32m--> 934\u001b[0m     \u001b[38;5;28;43mself\u001b[39;49m\u001b[38;5;241;43m.\u001b[39;49m\u001b[43mload\u001b[49m\u001b[43m(\u001b[49m\u001b[43m)\u001b[49m\n\u001b[1;32m    936\u001b[0m     has_transparency \u001b[38;5;241m=\u001b[39m \u001b[38;5;28mself\u001b[39m\u001b[38;5;241m.\u001b[39minfo\u001b[38;5;241m.\u001b[39mget(\u001b[38;5;124m\"\u001b[39m\u001b[38;5;124mtransparency\u001b[39m\u001b[38;5;124m\"\u001b[39m) \u001b[38;5;129;01mis\u001b[39;00m \u001b[38;5;129;01mnot\u001b[39;00m \u001b[38;5;28;01mNone\u001b[39;00m\n\u001b[1;32m    937\u001b[0m     \u001b[38;5;28;01mif\u001b[39;00m \u001b[38;5;129;01mnot\u001b[39;00m mode \u001b[38;5;129;01mand\u001b[39;00m \u001b[38;5;28mself\u001b[39m\u001b[38;5;241m.\u001b[39mmode \u001b[38;5;241m==\u001b[39m \u001b[38;5;124m\"\u001b[39m\u001b[38;5;124mP\u001b[39m\u001b[38;5;124m\"\u001b[39m:\n\u001b[1;32m    938\u001b[0m         \u001b[38;5;66;03m# determine default mode\u001b[39;00m\n",
      "File \u001b[0;32m/usr/local/lib/python3.9/site-packages/PIL/ImageFile.py:251\u001b[0m, in \u001b[0;36mImageFile.load\u001b[0;34m(self)\u001b[0m\n\u001b[1;32m    249\u001b[0m         \u001b[38;5;28;01mbreak\u001b[39;00m\n\u001b[1;32m    250\u001b[0m     \u001b[38;5;28;01melse\u001b[39;00m:\n\u001b[0;32m--> 251\u001b[0m         \u001b[38;5;28;01mraise\u001b[39;00m \u001b[38;5;167;01mOSError\u001b[39;00m(\n\u001b[1;32m    252\u001b[0m             \u001b[38;5;124m\"\u001b[39m\u001b[38;5;124mimage file is truncated \u001b[39m\u001b[38;5;124m\"\u001b[39m\n\u001b[1;32m    253\u001b[0m             \u001b[38;5;124mf\u001b[39m\u001b[38;5;124m\"\u001b[39m\u001b[38;5;124m(\u001b[39m\u001b[38;5;132;01m{\u001b[39;00m\u001b[38;5;28mlen\u001b[39m(b)\u001b[38;5;132;01m}\u001b[39;00m\u001b[38;5;124m bytes not processed)\u001b[39m\u001b[38;5;124m\"\u001b[39m\n\u001b[1;32m    254\u001b[0m         )\n\u001b[1;32m    256\u001b[0m b \u001b[38;5;241m=\u001b[39m b \u001b[38;5;241m+\u001b[39m s\n\u001b[1;32m    257\u001b[0m n, err_code \u001b[38;5;241m=\u001b[39m decoder\u001b[38;5;241m.\u001b[39mdecode(b)\n",
      "\u001b[0;31mOSError\u001b[0m: image file is truncated (70 bytes not processed)"
     ]
    }
   ],
   "source": [
    "plot_metric('MS-SSIM', 6, 'jpeg_dna')"
   ]
  },
  {
   "cell_type": "code",
   "execution_count": 46,
   "id": "a263d4b2",
   "metadata": {},
   "outputs": [
    {
     "name": "stderr",
     "output_type": "stream",
     "text": [
      "IOPub data rate exceeded.\n",
      "The notebook server will temporarily stop sending output\n",
      "to the client in order to avoid crashing it.\n",
      "To change this limit, set the config variable\n",
      "`--NotebookApp.iopub_data_rate_limit`.\n",
      "\n",
      "Current values:\n",
      "NotebookApp.iopub_data_rate_limit=1000000.0 (bytes/sec)\n",
      "NotebookApp.rate_limit_window=3.0 (secs)\n",
      "\n"
     ]
    }
   ],
   "source": [
    "dna = get_dna('jpeg_dna', 'anchor1', 6, 1) \n",
    "print(dna)"
   ]
  },
  {
   "cell_type": "code",
   "execution_count": 112,
   "id": "2088c1bd",
   "metadata": {},
   "outputs": [],
   "source": [
    "def plot_all_metrics(img_number, data_set = 'jpeg_dna'): \n",
    "        for metric in METRICS_LIST: \n",
    "            plot_metric(metric, img_number, data_set)\n",
    "        \n",
    "def plot_all(data_set = 'jpeg_dna'): \n",
    "    if data_set == 'jpeg_dna': \n",
    "        number_of_images = 10\n",
    "    elif data_set == 'kodak': \n",
    "        number_of_images = 24   \n",
    "    for img_id in range(1,number_of_images+1):\n",
    "        plot_all_metrics(img_id, data_set)\n",
    "\n",
    "#plot_all()"
   ]
  },
  {
   "cell_type": "code",
   "execution_count": 114,
   "id": "99db4591",
   "metadata": {},
   "outputs": [],
   "source": [
    "def plot_avg_metric(metric_name, data_set = 'jpeg_dna'): \n",
    "    \"\"\"\n",
    "    Plots the average across all the images of the kodak data set of the quality metric \n",
    "    given by metric_name. The images are encoded by different models. \n",
    "    \n",
    "    Parameters\n",
    "    ----------\n",
    "    metric_name: string \n",
    "        name of the metric to be plotted\n",
    "        'PSNR', 'MSSSIM', or 'IWSSIM'\n",
    "    data_set : string\n",
    "        name of the data set on which to perform the computations\n",
    "        'jpeg_dna' or 'kodak'\n",
    "    Returns\n",
    "    -------\n",
    "    A plot saved in the folder /plots\n",
    "    \"\"\"\n",
    "    \n",
    "    # Check input\n",
    "    if (metric_name not in METRICS_LIST) or (data_set not in DATA_SET_LIST): \n",
    "        print ('Invalid metric name or data set. ')\n",
    "        return\n",
    "        \n",
    "    if data_set == 'kodak': \n",
    "        number_of_images = 24\n",
    "    elif data_set == 'jpeg_dna': \n",
    "        number_of_images = 10\n",
    "\n",
    "    # Initialize empty lists to store average metrics and bit rates for each anchor type\n",
    "    learning_based_avg_metrics = []\n",
    "    anchor1_avg_metrics = []\n",
    "    anchor3_avg_metrics = []\n",
    "    benchmark_codec_avg_metrics = []\n",
    "\n",
    "    learning_based_avg_bitrates = []\n",
    "    anchor1_avg_bitrates = []\n",
    "    anchor3_avg_bitrates = []\n",
    "    benchmark_codec_avg_bitrates = []\n",
    "\n",
    "    # Loop through quality levels 1-8\n",
    "    for quality in range(1, 9):\n",
    "        # Initialize empty lists to store metrics and bit rates for all images at the current quality level\n",
    "        learning_based_metric = []\n",
    "        anchor1_metric = [] \n",
    "        anchor3_metric = []\n",
    "        benchmark_codec_metric = []\n",
    "\n",
    "        learning_based_bitrates = []\n",
    "        anchor1_bitrates = []\n",
    "        anchor3_bitrates = []\n",
    "        benchmark_codec_bitrates = []\n",
    "        # Loop through images 1-24 (kodak data set)\n",
    "        for img_id in range(1, number_of_images+1):\n",
    "            img, x = get_original_tensor(data_set,img_id)\n",
    "\n",
    "            # Load image, tensor and dna for the learning-based method and calculate bit rate\n",
    "            learning_based_img, learning_based_tensor = get_decoded_tensor(data_set, 'learningbased', img_id, quality)\n",
    "            learning_based_dna = get_dna(data_set, 'learningbased', img_id, quality)\n",
    "            learning_based_bitrates.append(compute_bit_rate(learning_based_img, learning_based_dna))\n",
    "\n",
    "            # Load image, tensor and dna for anchor1, calculate bit rate\n",
    "            anchor1_img, anchor1_tensor = get_decoded_tensor(data_set, 'anchor1', img_id, quality)\n",
    "            anchor1_dna = get_dna(data_set, 'anchor1', img_id, quality)\n",
    "            anchor1_bitrates.append(compute_bit_rate(anchor1_img, anchor1_dna))\n",
    "\n",
    "            # Load image, tensor and dna for anchor3, calculate bit rate\n",
    "            anchor3_img, anchor3_tensor = get_decoded_tensor(data_set, 'anchor3', img_id, quality)\n",
    "            anchor3_dna = get_dna(data_set, 'anchor3', img_id, quality)\n",
    "            anchor3_bitrates.append(compute_bit_rate(anchor3_img, anchor3_dna))\n",
    "\n",
    "            # Load image, tensor and dna for the JPEG DNA benchmark codec, calculate bit rate\n",
    "            benchmark_codec_img, benchmark_codec_tensor = get_decoded_tensor(data_set, 'benchmarkcodec', img_id, quality)\n",
    "            benchmark_codec_dna = get_dna(data_set, 'benchmarkcodec', img_id, quality)\n",
    "            benchmark_codec_bitrates.append(compute_bit_rate(benchmark_codec_img, benchmark_codec_dna))\n",
    "\n",
    "            # Calculate metric for each model and add to corresponding list\n",
    "            learning_based_metric.append(compute_metric(metric_name, x, learning_based_tensor))\n",
    "            anchor1_metric.append(compute_metric(metric_name, x, anchor1_tensor))\n",
    "            anchor3_metric.append(compute_metric(metric_name, x, anchor3_tensor))\n",
    "            benchmark_codec_metric.append(compute_metric(metric_name, x, benchmark_codec_tensor))\n",
    "\n",
    "        # Calculate the average bit rate and metric, and add them to the corresponding lists \n",
    "        learning_based_avg_bitrates.append(mean(learning_based_bitrates))\n",
    "        learning_based_avg_metrics.append(mean(learning_based_metric))\n",
    "        anchor1_avg_bitrates.append(mean(anchor1_bitrates))\n",
    "        anchor1_avg_metrics.append(mean(anchor1_metric))\n",
    "        anchor3_avg_bitrates.append(mean(anchor3_bitrates))\n",
    "        anchor3_avg_metrics.append(mean(anchor3_metric))\n",
    "        benchmark_codec_avg_bitrates.append(mean(benchmark_codec_bitrates))\n",
    "        benchmark_codec_avg_metrics.append(mean(benchmark_codec_metric))\n",
    "\n",
    "    # Plot the result\n",
    "    unit = ''\n",
    "    if 'PSNR' in metric_name: \n",
    "        unit = (' (dB)')\n",
    "    plt.plot(learning_based_avg_bitrates, learning_based_avg_metrics, label='Learning based', marker='o', markersize=3)\n",
    "    plt.plot(anchor1_avg_bitrates, anchor1_avg_metrics, label='Anchor 1', marker='o', markersize=3)\n",
    "    plt.plot(anchor3_avg_bitrates, anchor3_avg_metrics, label='Anchor 3', marker='o', markersize=3)\n",
    "    plt.plot(benchmark_codec_avg_bitrates, benchmark_codec_avg_metrics, label='JPEG DNA Benchmark Codec', marker='o', markersize=3)\n",
    "    plt.xlabel('Rate (nts/pxl)')\n",
    "    plt.ylabel(metric_name + unit)\n",
    "    plt.title('Average ' + metric_name +' across the ' + data_set + ' data set for different models')\n",
    "    plt.legend()\n",
    "    plt.savefig('plots/avg_'+ data_set + '_' + metric_name +'.jpeg')\n",
    "    plt.show()\n",
    "\n",
    "    "
   ]
  },
  {
   "cell_type": "code",
   "execution_count": 166,
   "id": "6257de4e",
   "metadata": {
    "scrolled": true
   },
   "outputs": [
    {
     "ename": "KeyboardInterrupt",
     "evalue": "",
     "output_type": "error",
     "traceback": [
      "\u001b[0;31m---------------------------------------------------------------------------\u001b[0m",
      "\u001b[0;31mKeyboardInterrupt\u001b[0m                         Traceback (most recent call last)",
      "Cell \u001b[0;32mIn[166], line 1\u001b[0m\n\u001b[0;32m----> 1\u001b[0m \u001b[43mplot_avg_metric\u001b[49m\u001b[43m(\u001b[49m\u001b[38;5;124;43m'\u001b[39;49m\u001b[38;5;124;43mVIF\u001b[39;49m\u001b[38;5;124;43m'\u001b[39;49m\u001b[43m,\u001b[49m\u001b[43m \u001b[49m\u001b[38;5;124;43m'\u001b[39;49m\u001b[38;5;124;43mkodak\u001b[39;49m\u001b[38;5;124;43m'\u001b[39;49m\u001b[43m)\u001b[49m\n",
      "Cell \u001b[0;32mIn[114], line 77\u001b[0m, in \u001b[0;36mplot_avg_metric\u001b[0;34m(metric_name, data_set)\u001b[0m\n\u001b[1;32m     74\u001b[0m benchmark_codec_bitrates\u001b[38;5;241m.\u001b[39mappend(compute_bit_rate(benchmark_codec_img, benchmark_codec_dna))\n\u001b[1;32m     76\u001b[0m \u001b[38;5;66;03m# Calculate metric for each model and add to corresponding list\u001b[39;00m\n\u001b[0;32m---> 77\u001b[0m learning_based_metric\u001b[38;5;241m.\u001b[39mappend(\u001b[43mcompute_metric\u001b[49m\u001b[43m(\u001b[49m\u001b[43mmetric_name\u001b[49m\u001b[43m,\u001b[49m\u001b[43m \u001b[49m\u001b[43mx\u001b[49m\u001b[43m,\u001b[49m\u001b[43m \u001b[49m\u001b[43mlearning_based_tensor\u001b[49m\u001b[43m)\u001b[49m)\n\u001b[1;32m     78\u001b[0m anchor1_metric\u001b[38;5;241m.\u001b[39mappend(compute_metric(metric_name, x, anchor1_tensor))\n\u001b[1;32m     79\u001b[0m anchor3_metric\u001b[38;5;241m.\u001b[39mappend(compute_metric(metric_name, x, anchor3_tensor))\n",
      "Cell \u001b[0;32mIn[153], line 43\u001b[0m, in \u001b[0;36mcompute_metric\u001b[0;34m(metric_name, original_tensor, reconstructed_tensor)\u001b[0m\n\u001b[1;32m     40\u001b[0m     \u001b[38;5;28;01mreturn\u001b[39;00m compute_nlpd(original_tensor, reconstructed_tensor)\n\u001b[1;32m     42\u001b[0m \u001b[38;5;28;01melif\u001b[39;00m metric_name \u001b[38;5;241m==\u001b[39m \u001b[38;5;124m'\u001b[39m\u001b[38;5;124mVIF\u001b[39m\u001b[38;5;124m'\u001b[39m: \n\u001b[0;32m---> 43\u001b[0m     \u001b[38;5;28;01mreturn\u001b[39;00m \u001b[43mcompute_vif\u001b[49m\u001b[43m(\u001b[49m\u001b[43moriginal_tensor\u001b[49m\u001b[43m,\u001b[49m\u001b[43m \u001b[49m\u001b[43mreconstructed_tensor\u001b[49m\u001b[43m)\u001b[49m\n\u001b[1;32m     44\u001b[0m \u001b[38;5;28;01melse\u001b[39;00m:\n\u001b[1;32m     45\u001b[0m     \u001b[38;5;28mprint\u001b[39m(\u001b[38;5;124m\"\u001b[39m\u001b[38;5;124mInvalid argument : \u001b[39m\u001b[38;5;124m\"\u001b[39m \u001b[38;5;241m+\u001b[39m metric_name \u001b[38;5;241m+\u001b[39m \u001b[38;5;124m\"\u001b[39m\u001b[38;5;124m.\u001b[39m\u001b[38;5;124m\"\u001b[39m)\n",
      "Cell \u001b[0;32mIn[161], line 8\u001b[0m, in \u001b[0;36mcompute_vif\u001b[0;34m(original_tensor, reconstructed_tensor)\u001b[0m\n\u001b[1;32m      6\u001b[0m score_num \u001b[38;5;241m=\u001b[39m score\u001b[38;5;241m.\u001b[39mitem()\n\u001b[1;32m      7\u001b[0m \u001b[38;5;66;03m# set 'as_loss=True' to get a value as loss for optimizations.\u001b[39;00m\n\u001b[0;32m----> 8\u001b[0m loss \u001b[38;5;241m=\u001b[39m \u001b[43mD\u001b[49m\u001b[43m(\u001b[49m\u001b[43mreconstructed_tensor\u001b[49m\u001b[43m,\u001b[49m\u001b[43m \u001b[49m\u001b[43moriginal_tensor\u001b[49m\u001b[43m)\u001b[49m\n\u001b[1;32m      9\u001b[0m loss\u001b[38;5;241m.\u001b[39mbackward()\n\u001b[1;32m     10\u001b[0m \u001b[38;5;28;01mreturn\u001b[39;00m score_num\n",
      "File \u001b[0;32m/usr/local/lib/python3.9/site-packages/torch/nn/modules/module.py:1194\u001b[0m, in \u001b[0;36mModule._call_impl\u001b[0;34m(self, *input, **kwargs)\u001b[0m\n\u001b[1;32m   1190\u001b[0m \u001b[38;5;66;03m# If we don't have any hooks, we want to skip the rest of the logic in\u001b[39;00m\n\u001b[1;32m   1191\u001b[0m \u001b[38;5;66;03m# this function, and just call forward.\u001b[39;00m\n\u001b[1;32m   1192\u001b[0m \u001b[38;5;28;01mif\u001b[39;00m \u001b[38;5;129;01mnot\u001b[39;00m (\u001b[38;5;28mself\u001b[39m\u001b[38;5;241m.\u001b[39m_backward_hooks \u001b[38;5;129;01mor\u001b[39;00m \u001b[38;5;28mself\u001b[39m\u001b[38;5;241m.\u001b[39m_forward_hooks \u001b[38;5;129;01mor\u001b[39;00m \u001b[38;5;28mself\u001b[39m\u001b[38;5;241m.\u001b[39m_forward_pre_hooks \u001b[38;5;129;01mor\u001b[39;00m _global_backward_hooks\n\u001b[1;32m   1193\u001b[0m         \u001b[38;5;129;01mor\u001b[39;00m _global_forward_hooks \u001b[38;5;129;01mor\u001b[39;00m _global_forward_pre_hooks):\n\u001b[0;32m-> 1194\u001b[0m     \u001b[38;5;28;01mreturn\u001b[39;00m \u001b[43mforward_call\u001b[49m\u001b[43m(\u001b[49m\u001b[38;5;241;43m*\u001b[39;49m\u001b[38;5;28;43minput\u001b[39;49m\u001b[43m,\u001b[49m\u001b[43m \u001b[49m\u001b[38;5;241;43m*\u001b[39;49m\u001b[38;5;241;43m*\u001b[39;49m\u001b[43mkwargs\u001b[49m\u001b[43m)\u001b[49m\n\u001b[1;32m   1195\u001b[0m \u001b[38;5;66;03m# Do not call functions when jit is used\u001b[39;00m\n\u001b[1;32m   1196\u001b[0m full_backward_hooks, non_full_backward_hooks \u001b[38;5;241m=\u001b[39m [], []\n",
      "File \u001b[0;32m/usr/local/lib/python3.9/site-packages/IQA_pytorch/VIF.py:158\u001b[0m, in \u001b[0;36mVIF.forward\u001b[0;34m(self, y, x, as_loss)\u001b[0m\n\u001b[1;32m    156\u001b[0m y \u001b[38;5;241m=\u001b[39m y \u001b[38;5;241m*\u001b[39m \u001b[38;5;241m255\u001b[39m\n\u001b[1;32m    157\u001b[0m \u001b[38;5;28;01mif\u001b[39;00m as_loss:\n\u001b[0;32m--> 158\u001b[0m     score \u001b[38;5;241m=\u001b[39m \u001b[38;5;28;43mself\u001b[39;49m\u001b[38;5;241;43m.\u001b[39;49m\u001b[43mvif\u001b[49m\u001b[43m(\u001b[49m\u001b[43mx\u001b[49m\u001b[43m,\u001b[49m\u001b[43m \u001b[49m\u001b[43my\u001b[49m\u001b[43m)\u001b[49m\n\u001b[1;32m    159\u001b[0m     \u001b[38;5;28;01mreturn\u001b[39;00m \u001b[38;5;241m1\u001b[39m \u001b[38;5;241m-\u001b[39m score\u001b[38;5;241m.\u001b[39mmean()\n\u001b[1;32m    160\u001b[0m \u001b[38;5;28;01melse\u001b[39;00m:\n",
      "File \u001b[0;32m/usr/local/lib/python3.9/site-packages/IQA_pytorch/VIF.py:121\u001b[0m, in \u001b[0;36mVIF.vif\u001b[0;34m(self, x, y)\u001b[0m\n\u001b[1;32m    119\u001b[0m sp_x \u001b[38;5;241m=\u001b[39m SteerablePyramidSpace(x, height\u001b[38;5;241m=\u001b[39m\u001b[38;5;28mself\u001b[39m\u001b[38;5;241m.\u001b[39mlevel, order\u001b[38;5;241m=\u001b[39m\u001b[38;5;28mself\u001b[39m\u001b[38;5;241m.\u001b[39mori, channels\u001b[38;5;241m=\u001b[39m\u001b[38;5;28mself\u001b[39m\u001b[38;5;241m.\u001b[39mchannels)[::\u001b[38;5;241m-\u001b[39m\u001b[38;5;241m1\u001b[39m]\n\u001b[1;32m    120\u001b[0m sp_y \u001b[38;5;241m=\u001b[39m SteerablePyramidSpace(y, height\u001b[38;5;241m=\u001b[39m\u001b[38;5;28mself\u001b[39m\u001b[38;5;241m.\u001b[39mlevel, order\u001b[38;5;241m=\u001b[39m\u001b[38;5;28mself\u001b[39m\u001b[38;5;241m.\u001b[39mori, channels\u001b[38;5;241m=\u001b[39m\u001b[38;5;28mself\u001b[39m\u001b[38;5;241m.\u001b[39mchannels)[::\u001b[38;5;241m-\u001b[39m\u001b[38;5;241m1\u001b[39m]\n\u001b[0;32m--> 121\u001b[0m g_all, vv_all \u001b[38;5;241m=\u001b[39m \u001b[38;5;28;43mself\u001b[39;49m\u001b[38;5;241;43m.\u001b[39;49m\u001b[43mvifsub_est_M\u001b[49m\u001b[43m(\u001b[49m\u001b[43msp_y\u001b[49m\u001b[43m,\u001b[49m\u001b[43m \u001b[49m\u001b[43msp_x\u001b[49m\u001b[43m)\u001b[49m\n\u001b[1;32m    122\u001b[0m ss_arr, l_arr, cu_arr \u001b[38;5;241m=\u001b[39m \u001b[38;5;28mself\u001b[39m\u001b[38;5;241m.\u001b[39mrefparams_vecgsm(sp_y)\n\u001b[1;32m    123\u001b[0m num, den \u001b[38;5;241m=\u001b[39m [], []\n",
      "File \u001b[0;32m/usr/local/lib/python3.9/site-packages/IQA_pytorch/VIF.py:59\u001b[0m, in \u001b[0;36mVIF.vifsub_est_M\u001b[0;34m(self, org, dist)\u001b[0m\n\u001b[1;32m     57\u001b[0m cov_xy \u001b[38;5;241m=\u001b[39m \u001b[38;5;28mself\u001b[39m\u001b[38;5;241m.\u001b[39mcorrDn(y\u001b[38;5;241m*\u001b[39myn, win, step\u001b[38;5;241m=\u001b[39m\u001b[38;5;28mself\u001b[39m\u001b[38;5;241m.\u001b[39mM, channels\u001b[38;5;241m=\u001b[39m\u001b[38;5;28mself\u001b[39m\u001b[38;5;241m.\u001b[39mchannels,start\u001b[38;5;241m=\u001b[39mwinstart,end\u001b[38;5;241m=\u001b[39mwinend) \u001b[38;5;241m-\u001b[39m (winsize\u001b[38;5;241m*\u001b[39m\u001b[38;5;241m*\u001b[39m\u001b[38;5;241m2\u001b[39m)\u001b[38;5;241m*\u001b[39mmean_x\u001b[38;5;241m*\u001b[39mmean_y\n\u001b[1;32m     58\u001b[0m ss_x \u001b[38;5;241m=\u001b[39m \u001b[38;5;28mself\u001b[39m\u001b[38;5;241m.\u001b[39mcorrDn(y\u001b[38;5;241m*\u001b[39m\u001b[38;5;241m*\u001b[39m\u001b[38;5;241m2\u001b[39m,win, step\u001b[38;5;241m=\u001b[39m\u001b[38;5;28mself\u001b[39m\u001b[38;5;241m.\u001b[39mM, channels\u001b[38;5;241m=\u001b[39m\u001b[38;5;28mself\u001b[39m\u001b[38;5;241m.\u001b[39mchannels,start\u001b[38;5;241m=\u001b[39mwinstart,end\u001b[38;5;241m=\u001b[39mwinend) \u001b[38;5;241m-\u001b[39m (winsize\u001b[38;5;241m*\u001b[39m\u001b[38;5;241m*\u001b[39m\u001b[38;5;241m2\u001b[39m)\u001b[38;5;241m*\u001b[39mmean_x\u001b[38;5;241m*\u001b[39m\u001b[38;5;241m*\u001b[39m\u001b[38;5;241m2\u001b[39m\n\u001b[0;32m---> 59\u001b[0m ss_y \u001b[38;5;241m=\u001b[39m \u001b[38;5;28mself\u001b[39m\u001b[38;5;241m.\u001b[39mcorrDn(\u001b[43myn\u001b[49m\u001b[38;5;241;43m*\u001b[39;49m\u001b[38;5;241;43m*\u001b[39;49m\u001b[38;5;241;43m2\u001b[39;49m,win, step\u001b[38;5;241m=\u001b[39m\u001b[38;5;28mself\u001b[39m\u001b[38;5;241m.\u001b[39mM, channels\u001b[38;5;241m=\u001b[39m\u001b[38;5;28mself\u001b[39m\u001b[38;5;241m.\u001b[39mchannels,start\u001b[38;5;241m=\u001b[39mwinstart,end\u001b[38;5;241m=\u001b[39mwinend) \u001b[38;5;241m-\u001b[39m (winsize\u001b[38;5;241m*\u001b[39m\u001b[38;5;241m*\u001b[39m\u001b[38;5;241m2\u001b[39m)\u001b[38;5;241m*\u001b[39mmean_y\u001b[38;5;241m*\u001b[39m\u001b[38;5;241m*\u001b[39m\u001b[38;5;241m2\u001b[39m\n\u001b[1;32m     61\u001b[0m ss_x \u001b[38;5;241m=\u001b[39m F\u001b[38;5;241m.\u001b[39mrelu(ss_x)\n\u001b[1;32m     62\u001b[0m ss_y \u001b[38;5;241m=\u001b[39m F\u001b[38;5;241m.\u001b[39mrelu(ss_y)\n",
      "File \u001b[0;32m/usr/local/lib/python3.9/site-packages/torch/_tensor.py:39\u001b[0m, in \u001b[0;36m_handle_torch_function_and_wrap_type_error_to_not_implemented.<locals>.wrapped\u001b[0;34m(*args, **kwargs)\u001b[0m\n\u001b[1;32m     37\u001b[0m     \u001b[38;5;28;01mif\u001b[39;00m has_torch_function(args):\n\u001b[1;32m     38\u001b[0m         \u001b[38;5;28;01mreturn\u001b[39;00m handle_torch_function(wrapped, args, \u001b[38;5;241m*\u001b[39margs, \u001b[38;5;241m*\u001b[39m\u001b[38;5;241m*\u001b[39mkwargs)\n\u001b[0;32m---> 39\u001b[0m     \u001b[38;5;28;01mreturn\u001b[39;00m \u001b[43mf\u001b[49m\u001b[43m(\u001b[49m\u001b[38;5;241;43m*\u001b[39;49m\u001b[43margs\u001b[49m\u001b[43m,\u001b[49m\u001b[43m \u001b[49m\u001b[38;5;241;43m*\u001b[39;49m\u001b[38;5;241;43m*\u001b[39;49m\u001b[43mkwargs\u001b[49m\u001b[43m)\u001b[49m\n\u001b[1;32m     40\u001b[0m \u001b[38;5;28;01mexcept\u001b[39;00m \u001b[38;5;167;01mTypeError\u001b[39;00m:\n\u001b[1;32m     41\u001b[0m     \u001b[38;5;28;01mreturn\u001b[39;00m \u001b[38;5;28mNotImplemented\u001b[39m\n",
      "\u001b[0;31mKeyboardInterrupt\u001b[0m: "
     ]
    }
   ],
   "source": [
    "plot_avg_metric('VIF', 'kodak')"
   ]
  },
  {
   "cell_type": "code",
   "execution_count": 36,
   "id": "26910ef9",
   "metadata": {},
   "outputs": [],
   "source": [
    "def plot_all_average_metrics(data_set='jpeg_dna'):\n",
    "    \"\"\"\n",
    "    Plots the average PSNR, MSSSIM, and IW-SSIM across all the images of the kodak data set \n",
    "    at different quality levels.\n",
    "    The images are encoded by different models. \n",
    "    \"\"\"\n",
    "    for metric in METRICS_LIST : \n",
    "        plot_avg_metric(metric, data_set)\n",
    "    "
   ]
  },
  {
   "cell_type": "code",
   "execution_count": 49,
   "id": "d366b712",
   "metadata": {
    "scrolled": true
   },
   "outputs": [
    {
     "data": {
      "image/png": "[encoded data removed]",
      "text/plain": [
       "<Figure size 432x288 with 1 Axes>"
      ]
     },
     "metadata": {
      "needs_background": "light"
     },
     "output_type": "display_data"
    },
    {
     "data": {
      "image/png": "[encoded data removed]",
      "text/plain": [
       "<Figure size 432x288 with 1 Axes>"
      ]
     },
     "metadata": {
      "needs_background": "light"
     },
     "output_type": "display_data"
    },
    {
     "data": {
      "image/png": "[encoded data removed]",
      "text/plain": [
       "<Figure size 432x288 with 1 Axes>"
      ]
     },
     "metadata": {
      "needs_background": "light"
     },
     "output_type": "display_data"
    },
    {
     "data": {
      "image/png": "[encoded data removed]",
      "text/plain": [
       "<Figure size 432x288 with 1 Axes>"
      ]
     },
     "metadata": {
      "needs_background": "light"
     },
     "output_type": "display_data"
    }
   ],
   "source": [
    "#plot_all_average_metrics('jpeg_dna')"
   ]
  },
  {
   "cell_type": "code",
   "execution_count": null,
   "id": "c8876e26",
   "metadata": {},
   "outputs": [],
   "source": []
  },
  {
   "cell_type": "code",
   "execution_count": null,
   "id": "a86cc9f5",
   "metadata": {},
   "outputs": [],
   "source": []
  },
  {
   "cell_type": "code",
   "execution_count": null,
   "id": "494eb7e0",
   "metadata": {},
   "outputs": [],
   "source": []
  },
  {
   "cell_type": "code",
   "execution_count": null,
   "id": "8705898b",
   "metadata": {},
   "outputs": [],
   "source": []
  },
  {
   "cell_type": "code",
   "execution_count": null,
   "id": "2e4830d2",
   "metadata": {},
   "outputs": [],
   "source": []
  },
  {
   "cell_type": "code",
   "execution_count": null,
   "id": "a0f5981b",
   "metadata": {},
   "outputs": [],
   "source": []
  },
  {
   "cell_type": "code",
   "execution_count": null,
   "id": "979d2cbd",
   "metadata": {},
   "outputs": [],
   "source": []
  },
  {
   "cell_type": "code",
   "execution_count": null,
   "id": "91721db2",
   "metadata": {},
   "outputs": [],
   "source": []
  }
 ],
 "metadata": {
  "kernelspec": {
   "display_name": "Python 3 (ipykernel)",
   "language": "python",
   "name": "python3"
  },
  "language_info": {
   "codemirror_mode": {
    "name": "ipython",
    "version": 3
   },
   "file_extension": ".py",
   "mimetype": "text/x-python",
   "name": "python",
   "nbconvert_exporter": "python",
   "pygments_lexer": "ipython3",
   "version": "3.9.12"
  }
 },
 "nbformat": 4,
 "nbformat_minor": 5
}
