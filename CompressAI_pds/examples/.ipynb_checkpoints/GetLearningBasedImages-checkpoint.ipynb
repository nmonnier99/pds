{
 "cells": [
  {
   "cell_type": "code",
   "execution_count": 23,
   "id": "ee6eb85a",
   "metadata": {},
   "outputs": [],
   "source": [
    "import math\n",
    "import io\n",
    "import torch\n",
    "from torchvision import transforms\n",
    "import numpy as np\n",
    "import pickle\n",
    "import re\n",
    "import scipy.stats as st\n",
    "import PIL\n",
    "from collections import Counter\n",
    "from PIL import Image\n",
    "from PIL import ImageChops\n",
    "import imageio\n",
    "import matplotlib.pyplot as plt\n",
    "import compressai\n",
    "\n",
    "from pytorch_msssim import ms_ssim\n",
    "from compressai.zoo import bmshj2018_factorized\n",
    "from compressai.dna_entropy_coding.coder import Coder\n",
    "from ipywidgets import interact, widgets"
   ]
  },
  {
   "cell_type": "code",
   "execution_count": 24,
   "id": "0c3eaaed",
   "metadata": {},
   "outputs": [],
   "source": [
    "device = 'cuda' if torch.cuda.is_available() else 'cpu'"
   ]
  },
  {
   "cell_type": "code",
   "execution_count": 25,
   "id": "e7f878d5",
   "metadata": {},
   "outputs": [],
   "source": [
    "def get_kodim_tensor(img_number): \n",
    "    img_name = '/kodim{:02d}.png'.format(img_number)\n",
    "    img = Image.open('./assets'+ img_name).convert('RGB')\n",
    "    x = transforms.ToTensor()(img).unsqueeze(0).to(device)\n",
    "    return img, x"
   ]
  },
  {
   "cell_type": "code",
   "execution_count": 28,
   "id": "1e9751ef",
   "metadata": {},
   "outputs": [],
   "source": [
    "for i in range(1,25): \n",
    "    for q in range(1, 9): \n",
    "        img, x = get_kodim_tensor(i)\n",
    "        x_hat, dna = compute_x_hat(x, q)\n",
    "        \n",
    "        img_decoded = transforms.ToPILImage()(x_hat.squeeze().cpu())\n",
    "        path = 'assets/transcoder/'\n",
    "        img_name = '{}kodim{:02d}.png'.format(q, i)\n",
    "        img_path = path + img_name\n",
    "        imageio.imwrite(img_path, img_decoded)\n",
    "        \n",
    "        dna_name = '{}kodim{:02d}.fasta'.format(q, i)\n",
    "        dna_path = path + dna_name\n",
    "        with open(dna_path, 'w') as f:\n",
    "            f.write(dna)"
   ]
  },
  {
   "cell_type": "code",
   "execution_count": 1,
   "id": "7498f765",
   "metadata": {},
   "outputs": [],
   "source": [
    "def get_original_tensor(img_number, data_set='jpeg_dna'): \n",
    "    if data_set == 'kodak':\n",
    "        img_name = '/kodim{:02d}.png'.format(img_number)\n",
    "        \n",
    "    if data_set == 'jpeg_dna': \n",
    "        img_name = f\"/{str(img_number).zfill(5)}_\" + JPEG_SIZES[img_number-1]+'.png'\n",
    "        \n",
    "    img = Image.open('./assets/' + data_set + img_name).convert('RGB')\n",
    "    x = transforms.ToTensor()(img).unsqueeze(0).to(device)\n",
    "    return img, x"
   ]
  },
  {
   "cell_type": "code",
   "execution_count": null,
   "id": "06303dfa",
   "metadata": {},
   "outputs": [],
   "source": [
    "for i in range (1, 11): \n",
    "    for q in range(1,11): \n",
    "        img, x = get_original_tensor(i)\n",
    "        x_hat, dna = compute_x_hat(x, q)\n",
    "\n",
    "        img_decoded = transforms.ToPILImage()(x_hat.squeeze().cpu())\n",
    "        path = 'assets/jpeg_dna/learningbased/'\n",
    "        img_name = f\"/JPEG-1_{str(i).zfill(5)}\" + '_' + JPEG_SIZES[i-1] + '_' + str(q) + '_decoded' + '.jpg'\n",
    "        img_path = path + img_name\n",
    "        imageio.imwrite(img_path, img_decoded)\n",
    "        \n",
    "        dna_name = f\"/JPEG-1_{str(i).zfill(5)}\" + '_' + JPEG_SIZES[i-1] + '_' + str(q) + '_decoded' + '.fasta'\n",
    "        dna_path = path + dna_name\n",
    "        with open(dna_path, 'w') as f:\n",
    "            f.write(dna)"
   ]
  },
  {
   "cell_type": "code",
   "execution_count": null,
   "id": "6725e89a",
   "metadata": {},
   "outputs": [],
   "source": []
  },
  {
   "cell_type": "code",
   "execution_count": null,
   "id": "6d3ea563",
   "metadata": {},
   "outputs": [],
   "source": []
  }
 ],
 "metadata": {
  "kernelspec": {
   "display_name": "Python 3 (ipykernel)",
   "language": "python",
   "name": "python3"
  },
  "language_info": {
   "codemirror_mode": {
    "name": "ipython",
    "version": 3
   },
   "file_extension": ".py",
   "mimetype": "text/x-python",
   "name": "python",
   "nbconvert_exporter": "python",
   "pygments_lexer": "ipython3",
   "version": "3.9.12"
  }
 },
 "nbformat": 4,
 "nbformat_minor": 5
}
