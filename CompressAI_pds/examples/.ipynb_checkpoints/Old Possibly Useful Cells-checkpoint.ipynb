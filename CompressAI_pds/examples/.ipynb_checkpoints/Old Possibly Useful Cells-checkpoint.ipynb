{
 "cells": [
  {
   "cell_type": "code",
   "execution_count": null,
   "id": "00228fea",
   "metadata": {},
   "outputs": [],
   "source": [
    "x_hat_dna = transforms.ToPILImage()(out_net_dna['x_hat'].squeeze().cpu())\n",
    "x_hat = transforms.ToPILImage()(out_net['x_hat'].squeeze().cpu())\n",
    "diff = torch.mean((out_net_dna['x_hat'] - out_net['x_hat']).abs(), axis=1).squeeze().cpu()\n",
    "\n",
    "\n",
    "%matplotlib inline\n",
    "fix, axes = plt.subplots(1, 3, figsize=(16, 12))\n",
    "for ax in axes:\n",
    "    ax.axis('off')\n",
    "    \n",
    "axes[0].imshow(x_hat_dna)\n",
    "axes[0].title.set_text('Reconstructed with DNA')\n",
    "\n",
    "axes[1].imshow(x_hat)\n",
    "axes[1].title.set_text('Reconstructed without DNA')\n",
    "\n",
    "axes[2].imshow(diff, cmap='viridis')\n",
    "axes[2].title.set_text('Difference')\n",
    "\n",
    "plt.show()"
   ]
  },
  {
   "cell_type": "code",
   "execution_count": null,
   "id": "ea16e38d",
   "metadata": {},
   "outputs": [],
   "source": [
    "print(torch.max(torch.abs(out_net_dna['x_hat']-out_net['x_hat'])))\n",
    "print(torch.max(out_net_dna['x_hat']))\n",
    "print(torch.max(out_net['x_hat']))"
   ]
  },
  {
   "cell_type": "code",
   "execution_count": null,
   "id": "8291398e",
   "metadata": {},
   "outputs": [],
   "source": [
    "alpha_test = [1, 2, 3, 4, 5, 6, 7, 8, 9, 0]\n",
    "probas_test = [1, 2, 25, 15, 3, 9, 18, 135, 225, 27]\n",
    "huffman_coder_test = HuffmanCoder(alpha_test, probas_test, 3)\n",
    "print(huffman_coder_test.dic)\n",
    "enco_test = '102110'\n",
    "decoded_test = huffman_coder_test.decode(enco_test)\n",
    "assert decoded_test == list([\"8\", \"1\"])"
   ]
  },
  {
   "cell_type": "markdown",
   "id": "d70bf435",
   "metadata": {},
   "source": [
    "### OLD"
   ]
  },
  {
   "cell_type": "code",
   "execution_count": null,
   "id": "35200ce9",
   "metadata": {},
   "outputs": [],
   "source": [
    "'''for i in range(192):\n",
    "    if i not in non_trivial_channels:\n",
    "        print(\"rounded NON TRIVIAL HAAAAA\", torch.allclose(rounded[0][i], torch.zeros(rounded[0][i].shape).int()))\n",
    "    else:\n",
    "        print(\"rounded TRIVIAL YES HAAAAA\", torch.allclose(rounded[0][i], torch.zeros(rounded[0][i].shape).int()))\n",
    "        \n",
    "for i in range(192):\n",
    "    if i not in non_trivial_channels:\n",
    "        print(\"y NON TRIVIAL HAAAAA\", torch.allclose(y[0][i], torch.zeros(y[0][i].shape)))\n",
    "    else:\n",
    "        print(\"y TRIVIAL YES HAAAAA\", torch.allclose(y[0][i], torch.zeros(y[0][i].shape)))\n",
    "        \n",
    "for i in range(192):\n",
    "    if i not in non_trivial_channels:\n",
    "        print(\"medians NON TRIVIAL HAAAAA\", torch.allclose(medians[i], torch.zeros(medians[i].shape)))\n",
    "    else:\n",
    "        print(\"medians TRIVIAL YES HAAAAA\", torch.allclose(medians[i], torch.zeros(medians[i].shape)))\n",
    "'''\n",
    "\n",
    "print(\"Medians are never (for any channel) completely = 0\")\n",
    "print(\"y is never (for any channel) completely = 0\")\n",
    "print(\"rounded (quantized(y) + medians) is completely = 0 iff we are in a non trivial channel\")"
   ]
  },
  {
   "cell_type": "code",
   "execution_count": null,
   "id": "920bf5b4",
   "metadata": {},
   "outputs": [],
   "source": [
    "'''kodim_list = [\"kodim01.png\", \"kodim02.png\", \"kodim03.png\", \"kodim04.png\", \"kodim05.png\", \"kodim06.png\", \"kodim07.png\",\n",
    "              \"kodim08.png\",\"kodim09.png\", \"kodim10.png\", \"kodim11.png\", \"kodim12.png\", \"kodim13.png\", \"kodim14.png\", \n",
    "              \"kodim15.png\", \"kodim16.png\", \"kodim17.png\", \"kodim18.png\", \"kodim19.png\", \"kodim20.png\", \"kodim20.png\",\n",
    "              \"kodim21.png\", \"kodim22.png\", \"kodim23.png\", \"kodim24.png\"]\n",
    "kodim_dict = {x:get_image(x)[0] for x in kodim_list}\n",
    "\n",
    "for i in range(len(kodim_list)):\n",
    "    tensor = kodim_dict[kodim_list[i]]\n",
    "    if tensor.shape == torch.Size([3, 512, 768]):\n",
    "        #transpose horizontal image along axes 1 and 2 (= image sizes)\n",
    "        kodim_dict[kodim_list[i]] = torch.transpose(tensor, 1, 2) \n",
    "\n",
    "stacked = torch.stack(list(kodim_dict.values()))\n",
    "kodim_dict_y = {x: run_network(get_image(x))[0] for x in kodim_list}'''\n",
    "do_not_out_comment = True"
   ]
  },
  {
   "cell_type": "code",
   "execution_count": null,
   "id": "bb22f6b2",
   "metadata": {},
   "outputs": [],
   "source": [
    "'''kodim_dict_y_modified = kodim_dict_y\n",
    "\n",
    "for i in range(len(kodim_list)):\n",
    "    tensor = kodim_dict_y_modified[kodim_list[i]]\n",
    "    if tensor.shape == torch.Size([1, 192, 32, 48]):\n",
    "        #transpose horizontal image along axes 2 and 3 (= image sizes)\n",
    "        kodim_dict_y_modified[kodim_list[i]] = torch.transpose(tensor, 2, 3)\n",
    "        \n",
    "stacked_y = torch.stack(list(kodim_dict_y_modified.values()))\n",
    "\n",
    "#mean = torch.mean(stacked_y, dim =(2, 3, 4))\n",
    "#stacked_y = mean\n",
    "\n",
    "for image in range(stacked_y.shape[0]): #shape of stacked_y is 24, 1, n, image_y/16, image_x/16. Here: range(24)\n",
    "    y_i = stacked_y[image][0]\n",
    "    quantized = torch.round(y_i)\n",
    "    m = torch.min(quantized)\n",
    "    M = torch.max(quantized)\n",
    "    quantized += abs(m) #quantized >= 0\n",
    "    flattened = torch.flatten(quantized)\n",
    "    bincount = torch.bincount(flattened.type(torch.IntTensor)) #converts to int\n",
    "    x_axis = np.linspace(m, M, bincount.shape[0])\n",
    "    plt.semilogy(x_axis, bincount, linestyle='', marker='.')\n",
    "    \n",
    "'''\n",
    "do_not_out_comment = True"
   ]
  },
  {
   "cell_type": "code",
   "execution_count": null,
   "id": "7983f33b",
   "metadata": {},
   "outputs": [],
   "source": [
    "kodim01 = test(\"kodim01.png\")\n",
    "print(kodim01 == test(\"kodim14.png\"))"
   ]
  },
  {
   "cell_type": "code",
   "execution_count": null,
   "id": "ab000b59",
   "metadata": {},
   "outputs": [],
   "source": [
    "def run_network(x):\n",
    "    with torch.no_grad():\n",
    "        dictionary = net.forward(x)\n",
    "        out_net = {k: dictionary[k] for k in ('x_hat', 'likelihoods')}\n",
    "        y = dictionary['y']\n",
    "        y_hat = dictionary['y_hat']\n",
    "    out_net['x_hat'].clamp_(0, 1)\n",
    "    return y, y_hat"
   ]
  },
  {
   "cell_type": "code",
   "execution_count": null,
   "id": "594ec257",
   "metadata": {},
   "outputs": [],
   "source": [
    "def get_image(name):\n",
    "    img = Image.open('./assets/' + name).convert('RGB')\n",
    "    x = transforms.ToTensor()(img).unsqueeze(0).to(device)\n",
    "    return x"
   ]
  },
  {
   "cell_type": "code",
   "execution_count": null,
   "id": "089682c0",
   "metadata": {},
   "outputs": [],
   "source": [
    "def test(name):\n",
    "    x = get_image(name)\n",
    "    y1, y1_hat = run_network(get_image(name))\n",
    "    non_triv_channels_y = plot(y1)\n",
    "    non_triv_channels_y_hat = plot(y1_hat)\n",
    "    print(\"y shape\", y1.shape)\n",
    "    return non_triv_channels_y"
   ]
  },
  {
   "cell_type": "markdown",
   "id": "97f94c5c",
   "metadata": {},
   "source": [
    "### OLD BUT REVIEWED"
   ]
  },
  {
   "cell_type": "code",
   "execution_count": null,
   "id": "96b2ba6b",
   "metadata": {},
   "outputs": [],
   "source": [
    "def plot(y):\n",
    "    y = torch.clone(y)\n",
    "    \n",
    "    n = y.shape[1]\n",
    "    j = 0\n",
    "    non_trivial_channels = list()\n",
    "    for i in range(n): #shape of y is 1, n, image_y/16, image_x/16. Here: range(n)\n",
    "        y_i = y[0][i]\n",
    "        quantized = torch.round(y_i)\n",
    "        flattened = torch.flatten(quantized)\n",
    "        elements, counts = torch.unique(flattened, return_counts = True)\n",
    "        if elements.shape != torch.Size([1]): #if there is only 1 element (0), no need to plot it\n",
    "            j += 1\n",
    "            non_trivial_channels.append(i)\n",
    "            plt.semilogy(elements, counts, linestyle='', marker='.')\n",
    "            \n",
    "    return non_trivial_channels"
   ]
  },
  {
   "cell_type": "code",
   "execution_count": null,
   "id": "9ce25d4b",
   "metadata": {},
   "outputs": [],
   "source": [
    "non_trivial_channels = plot(y)"
   ]
  },
  {
   "cell_type": "markdown",
   "id": "a2330e16",
   "metadata": {},
   "source": [
    "### Plot Qualities"
   ]
  },
  {
   "cell_type": "code",
   "execution_count": null,
   "id": "71b01235",
   "metadata": {},
   "outputs": [],
   "source": [
    "img = Image.open('./assets/stmalo_fracape.png').convert('RGB')\n",
    "x = transforms.ToTensor()(img).unsqueeze(0).to(device)\n",
    "\n",
    "x_hat_s = list()\n",
    "\n",
    "for quality_level in range(1, 9):\n",
    "    net = bmshj2018_factorized(quality = quality_level, pretrained=True).eval().to(device)\n",
    "    with torch.no_grad():\n",
    "        dictionary = net.forward(x)\n",
    "        out_net = {k: dictionary[k] for k in ('x_hat', 'likelihoods')}\n",
    "        x_hat_s.append(out_net['x_hat'])\n",
    "\n",
    "msssim_values = [compute_msssim(x, xhat) for xhat in x_hat_s]\n",
    "psnr_values = [compute_psnr(x, xhat) for xhat in x_hat_s]\n",
    "\n",
    "fig, axes = plt.subplots(nrows=1, ncols=2, figsize=(10, 3))\n",
    "axes[0].plot(np.arange(1, 9), msssim_values)\n",
    "axes[0].title.set_text('MS-SSIM - STMALO - NO DNA')\n",
    "axes[1].plot(np.arange(1, 9), psnr_values)\n",
    "axes[1].title.set_text('PSNR - STMALO - NO DNA')\n",
    "fig.tight_layout()"
   ]
  },
  {
   "cell_type": "code",
   "execution_count": null,
   "id": "9c9c7030",
   "metadata": {},
   "outputs": [],
   "source": [
    "#JPEG DNA:\n",
    "comp_rate_0_3 = 14.5053550568706\n",
    "psnr_0_3      = 37.8895538209522\n",
    "comp_rate_0_5 = 19.4180740740741\n",
    "psnr_0_5      = 35.7936774505271\n",
    "comp_rate_0_8 = 25.8269950738916\n",
    "psnr_0_8      = 34.1737057511335\n",
    "comp_rate_1   = 29.6580263984915\n",
    "psnr_1        = 33.4723609160875\n",
    "comp_rate_1_3 = 34.9008284023669\n",
    "psnr_1_3      = 32.7040914033959\n",
    "comp_rate_1_5 = 38.2072226720648\n",
    "psnr_1_5      = 32.2999049634064\n",
    "comp_rate_1_8 = 43.0528467153285\n",
    "psnr_1_8      = 31.8050336787014\n",
    "comp_rate_2   = 46.2153966699314\n",
    "psnr_2        = 31.5144507669689\n",
    "\n",
    "comp_rate_jpeg = [comp_rate_0_3, comp_rate_0_5, comp_rate_0_8, comp_rate_1, comp_rate_1_3, comp_rate_1_5, comp_rate_1_8, comp_rate_2]\n",
    "psnr_jpeg = [psnr_0_3, psnr_0_5, psnr_0_8, psnr_1, psnr_1_3, psnr_1_5, psnr_1_8, psnr_2]\n",
    "x_axis = [0.3, 0.5, 0.8, 1., 1.3, 1.5, 1.8, 2.]\n"
   ]
  },
  {
   "cell_type": "code",
   "execution_count": null,
   "id": "05d0ec98",
   "metadata": {},
   "outputs": [],
   "source": []
  },
  {
   "cell_type": "code",
   "execution_count": null,
   "id": "c805572a",
   "metadata": {},
   "outputs": [],
   "source": [
    "original_kodim01, nb_pixels = get_image(image_location='./assets/kodim01.png')\n",
    "reconstructed_kodim01 = list()\n",
    "for q in range(1, 9):\n",
    "    reconstructed_kodim01.append(compute_x_hat(original_kodim01, quality = q))"
   ]
  },
  {
   "cell_type": "code",
   "execution_count": null,
   "id": "d5fe8766",
   "metadata": {},
   "outputs": [],
   "source": [
    "msssim_values_kodim01 = [compute_msssim(original_kodim01, xhat) for xhat in reconstructed_kodim01]\n",
    "psnr_values_kodim01 = [compute_psnr(original_kodim01, xhat) for xhat in reconstructed_kodim01]\n",
    "\n",
    "fig, axes = plt.subplots(nrows=1, ncols=2, figsize=(10, 3))\n",
    "axes[0].plot(np.arange(1, 9), msssim_values_kodim01)\n",
    "axes[0].title.set_text('MS-SSIM - Kodim01')\n",
    "axes[1].plot(np.arange(1, 9), psnr_values_kodim01)\n",
    "axes[1].title.set_text('PSNR - Kodim01')\n",
    "fig.tight_layout()"
   ]
  },
  {
   "cell_type": "code",
   "execution_count": null,
   "id": "763373fa",
   "metadata": {},
   "outputs": [],
   "source": [
    "original_kodim02, nb_pixels = get_image(image_location='./assets/kodim02.png')\n",
    "reconstructed_kodim02 = list()\n",
    "for q in range(1, 9):\n",
    "    reconstructed_kodim02.append(compute_x_hat(original_kodim02, quality = q))"
   ]
  },
  {
   "cell_type": "code",
   "execution_count": null,
   "id": "48c3ab54",
   "metadata": {},
   "outputs": [],
   "source": [
    "msssim_values_kodim02 = [compute_msssim(original_kodim02, xhat) for xhat in reconstructed_kodim02]\n",
    "psnr_values_kodim02 = [compute_psnr(original_kodim02, xhat) for xhat in reconstructed_kodim02]\n",
    "\n",
    "fig, axes = plt.subplots(nrows=1, ncols=2, figsize=(10, 3))\n",
    "axes[0].plot(np.arange(1, 9), msssim_values_kodim02)\n",
    "axes[0].title.set_text('MS-SSIM - Kodim02')\n",
    "axes[1].plot(np.arange(1, 9), psnr_values_kodim02)\n",
    "axes[1].title.set_text('PSNR - Kodim02')\n",
    "fig.tight_layout()"
   ]
  },
  {
   "cell_type": "code",
   "execution_count": null,
   "id": "1cfbd93f",
   "metadata": {},
   "outputs": [],
   "source": [
    "img = Image.open('./assets/kodim02.png').convert('RGB')\n",
    "x = transforms.ToTensor()(img).unsqueeze(0).to(device)\n",
    "\n",
    "x_hat_s = list()\n",
    "\n",
    "for quality_level in range(1, 9):\n",
    "    net = bmshj2018_factorized(quality = quality_level, pretrained=True).eval().to(device)\n",
    "    with torch.no_grad():\n",
    "        dictionary = net.forward(x)\n",
    "        out_net = {k: dictionary[k] for k in ('x_hat', 'likelihoods')}\n",
    "        x_hat_s.append(out_net['x_hat'])\n",
    "\n",
    "msssim_values = [compute_msssim(x, xhat) for xhat in x_hat_s]\n",
    "psnr_values = [compute_psnr(x, xhat) for xhat in x_hat_s]\n",
    "\n",
    "fig, axes = plt.subplots(nrows=1, ncols=2, figsize=(10, 3))\n",
    "axes[0].plot(np.arange(1, 9), msssim_values)\n",
    "axes[0].title.set_text('MS-SSIM - KODIM02 - NO DNA')\n",
    "axes[1].plot(np.arange(1, 9), psnr_values)\n",
    "axes[1].title.set_text('PSNR - KODIM02 - NO DNA')\n",
    "fig.tight_layout()"
   ]
  },
  {
   "cell_type": "markdown",
   "id": "b6a977fe",
   "metadata": {},
   "source": [
    "## New things"
   ]
  },
  {
   "cell_type": "code",
   "execution_count": null,
   "id": "3c722828",
   "metadata": {},
   "outputs": [],
   "source": [
    "x, number_of_pixels = get_image(image_location='./assets/stmalo_fracape.png')\n",
    "\n",
    "#list of tuples (x, x_hat, len(dna), number_of_pixels) where dna is the encoded dna string of x\n",
    "stmalo_list = list()\n",
    "\n",
    "for q in range(1, 9):\n",
    "    x_hat, dna_length = compute_x_hat(x, quality = q)\n",
    "    stmalo_list.append((x, x_hat, dna_length, number_of_pixels))"
   ]
  },
  {
   "cell_type": "code",
   "execution_count": null,
   "id": "df255db7",
   "metadata": {},
   "outputs": [],
   "source": [
    "#list of tuples (x, x_hat, len(dna), number_of_pixels) where dna is the encoded dna string of x\n",
    "rate_stmalo = [dna_length/nb_pixels for (x, x_hat, dna_length, nb_pixels) in stmalo_list]\n",
    "msssim_values_stmalo = [compute_msssim(x, x_hat) for (x, x_hat, dna_length, nb_pixels) in stmalo_list]\n",
    "psnr_values_stmalo = [compute_psnr(x, x_hat) for (x, x_hat, dna_length, nb_pixels) in stmalo_list]"
   ]
  },
  {
   "cell_type": "code",
   "execution_count": null,
   "id": "b9813794",
   "metadata": {},
   "outputs": [],
   "source": [
    "x_jpeg_decoded_1, ignored = get_image(\"./assets/stmalo_decoded1.png\")\n",
    "x_jpeg_decoded_2, ignored = get_image(\"./assets/stmalo_decoded2.png\")\n",
    "x_jpeg_decoded_3, ignored = get_image(\"./assets/stmalo_decoded3.png\")\n",
    "x_jpeg_decoded_4, ignored = get_image(\"./assets/stmalo_decoded4.png\")\n",
    "x_jpeg_decoded_5, ignored = get_image(\"./assets/stmalo_decoded5.png\")\n",
    "x_jpeg_decoded_6, ignored = get_image(\"./assets/stmalo_decoded6.png\")\n",
    "x_jpeg_decoded_7, ignored = get_image(\"./assets/stmalo_decoded7.png\")\n",
    "x_jpeg_decoded_8, ignored = get_image(\"./assets/stmalo_decoded8.png\")\n",
    "\n",
    "jpeg_x_hats = [x_jpeg_decoded_1, x_jpeg_decoded_2, x_jpeg_decoded_3, x_jpeg_decoded_4,\n",
    "               x_jpeg_decoded_5, x_jpeg_decoded_6, x_jpeg_decoded_7, x_jpeg_decoded_8]\n",
    "alphas = [0.2, 0.37, 0.5, 0.75, 1., 1.5, 2., 3.]\n",
    "assert len(alphas) == len(jpeg_x_hats)\n",
    "zipped = [(alphas[i], jpeg_x_hats[i]) for i in range(len(alphas))]\n",
    "\n",
    "rate_dictionary = { 0.2:  (696270,  393216),\n",
    "                    0.37: (496403,  393216),\n",
    "                    0.5:  (415276,  393216),\n",
    "                    0.75: (323269,  393216),\n",
    "                    1.0:  (269255,  393216),\n",
    "                    1.5:  (207311,  393216),\n",
    "                    2.0:  (170104,  393216),\n",
    "                    3.0:  (128137,  393216)}\n",
    "rate_dictionary = {alpha: dna_len/pixels for alpha, (dna_len, pixels) in rate_dictionary.items()}\n",
    "jpeg_rates_xhat = [(rate_dictionary[alpha_i], x_hat_i) for (alpha_i, x_hat_i) in zipped]\n",
    "jpeg_rates_xhat = sorted(jpeg_rates_xhat)\n"
   ]
  },
  {
   "cell_type": "code",
   "execution_count": null,
   "id": "3e1c076a",
   "metadata": {},
   "outputs": [],
   "source": [
    "original_x, number_of_pixels = get_image(image_location='./assets/stmalo_fracape.png')\n",
    "\n",
    "jpeg_msssim_stmalo = [compute_msssim(original_x, x_hat) for (rate_val, x_hat) in jpeg_rates_xhat]\n",
    "jpeg_psnr_stmalo = [compute_psnr(original_x, x_hat) for (rate_val, x_hat) in jpeg_rates_xhat]\n",
    "rate_x_axis = [rate_val for (rate_val, x_hat) in jpeg_rates_xhat]"
   ]
  },
  {
   "cell_type": "code",
   "execution_count": null,
   "id": "ef38a46d",
   "metadata": {},
   "outputs": [],
   "source": [
    "fig, axes = plt.subplots(nrows=1, ncols=2, figsize=(10, 4))\n",
    "\n",
    "axes[0].plot(rate_stmalo, msssim_values_stmalo, label=\"CompressAI-DNA\", linestyle='-', marker='.')\n",
    "axes[0].plot(rate_x_axis, jpeg_msssim_stmalo, label=\"JPEG\", linestyle='-', marker='.')\n",
    "axes[0].title.set_text('MS-SSIM - STMALO')\n",
    "axes[0].set_xlabel('Rate (nts/pixels)')\n",
    "axes[0].set_ylabel('MS-SSIM')\n",
    "axes[0].legend(loc='lower right')\n",
    "\n",
    "axes[1].plot(rate_stmalo, psnr_values_stmalo, label = \"CompressAI-DNA\", linestyle='-', marker='.')\n",
    "axes[1].plot(rate_x_axis, jpeg_psnr_stmalo, label=\"JPEG\", linestyle='-', marker='.')\n",
    "axes[1].title.set_text('PSNR - STMALO')\n",
    "axes[1].set_xlabel('Rate (nts/pixels)')\n",
    "axes[1].set_ylabel('PSNR')\n",
    "axes[1].legend(loc='lower right')\n",
    "\n",
    "fig.tight_layout()"
   ]
  },
  {
   "cell_type": "code",
   "execution_count": null,
   "id": "d730cf98",
   "metadata": {},
   "outputs": [],
   "source": []
  },
  {
   "cell_type": "code",
   "execution_count": null,
   "id": "4c2487cc",
   "metadata": {},
   "outputs": [],
   "source": []
  },
  {
   "cell_type": "code",
   "execution_count": null,
   "id": "4f1ff46c",
   "metadata": {},
   "outputs": [],
   "source": []
  },
  {
   "cell_type": "code",
   "execution_count": null,
   "id": "158595c6",
   "metadata": {},
   "outputs": [],
   "source": []
  },
  {
   "cell_type": "code",
   "execution_count": null,
   "id": "9a56df43",
   "metadata": {},
   "outputs": [],
   "source": []
  },
  {
   "cell_type": "code",
   "execution_count": null,
   "id": "90816918",
   "metadata": {},
   "outputs": [],
   "source": []
  },
  {
   "cell_type": "code",
   "execution_count": null,
   "id": "8608146d",
   "metadata": {},
   "outputs": [],
   "source": []
  },
  {
   "cell_type": "code",
   "execution_count": null,
   "id": "bbb6050a",
   "metadata": {},
   "outputs": [],
   "source": [
    "x_hats_compressai = list()\n",
    "img = Image.open('./assets/stmalo_fracape.png').convert('RGB')\n",
    "x = transforms.ToTensor()(img).unsqueeze(0).to(device)\n",
    "for q in range(1, 9):\n",
    "    net = bmshj2018_factorized(quality = q, pretrained=True).eval().to(device)\n",
    "    with torch.no_grad():\n",
    "        forward_dictionary = net.forward(x)\n",
    "        out_net = {k: forward_dictionary[k] for k in ('x_hat', 'likelihoods')}\n",
    "        out_net['x_hat'] = out_net['x_hat'].clamp(0, 1)\n",
    "        x_hats_compressai.append(out_net['x_hat'])\n",
    "\n",
    "msssim_values_compressai = [compute_msssim(x, x_hat) for x_hat in x_hats_compressai]\n",
    "psnr_values_compressai = [compute_psnr(x, x_hat) for x_hat in x_hats_compressai]"
   ]
  },
  {
   "cell_type": "code",
   "execution_count": null,
   "id": "2d628df5",
   "metadata": {},
   "outputs": [],
   "source": [
    "fig, axes = plt.subplots(nrows=1, ncols=2, figsize=(10, 4))\n",
    "\n",
    "axes[0].plot(np.arange(1, 9), msssim_values_compressai, label=\"CompressAI\", color=\"orange\")\n",
    "axes[0].plot(np.arange(1, 9), msssim_values_stmalo, label=\"CompressAI-DNA\", color=\"blue\")\n",
    "axes[0].title.set_text('MS-SSIM - STMALO - DNA')\n",
    "axes[0].legend(loc='lower right')\n",
    "\n",
    "axes[1].plot(np.arange(1, 9), psnr_values_stmalo, label=\"CompressAI-DNA\", color=\"blue\")\n",
    "axes[1].plot(np.arange(1, 9), psnr_values_compressai, label=\"CompressAI\", color=\"orange\")\n",
    "axes[1].title.set_text('PSNR - STMALO - DNA')\n",
    "axes[1].legend(loc='lower right')\n",
    "\n",
    "fig.tight_layout()"
   ]
  },
  {
   "cell_type": "code",
   "execution_count": null,
   "id": "903e8c5f",
   "metadata": {},
   "outputs": [],
   "source": [
    "\n",
    "average_jpeg_rate = jpeg_rates\n",
    "average_jpeg_rate = np.array([np.array(rate) for rate in average_jpeg_rate])\n",
    "average_jpeg_rate = np.average(average_jpeg_rate, axis = 0)\n",
    "\n",
    "average_compressai_rate = compressai_rates\n",
    "average_compressai_rate = np.array([np.array(rate) for rate in average_compressai_rate])\n",
    "average_compressai_rate = np.average(average_compressai_rate, axis = 0)\n",
    "\n",
    "\n",
    "average_jpeg_msssim = jpeg_mssim\n",
    "average_jpeg_msssim = np.array([np.array(msssim_val) for msssim_val in average_jpeg_msssim])\n",
    "average_jpeg_msssim = np.average(average_jpeg_msssim, axis = 0)\n",
    "\n",
    "average_compressai_msssim = compressai_mssim\n",
    "average_compressai_msssim = np.array([np.array(rate) for rate in average_compressai_msssim])\n",
    "average_compressai_msssim = np.average(average_compressai_msssim, axis = 0)\n",
    "\n",
    "\n",
    "average_jpeg_psnr = jpeg_psnr\n",
    "average_jpeg_psnr = np.array([np.array(msssim_val) for msssim_val in average_jpeg_psnr])\n",
    "average_jpeg_psnr = np.average(average_jpeg_psnr, axis = 0)\n",
    "\n",
    "average_compressai_psnr = compressai_psnr\n",
    "average_compressai_psnr = np.array([np.array(rate) for rate in average_compressai_psnr])\n",
    "average_compressai_psnr = np.average(average_compressai_psnr, axis = 0)"
   ]
  },
  {
   "cell_type": "code",
   "execution_count": null,
   "id": "ae84466b",
   "metadata": {},
   "outputs": [],
   "source": []
  },
  {
   "cell_type": "code",
   "execution_count": null,
   "id": "1882b004",
   "metadata": {},
   "outputs": [],
   "source": []
  },
  {
   "cell_type": "code",
   "execution_count": null,
   "id": "ebebaffc",
   "metadata": {},
   "outputs": [],
   "source": []
  }
 ],
 "metadata": {
  "kernelspec": {
   "display_name": "Python 3 (ipykernel)",
   "language": "python",
   "name": "python3"
  },
  "language_info": {
   "codemirror_mode": {
    "name": "ipython",
    "version": 3
   },
   "file_extension": ".py",
   "mimetype": "text/x-python",
   "name": "python",
   "nbconvert_exporter": "python",
   "pygments_lexer": "ipython3",
   "version": "3.9.12"
  }
 },
 "nbformat": 4,
 "nbformat_minor": 5
}
