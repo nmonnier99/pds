{
 "cells": [
  {
   "cell_type": "code",
   "execution_count": 2,
   "id": "5baba262",
   "metadata": {},
   "outputs": [],
   "source": [
    "import math\n",
    "import io\n",
    "import torch\n",
    "from torchvision import transforms\n",
    "import numpy as np\n",
    "import pickle\n",
    "import re\n",
    "import scipy.stats as st\n",
    "import PIL\n",
    "from collections import Counter\n",
    "from PIL import Image\n",
    "from PIL import ImageChops\n",
    "import imageio\n",
    "from pytorch_msssim import ssim, ms_ssim\n",
    "import matplotlib.pyplot as plt\n",
    "from statistics import mean\n",
    "import compressai\n",
    "import skimage\n",
    "import torch.nn.functional as F\n",
    "from compression import rates\n",
    "from quality import psnr\n",
    "from compression import rates\n",
    "from oligochecker import size\n",
    "from oligoanalyzer import gc_stats\n",
    "from oligoanalyzer import homopolymer_stats\n",
    "from IQA_pytorch import NLPD, VIF, FSIM"
   ]
  },
  {
   "cell_type": "code",
   "execution_count": 3,
   "id": "d48a5fb9",
   "metadata": {},
   "outputs": [],
   "source": [
    "from compressai.zoo import bmshj2018_factorized\n",
    "from compressai.dna_entropy_coding.coder import Coder\n",
    "from ipywidgets import interact, widgets"
   ]
  },
  {
   "cell_type": "code",
   "execution_count": null,
   "id": "3a1becce",
   "metadata": {},
   "outputs": [],
   "source": []
  },
  {
   "cell_type": "code",
   "execution_count": 4,
   "id": "b565f717",
   "metadata": {},
   "outputs": [],
   "source": [
    "device = 'cuda' if torch.cuda.is_available() else 'cpu'"
   ]
  },
  {
   "cell_type": "code",
   "execution_count": 5,
   "id": "e1a31370",
   "metadata": {},
   "outputs": [],
   "source": [
    "JPEG_SIZES = [\n",
    "    '1192x832', \n",
    "    '853x945', \n",
    "    '945x840', \n",
    "    '2000x2496', \n",
    "    '560x888',\n",
    "    '2048x1536', \n",
    "    '1600x1200', \n",
    "    '1430x1834', \n",
    "    '2048x1536', \n",
    "    '2592x1946'  \n",
    "]"
   ]
  },
  {
   "cell_type": "code",
   "execution_count": 6,
   "id": "15747bf1",
   "metadata": {},
   "outputs": [],
   "source": [
    "DATA_SET_LIST = [\n",
    "    'kodak', \n",
    "    'jpeg_dna'\n",
    "]"
   ]
  },
  {
   "cell_type": "code",
   "execution_count": 7,
   "id": "bba3995e",
   "metadata": {},
   "outputs": [],
   "source": [
    "METRICS_LIST = [\n",
    "    'PSNR', \n",
    "    'PSNR-YUV', \n",
    "    'PSNR-Y-CB-CR', \n",
    "    'MS-SSIM', \n",
    "    'IW-SSIM', \n",
    "    'NLPD', \n",
    "    'VIF', \n",
    "    'Homopolymers'\n",
    "]"
   ]
  },
  {
   "cell_type": "code",
   "execution_count": 8,
   "id": "b46208be",
   "metadata": {},
   "outputs": [],
   "source": [
    "MODELS_LIST = [\n",
    "    'benchmarkcodec', \n",
    "    'anchor1', \n",
    "    'anchor3', \n",
    "    'learningbased'\n",
    "]"
   ]
  },
  {
   "cell_type": "markdown",
   "id": "540bb45a",
   "metadata": {},
   "source": [
    "### Image extraction"
   ]
  },
  {
   "cell_type": "code",
   "execution_count": 9,
   "id": "85bc0ef0",
   "metadata": {},
   "outputs": [],
   "source": [
    "def get_original_tensor(data_set, img_id): \n",
    "    path = get_original_image_path(data_set, img_id)\n",
    "    img = Image.open(path).convert('RGB')\n",
    "    x = transforms.ToTensor()(img).unsqueeze(0).to(device)\n",
    "    return img, x"
   ]
  },
  {
   "cell_type": "code",
   "execution_count": 10,
   "id": "500e4f59",
   "metadata": {},
   "outputs": [],
   "source": [
    "def get_original_image_path(data_set, img_number): \n",
    "    img_path = 'assets/' + data_set\n",
    "    if data_set == 'kodak':\n",
    "        img_name = '/kodim{:02d}.png'.format(img_number)\n",
    "        \n",
    "    if data_set == 'jpeg_dna': \n",
    "        img_name = f\"/{str(img_number).zfill(5)}_\" + JPEG_SIZES[img_number-1]+'.png'\n",
    "    return img_path + img_name"
   ]
  },
  {
   "cell_type": "code",
   "execution_count": 11,
   "id": "0c06ff46",
   "metadata": {},
   "outputs": [],
   "source": [
    "def get_decoded_image_path(data_set, model_name, img_number, quality): \n",
    "    path = 'assets/' + data_set +'/' + model_name\n",
    "    img_name = ''\n",
    "    if data_set == 'kodak': \n",
    "        img_name = '/{}kodim{:02d}.png'.format(quality, img_number)\n",
    "        \n",
    "    elif data_set == 'jpeg_dna':\n",
    "        img_name = f\"/JPEG-1_{str(img_number).zfill(5)}\" + '_' + JPEG_SIZES[img_number-1] + '_' + str(quality) + '_decoded' + '.png'\n",
    "    else : \n",
    "        return ''\n",
    "    return path + img_name"
   ]
  },
  {
   "cell_type": "code",
   "execution_count": 12,
   "id": "46a9743e",
   "metadata": {},
   "outputs": [],
   "source": [
    "def get_decoded_tensor(data_set, model_name, img_number, quality):\n",
    "    path = get_decoded_image_path(data_set, model_name, img_number, quality)\n",
    "    img = Image.open(path).convert('RGB')   \n",
    "    x = transforms.ToTensor()(img).unsqueeze(0).to(device)\n",
    "    return img, x"
   ]
  },
  {
   "cell_type": "code",
   "execution_count": 13,
   "id": "bc14715e",
   "metadata": {},
   "outputs": [],
   "source": [
    "def get_dna_path(data_set, model_name, img_number, quality): \n",
    "    path = 'assets/' + data_set +'/' + model_name\n",
    "    dna_name = ''\n",
    "    if data_set == 'kodak': \n",
    "        dna_name = '/{}kodim{:02d}.fasta'.format(quality, img_number)\n",
    "        \n",
    "    elif data_set == 'jpeg_dna':\n",
    "        dna_name = f\"/JPEG-1_{str(img_number).zfill(5)}\" + '_' + JPEG_SIZES[img_number-1] + '_' + str(quality) + '.fasta'\n",
    "    else : \n",
    "        return ''\n",
    "    return path + dna_name"
   ]
  },
  {
   "cell_type": "code",
   "execution_count": 14,
   "id": "d38ea918",
   "metadata": {},
   "outputs": [],
   "source": [
    "def get_dna(data_set, model_name, img_number, quality):\n",
    "    path = get_dna_path(data_set, model_name, img_number, quality)\n",
    "    fasta_file = open(path)\n",
    "    dna = fasta_file.read()\n",
    "    fasta_file.close()\n",
    "    return dna\n"
   ]
  },
  {
   "cell_type": "code",
   "execution_count": 15,
   "id": "aebd66e6",
   "metadata": {},
   "outputs": [],
   "source": [
    "#print(get_dna('jpeg_dna', 'anchor1', 1, 1))#"
   ]
  },
  {
   "cell_type": "markdown",
   "id": "b213722f",
   "metadata": {},
   "source": [
    "# Biochemical constraints"
   ]
  },
  {
   "cell_type": "markdown",
   "id": "c6080b88",
   "metadata": {},
   "source": [
    "### DNA CG contents"
   ]
  },
  {
   "cell_type": "code",
   "execution_count": 16,
   "id": "c4a23a70",
   "metadata": {
    "scrolled": false
   },
   "outputs": [],
   "source": [
    "def CG_content(dna) : \n",
    "    return 100*(dna.count(\"C\")+dna.count(\"G\"))/len(dna)"
   ]
  },
  {
   "cell_type": "code",
   "execution_count": 18,
   "id": "f1343a2a",
   "metadata": {
    "scrolled": true
   },
   "outputs": [],
   "source": [
    "def plot_cg_contents(model_name, data_set = 'jpeg_dna'): \n",
    "    \"\"\"\n",
    "    Plots of the percentage of CG nucleotides in dna strands in regards of the quality of the \n",
    "    encoding, computed for the 24 images of the kodak data set.  \n",
    "    \n",
    "    Parameters\n",
    "    ----------\n",
    "    model_name: string \n",
    "        name of the model to be used for dna encoding\n",
    "        'anchor1', 'anchor3', 'benchmark codec' or 'learning based'\n",
    "        \n",
    "    Returns\n",
    "    -------\n",
    "    A plot saved in the folder plots/\n",
    "    \"\"\"\n",
    "    if data_set == 'kodak': \n",
    "        number_of_images = 24\n",
    "    elif data_set == 'jpeg_dna': \n",
    "        number_of_images = 10\n",
    "    else : \n",
    "        print(\"Ivalid data set name, please enter  'jpeg_dna' or 'kodak'.\")\n",
    "        return\n",
    "    \n",
    "    \n",
    "    for i in range(1, number_of_images+1): \n",
    "        cg = []\n",
    "        bit_rate = []\n",
    "        print('image' + str(i))\n",
    "        for q in range(1,8):\n",
    "            print ('quality' + str(q))\n",
    "            dna = get_dna(data_set, model_name, i, q)\n",
    "            img, x = get_decoded_tensor(data_set, model_name, i, q)\n",
    "            cg.append(CG_content(dna))\n",
    "            bit_rate.append(compute_bit_rate(img, dna))\n",
    "            \n",
    "        plt.plot(bit_rate, cg)\n",
    "        \n",
    "    plt.xlabel('Rate (nt/pxl)')\n",
    "    plt.ylabel('CG content (%)')\n",
    "    plt.title('CG contents of ' + model_name +' dna for the ' + data_set + ' data set')\n",
    "    plt.ylim(0, 100) \n",
    "    #plt.legend(bbox_to_anchor=(1.05, 1), loc='upper left', borderaxespad=0.)\n",
    "    plt.savefig('plots/cg_' + data_set + '_'+ model_name + '.jpeg', bbox_inches='tight')\n",
    "    plt.show()\n",
    "    \n",
    "def plot_all_cg_contents(data_set): \n",
    "    for model_name in MODELS_LIST: \n",
    "        plot_cg_contents(model_name)\n",
    "        "
   ]
  },
  {
   "cell_type": "markdown",
   "id": "83534b41",
   "metadata": {},
   "source": [
    "### Homopolymers"
   ]
  },
  {
   "cell_type": "code",
   "execution_count": 100,
   "id": "0b42cff1",
   "metadata": {
    "scrolled": true
   },
   "outputs": [],
   "source": [
    "def count_homopolymers(homopolymer_list, bases_counter, dna_substrand, i):\n",
    "    \"\"\"\n",
    "    Recursively counts the homopolymers in a dna strand\n",
    "    \n",
    "    Parameters:\n",
    "        homopolymer_list (list<int>) : the list of the length of the homopolymers in the strand\n",
    "        bases_counter (int): counter for the number of bases in the homopolymer\n",
    "        dna_substrand (string) : studied dna strand\n",
    "        i (int) : index of the bases in the dna\n",
    "                                    \n",
    "    Returns:\n",
    "        homopolymer_list : the list of the lengths of the homopolymers\n",
    "    \"\"\"\n",
    "   # Check if we have reached the end of the dna_substrand or if there are less than two bases in the current substring\n",
    "    if i == 1 or i == 0 or i >= len(dna_substrand):\n",
    "        # If true, return the homopolymer_list\n",
    "        return homopolymer_list \n",
    "    # Check if the current base is identical to the previous one\n",
    "    elif dna_substrand[i] == dna_substrand[i-1] : \n",
    "        # If true, increment the bases_counter and continue recursively checking the previous base\n",
    "        return count_homopolymer(homopolymer_list, bases_counter+1, dna_substrand, i-1)\n",
    "    # Check if we have found a homopolymer\n",
    "    elif bases_counter >= 3 : \n",
    "        # If true, append the length of the homopolymer to the homopolymer_list and reset the bases_counter to 0. \n",
    "        # Continue recursively checking the previous base\n",
    "        homopolymer_list.append(bases_counter+1)\n",
    "        return count_homopolymer(homopolymer_list, 0, dna_substrand, i-1)\n",
    "    else : \n",
    "        # If none of the above conditions are met, reset the bases_counter to 0 and continue recursively checking the previous base\n",
    "        return count_homopolymer(homopolymer_list, 0, dna_substrand, i-1)\n"
   ]
  },
  {
   "cell_type": "code",
   "execution_count": null,
   "id": "778fa571",
   "metadata": {},
   "outputs": [],
   "source": [
    "from statistics import mean\n",
    "\n",
    "def check_homopolymers(dna, max_recursion_depth=2970):\n",
    "    \"\"\"\n",
    "    Takes a DNA sequence and calculates the homopolymers present in it.\n",
    "    \n",
    "    Parameters:\n",
    "        dna (str): The DNA sequence to check for homopolymers\n",
    "        max_recursion_depth (int): The maximum recursion depth to be used for checking homopolymers.\n",
    "                                   Default is set to 2970.\n",
    "                                   \n",
    "    Returns:\n",
    "        A tuple containing:\n",
    "        - The number of homopolymers found\n",
    "        - A list of homopolymers found\n",
    "        - The average length of homopolymers found\n",
    "        - The density of homopolymers found\n",
    "        \n",
    "    \"\"\"\n",
    "    count = 0 # counter for homopolymers\n",
    "    homopolymer_list = [] # list to store homopolymers\n",
    "    avg_len = 0 # variable to store average length of homopolymers\n",
    "    homopolymer_density = 0 # variable to store density of homopolymers\n",
    "    \n",
    "    # Check if the length of the DNA exceeds the recursion depth\n",
    "    if len(dna) > max_recursion_depth: \n",
    "        # Iterate over the sub-strands of an acceptable length\n",
    "        for i in range(0, len(dna)-1, max_recursion_depth):\n",
    "            # Get the end index of the sub-strand\n",
    "            end_index = min(i+max_recursion_depth, len(dna)-1)\n",
    "            dna_substrand = dna[i:end_index]\n",
    "            # Count homopolymers in the sub-strand\n",
    "            homo_in_substrand = count_homopolymers([], 0, dna_substrand, len(dna_substrand)-1)\n",
    "            if  len(homo_in_substrand)!=0:\n",
    "                homopolymer_list.extend(homo_in_substrand)\n",
    "    else: \n",
    "        # Count homopolymers in the DNA sequence\n",
    "        homopolymer_list = count_homopolymers([], 0, dna, len(dna)-1)\n",
    "        \n",
    "    if len(homopolymer_list) != 0: \n",
    "        # Calculate average length and density of homopolymers\n",
    "        avg_len = mean(homopolymer_list)\n",
    "        homopolymer_density = ((avg_len * len(homopolymer_list))/len(dna))*100\n",
    "    \n",
    "    # Print the results\n",
    "    print(\"List of homopolymers: \", homopolymer_list)\n",
    "    print(\"Average length of the homopolymers : \", avg_len)\n",
    "    print(\"Density of the homopolymers : \", homopolymer_density)\n",
    "    \n",
    "    # Return the results as a tuple\n",
    "    return len(homopolymer_list), homopolymer_list, avg_len, homopolymer_density\n"
   ]
  },
  {
   "cell_type": "code",
   "execution_count": null,
   "id": "b3e675b5",
   "metadata": {},
   "outputs": [],
   "source": [
    "def compute_homopolymer_data(dna, data_name = 'density'): \n",
    "    (nbr_homopolymer, homopolymer_list, avg_len, homopolymer_density) = check_homopolymers(dna)\n",
    "    if data_name == 'density': \n",
    "        return homopolymer_density\n",
    "    elif data_name == 'counter': \n",
    "        return nbr_homopolymer\n",
    "    elif data_name == 'average length': \n",
    "        return avg_len\n",
    "    else : \n",
    "        print('Invalid dna data name')\n",
    "        return"
   ]
  },
  {
   "cell_type": "code",
   "execution_count": 101,
   "id": "4561ff70",
   "metadata": {},
   "outputs": [
    {
     "name": "stdout",
     "output_type": "stream",
     "text": [
      "List of homopolymers:  [13, 74, 4, 4, 4, 4, 4, 4, 4, 4, 4, 4, 4, 4, 4, 4, 4, 4, 4, 4, 5, 4, 4, 4, 4, 4, 4, 4, 4, 4, 4, 4, 5, 4, 4, 4, 4, 4, 4, 4, 4, 4, 4, 4, 4, 4, 4, 4, 4, 4, 4, 7, 74]\n",
      "Average length of the homopolymers :  6.90566037735849\n",
      "Density of the homopolymers :  0.005381348686546584\n"
     ]
    }
   ],
   "source": [
    "dna = get_dna('jpeg_dna', 'anchor1', 6, 1)\n",
    "(nbr_homopolymer, homopolymer_list, avg_len, h_density) = check_homopolymers(dna)\n"
   ]
  },
  {
   "cell_type": "code",
   "execution_count": 102,
   "id": "f9f267cb",
   "metadata": {},
   "outputs": [
    {
     "name": "stdout",
     "output_type": "stream",
     "text": [
      "List of homopolymers:  [4, 4, 13, 74, 4, 4, 4, 4, 4, 4, 4, 4, 4, 4, 4, 4, 4, 4, 4, 4, 4, 4, 5, 4, 4, 4, 4, 16]\n",
      "Average length of the homopolymers :  7.285714285714286\n",
      "Density of the homopolymers :  0.006478771701106314\n"
     ]
    }
   ],
   "source": [
    "dna = get_dna('jpeg_dna', 'anchor1', 7, 1)\n",
    "(nbr_homopolymer, homopolymer_list, avg_len, h_density) = check_homopolymers(dna)"
   ]
  },
  {
   "cell_type": "code",
   "execution_count": 103,
   "id": "3a1691c2",
   "metadata": {},
   "outputs": [
    {
     "name": "stdout",
     "output_type": "stream",
     "text": [
      "List of homopolymers:  [4, 13, 74, 4, 4, 4, 4, 4, 4, 4, 4, 4, 4, 4, 4, 4, 4, 4, 4, 4, 4, 4, 5, 4, 4, 4, 4, 4, 4, 4, 4, 4, 4, 4, 5, 4, 4, 4, 4, 4, 4, 4, 4, 4, 4, 4, 4, 4, 4, 4, 4, 4, 4, 4, 4, 4, 5, 4, 4, 4, 4, 4, 4, 4, 4, 4, 4, 42, 74]\n",
      "Average length of the homopolymers :  6.753623188405797\n",
      "Density of the homopolymers :  0.005807657608424045\n"
     ]
    }
   ],
   "source": [
    "dna = get_dna('jpeg_dna', 'anchor1', 8, 1)\n",
    "(nbr_homopolymer, homopolymer_list, avg_len, h_density) = check_homopolymers(dna)"
   ]
  },
  {
   "cell_type": "code",
   "execution_count": 104,
   "id": "8f977527",
   "metadata": {},
   "outputs": [
    {
     "name": "stdout",
     "output_type": "stream",
     "text": [
      "List of homopolymers:  [4, 14, 74, 4, 4, 4, 4, 4, 4, 4, 4, 4, 4, 4, 4, 4, 4, 4, 4, 4, 4, 5, 4, 4, 4, 4, 4, 4, 4, 4, 4, 4, 4, 5, 4, 4, 4, 4, 4, 4, 4, 4, 4, 4, 4, 4, 4, 4, 4, 4, 4, 4, 4, 4, 4, 5, 4, 4, 4, 4, 4, 4, 4, 4, 4, 4, 4, 4, 4, 4, 4, 4, 4, 4, 4, 4, 4, 5, 4, 4, 4, 4, 4, 23]\n",
      "Average length of the homopolymers :  5.226190476190476\n",
      "Density of the homopolymers :  0.004602179818802012\n"
     ]
    }
   ],
   "source": [
    "dna = get_dna('jpeg_dna', 'anchor1', 9, 1)\n",
    "(nbr_homopolymer, homopolymer_list, avg_len, h_density) = check_homopolymers(dna)"
   ]
  },
  {
   "cell_type": "code",
   "execution_count": 105,
   "id": "27d1edab",
   "metadata": {},
   "outputs": [
    {
     "name": "stdout",
     "output_type": "stream",
     "text": [
      "List of homopolymers:  [13, 74, 4, 4, 4, 4, 4, 4, 4, 4, 4, 4, 4, 4, 4, 4, 4, 4, 4, 4, 4, 5, 4, 4, 4, 4, 4, 4, 4, 4, 4, 4, 4, 5, 4, 4, 4, 4, 4, 4, 4, 4, 4, 4, 4, 4, 4, 4, 4, 4, 4, 4, 4, 4, 4, 5, 4, 4, 4, 4, 4, 4, 4, 64]\n",
      "Average length of the homopolymers :  6.21875\n",
      "Density of the homopolymers :  0.0054926757652794716\n"
     ]
    }
   ],
   "source": [
    "dna = get_dna('jpeg_dna', 'anchor1', 10, 1)\n",
    "(nbr_homopolymer, homopolymer_list, avg_len, h_density) = check_homopolymers(dna)"
   ]
  },
  {
   "cell_type": "markdown",
   "id": "b5f14db1",
   "metadata": {},
   "source": [
    "# Objective quality evaluation"
   ]
  },
  {
   "cell_type": "code",
   "execution_count": 28,
   "id": "d51a24e0",
   "metadata": {},
   "outputs": [],
   "source": [
    "def remove_padding(original_tensor, reconstructed_tensor): \n",
    "    height = original_tensor.shape[2]\n",
    "    width = original_tensor.shape[3]\n",
    "    reconstructed_tensor = reconstructed_tensor[:, :, :height, :width]\n",
    "    return reconstructed_tensor"
   ]
  },
  {
   "cell_type": "markdown",
   "id": "126b8e65",
   "metadata": {},
   "source": [
    "### Metrics"
   ]
  },
  {
   "cell_type": "markdown",
   "id": "dac98a49",
   "metadata": {},
   "source": [
    "#### PSNR\n",
    "\n",
    "\n",
    "- PSNR = Peak Signal-to-Noise Ratio\n",
    "- Measures the difference between an original image and a compressed or reconstructed version of it. \n",
    "- The higher the PSNR value, the better the quality of the compressed or reconstructed image.\n",
    "\n",
    "\\begin{equation}\n",
    "PSNR = - 10 \\cdot \\log_{10} (MSE)\n",
    "\\end{equation}\n",
    "\n",
    "\n"
   ]
  },
  {
   "cell_type": "code",
   "execution_count": 29,
   "id": "7cf8d14c",
   "metadata": {},
   "outputs": [],
   "source": [
    "def compute_psnr(original_tensor, reconstructed_tensor):\n",
    "    #reconstructed_tensor = remove_padding(original_tensor, reconstructed_tensor)\n",
    "    mse = torch.mean((original_tensor - reconstructed_tensor)**2).item()\n",
    "    return -10 * math.log10(mse)\n"
   ]
  },
  {
   "cell_type": "code",
   "execution_count": 30,
   "id": "c5a12d2d",
   "metadata": {},
   "outputs": [],
   "source": [
    "def compute_psnr_yuv(original_tensor, reconstructed_tensor):\n",
    "    #reconstructed_tensor = remove_padding(original_tensor, reconstructed_tensor)\n",
    "    reconstructed_img =  transforms.ToPILImage()(reconstructed_tensor.squeeze().cpu())\n",
    "    original_img = transforms.ToPILImage()(original_tensor.squeeze().cpu())\n",
    "    original_img = np.array(original_img)\n",
    "    reconstructed_img = np.array(reconstructed_img)\n",
    "    return psnr.psnr_yuv(original_img, reconstructed_img)"
   ]
  },
  {
   "cell_type": "code",
   "execution_count": 31,
   "id": "f73593f7",
   "metadata": {},
   "outputs": [],
   "source": [
    "def compute_psnr_y_cb_cr(original_tensor, reconstructed_tensor): \n",
    "    reconstructed_tensor = remove_padding(original_tensor, reconstructed_tensor)\n",
    "    reconstructed_img =  transforms.ToPILImage()(reconstructed_tensor.squeeze().cpu())\n",
    "    original_img = transforms.ToPILImage()(original_tensor.squeeze().cpu())\n",
    "    original_img = np.array(original_img)\n",
    "    reconstructed_img = np.array(reconstructed_img)\n",
    "    return psnr.psnr_y_cb_cr(original_img, reconstructed_img)"
   ]
  },
  {
   "cell_type": "markdown",
   "id": "31266dd1",
   "metadata": {},
   "source": [
    "#### MS-SSIM\n",
    "- MS-SSIM = Multi-Scale Structural Similarity Index\n",
    "- Measures the similarity between two images\n",
    "- Takes into account multiple scales of image structures\n",
    "- The higher the MS-SSIM, the higher the similqrity between 2 images"
   ]
  },
  {
   "cell_type": "code",
   "execution_count": 32,
   "id": "bdef3fd5",
   "metadata": {},
   "outputs": [],
   "source": [
    "def compute_msssim(original_tensor, reconstructed_tensor):\n",
    "    reconstructed_tensor = remove_padding(original_tensor, reconstructed_tensor)\n",
    "    return ms_ssim(original_tensor, reconstructed_tensor, data_range=1.).item()"
   ]
  },
  {
   "cell_type": "markdown",
   "id": "00c0f149",
   "metadata": {},
   "source": [
    "#### IW-SSIM\n",
    "- IW-SSIM = Information-Weighted Structural Similarity Index\n",
    "- Takes into account the importance of different regions in the image, and assigns them different weights based on their visual significance\n",
    "- The higher the MS-SSIM, the higher the similqrity between 2 images\n",
    "\n",
    "\\begin{equation}\n",
    "\\text{IW-SSIM} = \\frac{(2 \\mu_a \\mu_b + c_1)(2\\sigma_{ab} + c_2)}{(\\mu_a^2 + \\mu_b^2 + c_1)(\\sigma_a^2 + \\sigma_b^2 + c_2)} \\cdot \\text{SSIM}\n",
    "\\end{equation}\n"
   ]
  },
  {
   "cell_type": "code",
   "execution_count": 33,
   "id": "0f266b38",
   "metadata": {},
   "outputs": [],
   "source": [
    "def compute_iwssim(original_tensor, reconstructed_tensor, k=0.01):\n",
    "    reconstructed_tensor = remove_padding(original_tensor, reconstructed_tensor)\n",
    "    # Compute the constants c1 and c2 used in the IW-SSIM formula\n",
    "    c1 = (k * 1) ** 2\n",
    "    c2 = (k * 1) ** 2\n",
    "    # Compute the mean, variance, and covariance of the two input images\n",
    "    mean_original_tensor = original_tensor.mean(dim=(1, 2, 3), keepdim=True)\n",
    "    mean_reconstructed_tensor = reconstructed_tensor.mean(dim=(1, 2, 3), keepdim=True)\n",
    "    var_original_tensor = ((original_tensor - mean_original_tensor) ** 2).mean(dim=(1, 2, 3), keepdim=True)\n",
    "    var_reconstructed_tensor = ((reconstructed_tensor - mean_reconstructed_tensor) ** 2).mean(dim=(1, 2, 3), keepdim=True)\n",
    "    cov = ((original_tensor - mean_original_tensor) * (reconstructed_tensor - mean_reconstructed_tensor)).mean(dim=(1, 2, 3), keepdim=True)\n",
    "    \n",
    "    # Compute the SSIM value between the two input images using pytorch_msssim's ssim function\n",
    "    ssim_val = ssim(original_tensor, reconstructed_tensor, data_range=1.0, win_size=11, size_average=True)\n",
    "    \n",
    "    # Compute the IW-SSIM value using the mean, variance, covariance, and SSIM values\n",
    "    iwssim_val = ((2 * mean_original_tensor * mean_reconstructed_tensor + c1) * (2 * cov + c2)) / ((mean_original_tensor ** 2 + mean_reconstructed_tensor ** 2 + c1) * (var_original_tensor + var_reconstructed_tensor + c2)) * ssim_val\n",
    "    \n",
    "    # Return the average IW-SSIM value across the batch\n",
    "    return iwssim_val.mean().item()\n"
   ]
  },
  {
   "cell_type": "markdown",
   "id": "fb460a8b",
   "metadata": {},
   "source": [
    "#### NLPD\n"
   ]
  },
  {
   "cell_type": "code",
   "execution_count": 34,
   "id": "602783ed",
   "metadata": {},
   "outputs": [],
   "source": [
    "def compute_nlpd(original_tensor, reconstructed_tensor):\n",
    "    D = NLPD()\n",
    "    # set requires_grad attribute to True\n",
    "    reconstructed_tensor.requires_grad = True  \n",
    "    score = D(reconstructed_tensor, original_tensor, as_loss=False) \n",
    "    score_num = score.item()\n",
    "    # set 'as_loss=True' to get a value as loss for optimizations.\n",
    "    loss = D(reconstructed_tensor, original_tensor)\n",
    "    loss.backward()\n",
    "    return score_num"
   ]
  },
  {
   "cell_type": "markdown",
   "id": "857eb0cb",
   "metadata": {},
   "source": [
    "#### VIF\n"
   ]
  },
  {
   "cell_type": "code",
   "execution_count": 106,
   "id": "6986b19b",
   "metadata": {},
   "outputs": [],
   "source": [
    "def compute_vif(original_tensor, reconstructed_tensor):\n",
    "    D = VIF()\n",
    "    # set requires_grad attribute to True\n",
    "    reconstructed_tensor.requires_grad = True  \n",
    "    score = D(reconstructed_tensor, original_tensor, as_loss=False)\n",
    "    score_num = score.item()\n",
    "    # set 'as_loss=True' to get a value as loss for optimizations.\n",
    "    loss = D(reconstructed_tensor, original_tensor)\n",
    "    loss.backward()\n",
    "    return score_num"
   ]
  },
  {
   "cell_type": "markdown",
   "id": "616370c0",
   "metadata": {},
   "source": [
    "#### FSIM"
   ]
  },
  {
   "cell_type": "code",
   "execution_count": 37,
   "id": "223e8c84",
   "metadata": {},
   "outputs": [],
   "source": [
    "def compute_fsim(original_tensor, reconstructed_tensor): \n",
    "    D = FSIM()\n",
    "    # set requires_grad attribute to True\n",
    "    reconstructed_tensor.requires_grad = True  \n",
    "    score = D(reconstructed_tensor, original_tensor, as_loss=False)\n",
    "    score_num = score.item()\n",
    "    # set 'as_loss=True' to get a value as loss for optimizations.\n",
    "    loss = D(reconstructed_tensor, original_tensor)\n",
    "    loss.backward()\n",
    "    return score_num"
   ]
  },
  {
   "cell_type": "code",
   "execution_count": 38,
   "id": "45449b37",
   "metadata": {},
   "outputs": [],
   "source": [
    "def compute_bit_rate(img, dna): \n",
    "    h, w = img.size\n",
    "    return len(dna)/(h*w)"
   ]
  },
  {
   "cell_type": "markdown",
   "id": "e92370f8",
   "metadata": {},
   "source": [
    "### Plots"
   ]
  },
  {
   "cell_type": "code",
   "execution_count": 39,
   "id": "4cf41635",
   "metadata": {},
   "outputs": [],
   "source": [
    "def compute_metric(metric_name, original_tensor, reconstructed_tensor): \n",
    "    \n",
    "    \"\"\"\n",
    "    Computes the quality metric given by 'metric_name' for an encoded image, \n",
    "    in comparison to an original image. \n",
    "\n",
    "    Parameters\n",
    "    ----------\n",
    "    metric_name: string \n",
    "        name of the metric to be computed.\n",
    "        'PSNR', 'PSNR-YUV', 'PSNR-Y-CB-CR', 'MS-SSIM', 'IW-SSIM'\n",
    "        \n",
    "    original_tensor: tensor\n",
    "        original image run through the different encoder\n",
    "    reconstructed_tensor: tensor\n",
    "        reconstructed image tensor\n",
    "        \n",
    "\n",
    "    Returns\n",
    "    -------\n",
    "    The computed value of the given quality metric for the specified image\n",
    "    \"\"\"\n",
    "    \n",
    "    if metric_name == 'PSNR' : \n",
    "        return compute_psnr(original_tensor, reconstructed_tensor)\n",
    "    \n",
    "    elif metric_name == 'PSNR-YUV':\n",
    "        return compute_psnr_yuv(original_tensor, reconstructed_tensor)\n",
    "    \n",
    "    elif metric_name == 'PSNR-Y-CB-CR':\n",
    "        compute_psnr_y_cb_cr(original_tensor, reconstructed_tensor)\n",
    "        \n",
    "    elif metric_name == 'MS-SSIM': \n",
    "        return compute_msssim(original_tensor, reconstructed_tensor)\n",
    "    \n",
    "    elif metric_name =='IW-SSIM': \n",
    "        return compute_iwssim(original_tensor, reconstructed_tensor)\n",
    "    \n",
    "    elif metric_name == 'NLPD': \n",
    "        return compute_nlpd(original_tensor, reconstructed_tensor)\n",
    "    \n",
    "    elif metric_name == 'VIF': \n",
    "        return compute_vif(original_tensor, reconstructed_tensor)\n",
    "    else:\n",
    "        print(\"Invalid argument : \" + metric_name + \".\")\n",
    "        return"
   ]
  },
  {
   "cell_type": "code",
   "execution_count": 51,
   "id": "af0b2751",
   "metadata": {},
   "outputs": [],
   "source": [
    "def plot_metric(metric_name, img_number, data_set = 'jpeg_dna'): \n",
    "    \"\"\"\n",
    "    Plots a quality metric given by metric_name, for a an image encoded by different models.\n",
    "    \n",
    "    Parameters\n",
    "    ----------\n",
    "    metric_name: string \n",
    "        name of the metric to be plotted\n",
    "        'PSNR', 'PSNR-YUV', 'PSNR-Y-CB-CR' 'MSSSIM', or 'IWSSIM'\n",
    "    data_set : string\n",
    "        name of the data set on which to perform the computations\n",
    "        'jpeg_dna' or 'kodak'\n",
    "    img_number: \n",
    "        number of the image of interest in the given data set\n",
    "\n",
    "    Returns\n",
    "    -------\n",
    "    A plot saved in the folder /plots\n",
    "    \"\"\"\n",
    "    \n",
    "    # Check if the metric argument is valid\n",
    "    if (metric_name in METRICS_LIST) & (data_set in DATA_SET_LIST) :\n",
    "        \n",
    "        if data_set == 'kodak' : \n",
    "            number_of_images = 24\n",
    "        elif data_set == 'jpeg_dna' : \n",
    "            number_of_images = 10\n",
    "        if (img_number > number_of_images) or (img_number<1): \n",
    "            print('Invalid image number')\n",
    "    # Initialize empty lists to store metrics and bit rates for the image at all quality levels\n",
    "        learning_based_metric = []\n",
    "        anchor1_metric = [] \n",
    "        anchor3_metric = []\n",
    "        benchmark_codec_metric = []\n",
    "        learning_based_bitrates = []\n",
    "        anchor1_bitrates = []\n",
    "        anchor3_bitrates = []\n",
    "        benchmark_codec_bitrates = []\n",
    "        \n",
    "        original_img, original_tensor = get_original_tensor(data_set, img_number)\n",
    "\n",
    "       # Loop through quality levels 1-8\n",
    "        for quality in range(1, 9):\n",
    "            #print(quality)\n",
    "            # Load image, tensor and dna for the learning-based method and calculate bit rate\n",
    "            learning_based_img, learning_based_tensor = get_decoded_tensor(data_set, 'learningbased', img_number,quality)\n",
    "            learning_based_dna = get_dna( data_set, 'learningbased', img_number,quality)\n",
    "            learning_based_bitrates.append(compute_bit_rate(original_img, learning_based_dna))\n",
    "\n",
    "            # Load image, tensor and dna for anchor1, calculate bit rate\n",
    "            anchor1_img, anchor1_tensor = get_decoded_tensor(data_set, 'anchor1', img_number, quality)\n",
    "            anchor1_dna = get_dna(data_set, 'anchor1', img_number,quality)\n",
    "            anchor1_bitrates.append(compute_bit_rate(original_img, anchor1_dna))\n",
    "\n",
    "            # Load image, tensor and dna for anchor3, calculate bit rate\n",
    "            anchor3_img, anchor3_tensor = get_decoded_tensor(data_set, 'anchor3', img_number, quality)\n",
    "            anchor3_dna = get_dna(data_set, 'anchor3', img_number,quality)\n",
    "            anchor3_bitrates.append(compute_bit_rate(original_img, anchor3_dna))\n",
    "\n",
    "            # Load image, tensor and dna for the JPEG DNA benchmark codec, calculate bit rate\n",
    "            benchmark_codec_img, benchmark_codec_tensor = get_decoded_tensor(data_set, 'benchmarkcodec', img_number, quality)\n",
    "            benchmark_codec_dna = get_dna( data_set, 'benchmarkcodec',img_number,quality)\n",
    "            benchmark_codec_bitrates.append(compute_bit_rate(original_img, benchmark_codec_dna))\n",
    "\n",
    "            # Calculate metric for each model and add to corresponding list \n",
    "            if (metric_name == 'Homopolymers'): \n",
    "                learning_based_metric.append(compute_homopolymer_data(learning_based_dna))                \n",
    "                anchor1_metric.append(compute_homopolymer_data(anchor1_dna))\n",
    "                anchor3_metric.append(compute_homopolymer_data(anchor3_dna))\n",
    "                benchmark_codec_metric.append(compute_homopolymer_data(benchmark_codec_dna))\n",
    "                \n",
    "            else :  \n",
    "                learning_based_metric.append(compute_metric(metric_name, original_tensor, learning_based_tensor))\n",
    "                anchor1_metric.append(compute_metric(metric_name, original_tensor, anchor1_tensor))\n",
    "                anchor3_metric.append(compute_metric(metric_name, original_tensor, anchor3_tensor))\n",
    "                benchmark_codec_metric.append(compute_metric(metric_name, original_tensor, benchmark_codec_tensor))\n",
    "\n",
    "\n",
    "        # plot results\n",
    "        if 'PSNR' in metric_name:  \n",
    "            unit = ' (dB)'\n",
    "        elif metric_name == 'Homopolymers': \n",
    "            unit = ' (% bases)'\n",
    "        else : unit = ''\n",
    "        plt.plot(learning_based_bitrates, learning_based_metric, label='Learning based', marker='o', markersize=3)\n",
    "        plt.plot(anchor1_bitrates, anchor1_metric, label='Anchor 1', marker='o', markersize=3)\n",
    "        plt.plot(anchor3_bitrates, anchor3_metric, label='Anchor 3', marker='o', markersize=3)\n",
    "        plt.plot(benchmark_codec_bitrates, benchmark_codec_metric, label='JPEG DNA Benchmark Codec', marker='o', markersize=3)\n",
    "        plt.xlabel('Rate (nts/pxl)')\n",
    "        plt.ylabel(metric_name + unit)\n",
    "        plt.title(metric_name +' of the image ' + str(img_number)+ ' of the ' + data_set +  ' set for different models')\n",
    "        plt.legend()\n",
    "        plt.savefig('plots/'+ data_set + '_' + metric_name +'im' + str(img_number) +'.jpeg')\n",
    "        plt.show()\n",
    "        \n",
    "    else : \n",
    "        print('Invalid data set name or metric name')\n",
    "        return"
   ]
  },
  {
   "cell_type": "code",
   "execution_count": 61,
   "id": "7a8a45d5",
   "metadata": {
    "scrolled": true
   },
   "outputs": [
    {
     "ename": "OSError",
     "evalue": "image file is truncated (35 bytes not processed)",
     "output_type": "error",
     "traceback": [
      "\u001b[0;31m---------------------------------------------------------------------------\u001b[0m",
      "\u001b[0;31mOSError\u001b[0m                                   Traceback (most recent call last)",
      "Cell \u001b[0;32mIn[61], line 1\u001b[0m\n\u001b[0;32m----> 1\u001b[0m \u001b[43mplot_metric\u001b[49m\u001b[43m(\u001b[49m\u001b[38;5;124;43m'\u001b[39;49m\u001b[38;5;124;43mPSNR\u001b[39;49m\u001b[38;5;124;43m'\u001b[39;49m\u001b[43m,\u001b[49m\u001b[43m \u001b[49m\u001b[38;5;241;43m10\u001b[39;49m\u001b[43m,\u001b[49m\u001b[43m \u001b[49m\u001b[38;5;124;43m'\u001b[39;49m\u001b[38;5;124;43mjpeg_dna\u001b[39;49m\u001b[38;5;124;43m'\u001b[39;49m\u001b[43m)\u001b[49m\n",
      "Cell \u001b[0;32mIn[51], line 51\u001b[0m, in \u001b[0;36mplot_metric\u001b[0;34m(metric_name, img_number, data_set)\u001b[0m\n\u001b[1;32m     48\u001b[0m learning_based_bitrates\u001b[38;5;241m.\u001b[39mappend(compute_bit_rate(original_img, learning_based_dna))\n\u001b[1;32m     50\u001b[0m \u001b[38;5;66;03m# Load image, tensor and dna for anchor1, calculate bit rate\u001b[39;00m\n\u001b[0;32m---> 51\u001b[0m anchor1_img, anchor1_tensor \u001b[38;5;241m=\u001b[39m \u001b[43mget_decoded_tensor\u001b[49m\u001b[43m(\u001b[49m\u001b[43mdata_set\u001b[49m\u001b[43m,\u001b[49m\u001b[43m \u001b[49m\u001b[38;5;124;43m'\u001b[39;49m\u001b[38;5;124;43manchor1\u001b[39;49m\u001b[38;5;124;43m'\u001b[39;49m\u001b[43m,\u001b[49m\u001b[43m \u001b[49m\u001b[43mimg_number\u001b[49m\u001b[43m,\u001b[49m\u001b[43m \u001b[49m\u001b[43mquality\u001b[49m\u001b[43m)\u001b[49m\n\u001b[1;32m     52\u001b[0m anchor1_dna \u001b[38;5;241m=\u001b[39m get_dna(data_set, \u001b[38;5;124m'\u001b[39m\u001b[38;5;124manchor1\u001b[39m\u001b[38;5;124m'\u001b[39m, img_number,quality)\n\u001b[1;32m     53\u001b[0m anchor1_bitrates\u001b[38;5;241m.\u001b[39mappend(compute_bit_rate(original_img, anchor1_dna))\n",
      "Cell \u001b[0;32mIn[12], line 3\u001b[0m, in \u001b[0;36mget_decoded_tensor\u001b[0;34m(data_set, model_name, img_number, quality)\u001b[0m\n\u001b[1;32m      1\u001b[0m \u001b[38;5;28;01mdef\u001b[39;00m \u001b[38;5;21mget_decoded_tensor\u001b[39m(data_set, model_name, img_number, quality):\n\u001b[1;32m      2\u001b[0m     path \u001b[38;5;241m=\u001b[39m get_decoded_image_path(data_set, model_name, img_number, quality)\n\u001b[0;32m----> 3\u001b[0m     img \u001b[38;5;241m=\u001b[39m \u001b[43mImage\u001b[49m\u001b[38;5;241;43m.\u001b[39;49m\u001b[43mopen\u001b[49m\u001b[43m(\u001b[49m\u001b[43mpath\u001b[49m\u001b[43m)\u001b[49m\u001b[38;5;241;43m.\u001b[39;49m\u001b[43mconvert\u001b[49m\u001b[43m(\u001b[49m\u001b[38;5;124;43m'\u001b[39;49m\u001b[38;5;124;43mRGB\u001b[39;49m\u001b[38;5;124;43m'\u001b[39;49m\u001b[43m)\u001b[49m   \n\u001b[1;32m      4\u001b[0m     x \u001b[38;5;241m=\u001b[39m transforms\u001b[38;5;241m.\u001b[39mToTensor()(img)\u001b[38;5;241m.\u001b[39munsqueeze(\u001b[38;5;241m0\u001b[39m)\u001b[38;5;241m.\u001b[39mto(device)\n\u001b[1;32m      5\u001b[0m     \u001b[38;5;28;01mreturn\u001b[39;00m img, x\n",
      "File \u001b[0;32m/usr/local/lib/python3.9/site-packages/PIL/Image.py:934\u001b[0m, in \u001b[0;36mImage.convert\u001b[0;34m(self, mode, matrix, dither, palette, colors)\u001b[0m\n\u001b[1;32m    889\u001b[0m \u001b[38;5;28;01mdef\u001b[39;00m \u001b[38;5;21mconvert\u001b[39m(\n\u001b[1;32m    890\u001b[0m     \u001b[38;5;28mself\u001b[39m, mode\u001b[38;5;241m=\u001b[39m\u001b[38;5;28;01mNone\u001b[39;00m, matrix\u001b[38;5;241m=\u001b[39m\u001b[38;5;28;01mNone\u001b[39;00m, dither\u001b[38;5;241m=\u001b[39m\u001b[38;5;28;01mNone\u001b[39;00m, palette\u001b[38;5;241m=\u001b[39mPalette\u001b[38;5;241m.\u001b[39mWEB, colors\u001b[38;5;241m=\u001b[39m\u001b[38;5;241m256\u001b[39m\n\u001b[1;32m    891\u001b[0m ):\n\u001b[1;32m    892\u001b[0m     \u001b[38;5;124;03m\"\"\"\u001b[39;00m\n\u001b[1;32m    893\u001b[0m \u001b[38;5;124;03m    Returns a converted copy of this image. For the \"P\" mode, this\u001b[39;00m\n\u001b[1;32m    894\u001b[0m \u001b[38;5;124;03m    method translates pixels through the palette.  If mode is\u001b[39;00m\n\u001b[0;32m   (...)\u001b[0m\n\u001b[1;32m    931\u001b[0m \u001b[38;5;124;03m    :returns: An :py:class:`~PIL.Image.Image` object.\u001b[39;00m\n\u001b[1;32m    932\u001b[0m \u001b[38;5;124;03m    \"\"\"\u001b[39;00m\n\u001b[0;32m--> 934\u001b[0m     \u001b[38;5;28;43mself\u001b[39;49m\u001b[38;5;241;43m.\u001b[39;49m\u001b[43mload\u001b[49m\u001b[43m(\u001b[49m\u001b[43m)\u001b[49m\n\u001b[1;32m    936\u001b[0m     has_transparency \u001b[38;5;241m=\u001b[39m \u001b[38;5;28mself\u001b[39m\u001b[38;5;241m.\u001b[39minfo\u001b[38;5;241m.\u001b[39mget(\u001b[38;5;124m\"\u001b[39m\u001b[38;5;124mtransparency\u001b[39m\u001b[38;5;124m\"\u001b[39m) \u001b[38;5;129;01mis\u001b[39;00m \u001b[38;5;129;01mnot\u001b[39;00m \u001b[38;5;28;01mNone\u001b[39;00m\n\u001b[1;32m    937\u001b[0m     \u001b[38;5;28;01mif\u001b[39;00m \u001b[38;5;129;01mnot\u001b[39;00m mode \u001b[38;5;129;01mand\u001b[39;00m \u001b[38;5;28mself\u001b[39m\u001b[38;5;241m.\u001b[39mmode \u001b[38;5;241m==\u001b[39m \u001b[38;5;124m\"\u001b[39m\u001b[38;5;124mP\u001b[39m\u001b[38;5;124m\"\u001b[39m:\n\u001b[1;32m    938\u001b[0m         \u001b[38;5;66;03m# determine default mode\u001b[39;00m\n",
      "File \u001b[0;32m/usr/local/lib/python3.9/site-packages/PIL/ImageFile.py:251\u001b[0m, in \u001b[0;36mImageFile.load\u001b[0;34m(self)\u001b[0m\n\u001b[1;32m    249\u001b[0m         \u001b[38;5;28;01mbreak\u001b[39;00m\n\u001b[1;32m    250\u001b[0m     \u001b[38;5;28;01melse\u001b[39;00m:\n\u001b[0;32m--> 251\u001b[0m         \u001b[38;5;28;01mraise\u001b[39;00m \u001b[38;5;167;01mOSError\u001b[39;00m(\n\u001b[1;32m    252\u001b[0m             \u001b[38;5;124m\"\u001b[39m\u001b[38;5;124mimage file is truncated \u001b[39m\u001b[38;5;124m\"\u001b[39m\n\u001b[1;32m    253\u001b[0m             \u001b[38;5;124mf\u001b[39m\u001b[38;5;124m\"\u001b[39m\u001b[38;5;124m(\u001b[39m\u001b[38;5;132;01m{\u001b[39;00m\u001b[38;5;28mlen\u001b[39m(b)\u001b[38;5;132;01m}\u001b[39;00m\u001b[38;5;124m bytes not processed)\u001b[39m\u001b[38;5;124m\"\u001b[39m\n\u001b[1;32m    254\u001b[0m         )\n\u001b[1;32m    256\u001b[0m b \u001b[38;5;241m=\u001b[39m b \u001b[38;5;241m+\u001b[39m s\n\u001b[1;32m    257\u001b[0m n, err_code \u001b[38;5;241m=\u001b[39m decoder\u001b[38;5;241m.\u001b[39mdecode(b)\n",
      "\u001b[0;31mOSError\u001b[0m: image file is truncated (35 bytes not processed)"
     ]
    }
   ],
   "source": [
    "\n",
    "plot_metric('PSNR', 10, 'jpeg_dna')"
   ]
  },
  {
   "cell_type": "code",
   "execution_count": 46,
   "id": "031caf62",
   "metadata": {},
   "outputs": [
    {
     "name": "stderr",
     "output_type": "stream",
     "text": [
      "IOPub data rate exceeded.\n",
      "The notebook server will temporarily stop sending output\n",
      "to the client in order to avoid crashing it.\n",
      "To change this limit, set the config variable\n",
      "`--NotebookApp.iopub_data_rate_limit`.\n",
      "\n",
      "Current values:\n",
      "NotebookApp.iopub_data_rate_limit=1000000.0 (bytes/sec)\n",
      "NotebookApp.rate_limit_window=3.0 (secs)\n",
      "\n"
     ]
    }
   ],
   "source": [
    "dna = get_dna('jpeg_dna', 'anchor1', 6, 1) \n",
    "print(dna)"
   ]
  },
  {
   "cell_type": "code",
   "execution_count": 112,
   "id": "2088c1bd",
   "metadata": {},
   "outputs": [],
   "source": [
    "def plot_all_metrics(img_number, data_set = 'jpeg_dna'): \n",
    "        for metric in METRICS_LIST: \n",
    "            plot_metric(metric, img_number, data_set)\n",
    "        \n",
    "def plot_all(data_set = 'jpeg_dna'): \n",
    "    if data_set == 'jpeg_dna': \n",
    "        number_of_images = 10\n",
    "    elif data_set == 'kodak': \n",
    "        number_of_images = 24   \n",
    "    for img_id in range(1,number_of_images+1):\n",
    "        plot_all_metrics(img_id, data_set)\n",
    "\n",
    "#plot_all()"
   ]
  },
  {
   "cell_type": "code",
   "execution_count": 56,
   "id": "99db4591",
   "metadata": {},
   "outputs": [],
   "source": [
    "def plot_avg_metric(metric_name, data_set = 'jpeg_dna'): \n",
    "    \"\"\"\n",
    "    Plots the average across all the images of the kodak data set of the quality metric \n",
    "    given by metric_name. The images are encoded by different models. \n",
    "    \n",
    "    Parameters\n",
    "    ----------\n",
    "    metric_name: string \n",
    "        name of the metric to be plotted\n",
    "        'PSNR', 'MSSSIM', or 'IWSSIM'\n",
    "    data_set : string\n",
    "        name of the data set on which to perform the computations\n",
    "        'jpeg_dna' or 'kodak'\n",
    "    Returns\n",
    "    -------\n",
    "    A plot saved in the folder /plots\n",
    "    \"\"\"\n",
    "    \n",
    "    # Check input\n",
    "    if (metric_name not in METRICS_LIST) or (data_set not in DATA_SET_LIST): \n",
    "        print ('Invalid metric name or data set. ')\n",
    "        return\n",
    "        \n",
    "    if data_set == 'kodak': \n",
    "        number_of_images = 24\n",
    "    elif data_set == 'jpeg_dna': \n",
    "        number_of_images = 10\n",
    "\n",
    "    # Initialize empty lists to store average metrics and bit rates for each anchor type\n",
    "    learning_based_avg_metrics = []\n",
    "    anchor1_avg_metrics = []\n",
    "    anchor3_avg_metrics = []\n",
    "    benchmark_codec_avg_metrics = []\n",
    "\n",
    "    learning_based_avg_bitrates = []\n",
    "    anchor1_avg_bitrates = []\n",
    "    anchor3_avg_bitrates = []\n",
    "    benchmark_codec_avg_bitrates = []\n",
    "\n",
    "    # Loop through quality levels 1-8\n",
    "    for quality in range(1, 9):\n",
    "        # Initialize empty lists to store metrics and bit rates for all images at the current quality level\n",
    "        learning_based_metric = []\n",
    "        anchor1_metric = [] \n",
    "        anchor3_metric = []\n",
    "        benchmark_codec_metric = []\n",
    "\n",
    "        learning_based_bitrates = []\n",
    "        anchor1_bitrates = []\n",
    "        anchor3_bitrates = []\n",
    "        benchmark_codec_bitrates = []\n",
    "        # Loop through images 1-24 (kodak data set)\n",
    "        for img_id in range(1, number_of_images+1):\n",
    "            original_img, original_tensor = get_original_tensor(data_set,img_id)\n",
    "\n",
    "            # Load image, tensor and dna for the learning-based method and calculate bit rate\n",
    "            learning_based_img, learning_based_tensor = get_decoded_tensor(data_set, 'learningbased', img_id, quality)\n",
    "            learning_based_dna = get_dna(data_set, 'learningbased', img_id, quality)\n",
    "            learning_based_bitrates.append(compute_bit_rate(learning_based_img, learning_based_dna))\n",
    "\n",
    "            # Load image, tensor and dna for anchor1, calculate bit rate\n",
    "            anchor1_img, anchor1_tensor = get_decoded_tensor(data_set, 'anchor1', img_id, quality)\n",
    "            anchor1_dna = get_dna(data_set, 'anchor1', img_id, quality)\n",
    "            anchor1_bitrates.append(compute_bit_rate(anchor1_img, anchor1_dna))\n",
    "\n",
    "            # Load image, tensor and dna for anchor3, calculate bit rate\n",
    "            anchor3_img, anchor3_tensor = get_decoded_tensor(data_set, 'anchor3', img_id, quality)\n",
    "            anchor3_dna = get_dna(data_set, 'anchor3', img_id, quality)\n",
    "            anchor3_bitrates.append(compute_bit_rate(anchor3_img, anchor3_dna))\n",
    "\n",
    "            # Load image, tensor and dna for the JPEG DNA benchmark codec, calculate bit rate\n",
    "            benchmark_codec_img, benchmark_codec_tensor = get_decoded_tensor(data_set, 'benchmarkcodec', img_id, quality)\n",
    "            benchmark_codec_dna = get_dna(data_set, 'benchmarkcodec', img_id, quality)\n",
    "            benchmark_codec_bitrates.append(compute_bit_rate(benchmark_codec_img, benchmark_codec_dna))\n",
    "\n",
    "            if (metric_name == 'Homopolymers'): \n",
    "                learning_based_metric.append(compute_homopolymer_data(learning_based_dna))                \n",
    "                anchor1_metric.append(compute_homopolymer_data(anchor1_dna))\n",
    "                anchor3_metric.append(compute_homopolymer_data(anchor3_dna))\n",
    "                benchmark_codec_metric.append(compute_homopolymer_data(benchmark_codec_dna))\n",
    "                \n",
    "            else :  \n",
    "                learning_based_metric.append(compute_metric(metric_name, original_tensor, learning_based_tensor))\n",
    "                anchor1_metric.append(compute_metric(metric_name, original_tensor, anchor1_tensor))\n",
    "                anchor3_metric.append(compute_metric(metric_name, original_tensor, anchor3_tensor))\n",
    "                benchmark_codec_metric.append(compute_metric(metric_name, original_tensor, benchmark_codec_tensor))\n",
    "        \n",
    "\n",
    "        # Calculate the average bit rate and metric, and add them to the corresponding lists \n",
    "        learning_based_avg_bitrates.append(mean(learning_based_bitrates))\n",
    "        learning_based_avg_metrics.append(mean(learning_based_metric))\n",
    "        anchor1_avg_bitrates.append(mean(anchor1_bitrates))\n",
    "        anchor1_avg_metrics.append(mean(anchor1_metric))\n",
    "        anchor3_avg_bitrates.append(mean(anchor3_bitrates))\n",
    "        anchor3_avg_metrics.append(mean(anchor3_metric))\n",
    "        benchmark_codec_avg_bitrates.append(mean(benchmark_codec_bitrates))\n",
    "        benchmark_codec_avg_metrics.append(mean(benchmark_codec_metric))\n",
    "\n",
    "    # Plot the result\n",
    "    unit = ''\n",
    "    if 'PSNR' in metric_name: \n",
    "        unit = (' (dB)')\n",
    "    elif metric_name == 'Homopolymers': \n",
    "            unit = ' (% bases)'\n",
    "    plt.plot(learning_based_avg_bitrates, learning_based_avg_metrics, label='Learning based', marker='o', markersize=3)\n",
    "    plt.plot(anchor1_avg_bitrates, anchor1_avg_metrics, label='Anchor 1', marker='o', markersize=3)\n",
    "    plt.plot(anchor3_avg_bitrates, anchor3_avg_metrics, label='Anchor 3', marker='o', markersize=3)\n",
    "    plt.plot(benchmark_codec_avg_bitrates, benchmark_codec_avg_metrics, label='JPEG DNA Benchmark Codec', marker='o', markersize=3)\n",
    "    plt.xlabel('Rate (nts/pxl)')\n",
    "    plt.ylabel(metric_name + unit)\n",
    "    plt.title('Average ' + metric_name +' across the ' + data_set + ' data set for different models')\n",
    "    plt.legend()\n",
    "    plt.savefig('plots/avg_'+ data_set + '_' + metric_name +'.jpeg')\n",
    "    plt.show()\n",
    "\n",
    "    "
   ]
  },
  {
   "cell_type": "code",
   "execution_count": 55,
   "id": "6257de4e",
   "metadata": {
    "scrolled": true
   },
   "outputs": [
    {
     "data": {
      "image/png": "[encoded data removed]",
      "text/plain": [
       "<Figure size 432x288 with 1 Axes>"
      ]
     },
     "metadata": {
      "needs_background": "light"
     },
     "output_type": "display_data"
    }
   ],
   "source": [
    "plot_avg_metric('Homopolymers', 'kodak')"
   ]
  },
  {
   "cell_type": "code",
   "execution_count": 36,
   "id": "26910ef9",
   "metadata": {},
   "outputs": [],
   "source": [
    "def plot_all_average_metrics(data_set='jpeg_dna'):\n",
    "    \"\"\"\n",
    "    Plots the average PSNR, MSSSIM, and IW-SSIM across all the images of the kodak data set \n",
    "    at different quality levels.\n",
    "    The images are encoded by different models. \n",
    "    \"\"\"\n",
    "    for metric in METRICS_LIST : \n",
    "        plot_avg_metric(metric, data_set)\n",
    "    "
   ]
  },
  {
   "cell_type": "code",
   "execution_count": 49,
   "id": "d366b712",
   "metadata": {
    "scrolled": true
   },
   "outputs": [
    {
     "data": {
      "image/png": "[encoded data removed]",
      "text/plain": [
       "<Figure size 432x288 with 1 Axes>"
      ]
     },
     "metadata": {
      "needs_background": "light"
     },
     "output_type": "display_data"
    },
    {
     "data": {
      "image/png": "[encoded data removed]",
      "text/plain": [
       "<Figure size 432x288 with 1 Axes>"
      ]
     },
     "metadata": {
      "needs_background": "light"
     },
     "output_type": "display_data"
    },
    {
     "data": {
      "image/png": "[encoded data removed]",
      "text/plain": [
       "<Figure size 432x288 with 1 Axes>"
      ]
     },
     "metadata": {
      "needs_background": "light"
     },
     "output_type": "display_data"
    },
    {
     "data": {
      "image/png": "[encoded data removed]",
      "text/plain": [
       "<Figure size 432x288 with 1 Axes>"
      ]
     },
     "metadata": {
      "needs_background": "light"
     },
     "output_type": "display_data"
    }
   ],
   "source": [
    "#plot_all_average_metrics('jpeg_dna')"
   ]
  },
  {
   "cell_type": "code",
   "execution_count": null,
   "id": "c8876e26",
   "metadata": {},
   "outputs": [],
   "source": []
  },
  {
   "cell_type": "code",
   "execution_count": null,
   "id": "a86cc9f5",
   "metadata": {},
   "outputs": [],
   "source": []
  },
  {
   "cell_type": "code",
   "execution_count": null,
   "id": "494eb7e0",
   "metadata": {},
   "outputs": [],
   "source": []
  },
  {
   "cell_type": "code",
   "execution_count": null,
   "id": "8705898b",
   "metadata": {},
   "outputs": [],
   "source": []
  },
  {
   "cell_type": "code",
   "execution_count": null,
   "id": "2e4830d2",
   "metadata": {},
   "outputs": [],
   "source": []
  },
  {
   "cell_type": "code",
   "execution_count": null,
   "id": "a0f5981b",
   "metadata": {},
   "outputs": [],
   "source": []
  },
  {
   "cell_type": "code",
   "execution_count": null,
   "id": "979d2cbd",
   "metadata": {},
   "outputs": [],
   "source": []
  },
  {
   "cell_type": "code",
   "execution_count": null,
   "id": "91721db2",
   "metadata": {},
   "outputs": [],
   "source": []
  }
 ],
 "metadata": {
  "kernelspec": {
   "display_name": "Python 3 (ipykernel)",
   "language": "python",
   "name": "python3"
  },
  "language_info": {
   "codemirror_mode": {
    "name": "ipython",
    "version": 3
   },
   "file_extension": ".py",
   "mimetype": "text/x-python",
   "name": "python",
   "nbconvert_exporter": "python",
   "pygments_lexer": "ipython3",
   "version": "3.9.12"
  }
 },
 "nbformat": 4,
 "nbformat_minor": 5
}
