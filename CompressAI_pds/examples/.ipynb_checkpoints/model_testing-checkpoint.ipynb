{
 "cells": [
  {
   "cell_type": "code",
   "execution_count": 1,
   "id": "26809b19",
   "metadata": {},
   "outputs": [],
   "source": [
    "import math\n",
    "import io\n",
    "import torch\n",
    "from torchvision import transforms\n",
    "import numpy as np\n",
    "import pickle\n",
    "import re\n",
    "import scipy.stats as st\n",
    "import PIL\n",
    "from collections import Counter\n",
    "from PIL import Image\n",
    "from PIL import ImageChops\n",
    "import imageio\n",
    "from pytorch_msssim import ssim, ms_ssim\n",
    "import matplotlib.pyplot as plt\n",
    "from statistics import mean\n",
    "import compressai\n",
    "import skimage"
   ]
  },
  {
   "cell_type": "code",
   "execution_count": 52,
   "id": "cba92e94",
   "metadata": {},
   "outputs": [],
   "source": [
    "from compressai.zoo import bmshj2018_factorized\n",
    "from compressai.dna_entropy_coding.coder import Coder\n",
    "from ipywidgets import interact, widgets"
   ]
  },
  {
   "cell_type": "code",
   "execution_count": 16,
   "id": "b565f717",
   "metadata": {},
   "outputs": [],
   "source": [
    "device = 'cuda' if torch.cuda.is_available() else 'cpu'"
   ]
  },
  {
   "cell_type": "code",
   "execution_count": 18,
   "id": "005591b9",
   "metadata": {},
   "outputs": [],
   "source": [
    "JPEG_SIZES = [\n",
    "    '1192x832', \n",
    "    '853x945', \n",
    "    '945x840', \n",
    "    '2000x2496', \n",
    "    '560x888',\n",
    "    '2048x1536', \n",
    "    '1600x1200', \n",
    "    '1430x1834', \n",
    "    '2048x1536', \n",
    "    '2592x1946'  \n",
    "]"
   ]
  },
  {
   "cell_type": "markdown",
   "id": "540bb45a",
   "metadata": {},
   "source": [
    "### Image extraction"
   ]
  },
  {
   "cell_type": "code",
   "execution_count": 62,
   "id": "85bc0ef0",
   "metadata": {},
   "outputs": [],
   "source": [
    "def get_original_tensor(img_number, data_set): \n",
    "    if data_set == 'kodak':\n",
    "        img_name = '/kodim{:02d}.png'.format(img_number)\n",
    "        \n",
    "    if data_set == 'jpeg_dna': \n",
    "        img_name = f\"/{str(img_number).zfill(5)}_\" + JPEG_SIZES[img_number-1]+'.png'\n",
    "        \n",
    "    img = Image.open('./assets/' + data_set + img_name).convert('RGB')\n",
    "    x = transforms.ToTensor()(img).unsqueeze(0).to(device)\n",
    "    return img, x"
   ]
  },
  {
   "cell_type": "code",
   "execution_count": 7,
   "id": "46a9743e",
   "metadata": {},
   "outputs": [],
   "source": [
    "def get_learningbased_tensor(img_number, quality, data_set):\n",
    "    path = 'assets/' + data_set +'/learningbased'\n",
    "    \n",
    "    if data_set == 'kodak': \n",
    "        img_name = '/{}kodim{:02d}.png'.format(quality, img_number)\n",
    "        \n",
    "    elif data_set == 'jpeg_dna':\n",
    "        img_name = f\"/JPEG-1_{str(i).zfill(5)}\" + '_' + JPEG_SIZES[i-1] + '_' + str(i) + '_decoded' + '.jpg'\n",
    "    img = Image.open(path+ img_name).convert('RGB')   \n",
    "    x = transforms.ToTensor()(img).unsqueeze(0).to(device)\n",
    "    return img, x\n"
   ]
  },
  {
   "cell_type": "code",
   "execution_count": 16,
   "id": "d38ea918",
   "metadata": {},
   "outputs": [],
   "source": [
    "def get_learningbased_dna(img_number, quality):\n",
    "    path = 'assets/learningbased'\n",
    "    dna_name = '/{}kodim{:02d}.fasta'.format(quality, img_number)\n",
    "    fasta_file = open(path + dna_name)\n",
    "    dna = fasta_file.read()\n",
    "    fasta_file.close()\n",
    "    return dna\n"
   ]
  },
  {
   "cell_type": "code",
   "execution_count": 46,
   "id": "53f13a1f",
   "metadata": {},
   "outputs": [],
   "source": [
    "def get_anchor_tensor(anchor, img_number, quality, data_set): \n",
    "    '''\n",
    "    Inputs : \n",
    "        anchor = int (1 or 3) \n",
    "        quality = int (1 to 8)\n",
    "        img_number = int (1 to 24)\n",
    "    '''\n",
    "    \n",
    "    \n",
    "    if data_set == 'kodak': \n",
    "        img_name = '/{}kodim{:02d}.jpeg'.format(quality, img_number)\n",
    "    elif data_set == 'jpeg_dna': \n",
    "        img_name = f\"/JPEG-1_{str(i).zfill(5)}\" + '_' + JPEG_SIZES[i-1] + '_' + str(i) + '_decoded' + '.jpg'\n",
    "    else : \n",
    "        print(\"Wrong data set name. Options are 'kodak' or 'jpeg_dna'\")\n",
    "        return\n",
    "    \n",
    "    anchor_path = 'assets/' + data_set + '/anchor' + str(anchor)\n",
    "    img = Image.open(anchor_path + img_name).convert('RGB')\n",
    "    x = transforms.ToTensor()(img).unsqueeze(0).to(device)\n",
    "    \n",
    "    return img, x\n"
   ]
  },
  {
   "cell_type": "code",
   "execution_count": 47,
   "id": "7472b7c1",
   "metadata": {},
   "outputs": [],
   "source": [
    "def get_anchor_dna(anchor, img_number, quality, data_set): \n",
    "    anchor_path = 'assets/' + data_set + '/anchor' + str(anchor)    \n",
    "    \n",
    "    if data_set == 'kodak': \n",
    "        dna_name = '/{}kodim{:02d}.fasta'.format(quality, img_number)\n",
    "    elif data_set == 'jpeg_dna': \n",
    "        f\"/JPEG-1_{str(i).zfill(5)}\" + '_' + JPEG_SIZES[i-1] + '_' + str(i) + '_decoded' + '.fasta'\n",
    "    else : \n",
    "        print(\"Wrong data set name. Options are 'kodak' or 'jpeg_dna'\")\n",
    "        return\n",
    "    fasta_file = open(anchor_path + dna_name)\n",
    "    dna = fasta_file.read()\n",
    "    fasta_file.close()\n",
    "    return dna"
   ]
  },
  {
   "cell_type": "code",
   "execution_count": 19,
   "id": "8d2a4b2a",
   "metadata": {},
   "outputs": [],
   "source": [
    "def get_benchmark_tensor(img_number, quality):\n",
    "    img_path = 'assets/benchmarkcodec/'\n",
    "    img_name = '{}kodim{:02d}.jpeg'.format(quality, img_number)\n",
    "    img = Image.open(img_path + img_name).convert('RGB')\n",
    "    x = transforms.ToTensor()(img).unsqueeze(0).to(device)\n",
    "    return img, x"
   ]
  },
  {
   "cell_type": "code",
   "execution_count": 20,
   "id": "28fd388f",
   "metadata": {},
   "outputs": [],
   "source": [
    "def get_benchmark_dna(img_number, quality): \n",
    "    anchor_path = 'assets/benchmarkcodec'\n",
    "    dna_name = '/{}kodim{:02d}.fasta'.format(quality, img_number)\n",
    "    fasta_file = open(anchor_path + dna_name)\n",
    "    dna = fasta_file.read()\n",
    "    fasta_file.close()\n",
    "    return dna"
   ]
  },
  {
   "cell_type": "markdown",
   "id": "c6080b88",
   "metadata": {},
   "source": [
    "### DNA CG contents"
   ]
  },
  {
   "cell_type": "code",
   "execution_count": 21,
   "id": "c4a23a70",
   "metadata": {
    "scrolled": false
   },
   "outputs": [],
   "source": [
    "def CG_content(dna) : \n",
    "    return 100*(dna.count(\"C\")+dna.count(\"G\"))/len(dna)"
   ]
  },
  {
   "cell_type": "code",
   "execution_count": 58,
   "id": "f1343a2a",
   "metadata": {
    "scrolled": true
   },
   "outputs": [],
   "source": [
    "def cg_contents(model_name, data_set = 'jpeg_dna'): \n",
    "    \"\"\"\n",
    "    Plots of the percentage of CG nucleotides in dna strands in regards of the quality of the \n",
    "    encoding, computed for the 24 images of the kodak data set.  \n",
    "    \n",
    "    Parameters\n",
    "    ----------\n",
    "    model_name: string \n",
    "        name of the model to be used for dna encoding\n",
    "        'anchor1', 'anchor3', 'benchmark codec' or 'learning based'\n",
    "        \n",
    "    Returns\n",
    "    -------\n",
    "    A plot saved in the folder plots/\n",
    "    \"\"\"\n",
    "    if data_set == 'kodak': \n",
    "        number_of_images = 25\n",
    "    elif data_set == 'jpeg_dna': \n",
    "        number_of_images = 11\n",
    "    else : \n",
    "        print(\"Ivalid data set name, please enter  'jpeg_dna' or 'kodak'.\")\n",
    "        return\n",
    "    \n",
    "    \n",
    "    for i in range(1,number_of_images): \n",
    "        cg = [] \n",
    "            \n",
    "        for q in range(1,9): \n",
    "            if model_name == 'anchor1':\n",
    "                dna = get_anchor_dna(1, i, q, data_set)\n",
    "            elif model_name == 'anchor3':\n",
    "                dna = get_anchor_dna(3, i, q, data_set)\n",
    "            elif model_name == 'benchmark codec':\n",
    "                dna = get_benchmark_dna(i, q, data_set)\n",
    "            elif model_name == 'learning based': \n",
    "                dna = get_learningbased_dna(i, q, data_set)\n",
    "            else: \n",
    "                print('Invalid model name : '  + model_name + '. The options are : anchor1, anchor3, benchmark codec or learning based.')\n",
    "                return\n",
    "            cg.append(CG_content(dna))\n",
    "            \n",
    "        plt.plot(range(1,9), cg)\n",
    "        \n",
    "    plt.xlabel('Quality')\n",
    "    plt.ylabel('CG content (%)')\n",
    "    plt.title('CG contents of ' + model_name +' dna in regards of the quality for the 24 images of the kodak data set')\n",
    "    plt.ylim(0, 100) \n",
    "    #plt.legend(bbox_to_anchor=(1.05, 1), loc='upper left', borderaxespad=0.)\n",
    "    plt.savefig('plots/cg_' + model_name + '.jpeg', bbox_inches='tight')\n",
    "    plt.show()\n",
    "    \n",
    "\n",
    "\n",
    "#cg_contents('anchor1')\n",
    "#cg_contents('anchor3')\n",
    "#cg_contents('benchmark codec')\n",
    "#cg_contents('learning based')\n"
   ]
  },
  {
   "cell_type": "markdown",
   "id": "83534b41",
   "metadata": {},
   "source": [
    "### Homopolymers"
   ]
  },
  {
   "cell_type": "code",
   "execution_count": 63,
   "id": "0b42cff1",
   "metadata": {},
   "outputs": [],
   "source": [
    "\n",
    "def count_homopolymers(count, homopolymers, dna, i):\n",
    "    if i == 0 :\n",
    "        return count \n",
    "    elif dna[i] == dna[i-1] : \n",
    "        count_homopolymers(count, homo+1, dna, i-1)\n",
    "    elif homo >= 3 : \n",
    "        count.append(homo)\n",
    "        count_homopolymers(count, 0, dna, i-1)\n",
    "    else : \n",
    "        count_homopolymers(count, 0, dna, i-1) \n",
    "        \n",
    "def check_homopolymers(dna) :\n",
    "    count = 0\n",
    "    for i in range(len(dna)-2): \n",
    "        if ((dna[i] == dna[i+1]) & (dna[i+1] == dna[i+2])): \n",
    "            ++ count  \n",
    "    if count > 0: \n",
    "        print (count_homopolymers(0, [], dna, len(dna)))\n",
    "    return count \n"
   ]
  },
  {
   "cell_type": "code",
   "execution_count": 64,
   "id": "4f62dd9a",
   "metadata": {},
   "outputs": [],
   "source": [
    "def all_homopolymers(): \n",
    "    anchor1_count = 0\n",
    "    anchor3_count = 0\n",
    "    learningbased_count = 0\n",
    "    benchmarkcodec_count = 0\n",
    "    for q in range(1, 9): \n",
    "        for i in range(1, 25): \n",
    "            anchor1_dna = get_anchor_dna(1,i,q)\n",
    "            anchor3_dna = get_anchor_dna(3,i,q)\n",
    "            benchmarkcodec_dna = get_benchmark_dna(i,q)\n",
    "            learningbased_dna = get_learningbased_dna(i,q)\n",
    "            \n",
    "            anchor1_count += check_homopolymers(anchor1_dna) \n",
    "            anchor3_count += check_homopolymers(anchor3_dna)\n",
    "            learningbased_count += check_homopolymers(learningbased_dna)\n",
    "            benchmarkcodec_count += check_homopolymers(benchmarkcodec_dna)\n",
    "\n",
    "    print(\"Number of homopolymers in anchor 1 dna : \" + str(anchor1_count))\n",
    "    print(\"Number of homopolymers in anchor 3 dna : \" + str(anchor3_count))\n",
    "    print(\"Number of homopolymers in learning based dna : \"+ str(learningbased_count))\n",
    "    print(\"Number of homopolymers in benchmark codec dna : \"+ str(learningbased_count))\n",
    "    \n",
    "    "
   ]
  },
  {
   "cell_type": "code",
   "execution_count": 65,
   "id": "be0fad15",
   "metadata": {
    "scrolled": true
   },
   "outputs": [
    {
     "name": "stdout",
     "output_type": "stream",
     "text": [
      "Number of homopolymers in anchor 1 dna : 0\n",
      "Number of homopolymers in anchor 3 dna : 0\n",
      "Number of homopolymers in learning based dna : 0\n",
      "Number of homopolymers in benchmark codec dna : 0\n"
     ]
    }
   ],
   "source": [
    "all_homopolymers()"
   ]
  },
  {
   "cell_type": "markdown",
   "id": "126b8e65",
   "metadata": {},
   "source": [
    "### Metrics"
   ]
  },
  {
   "cell_type": "markdown",
   "id": "dac98a49",
   "metadata": {},
   "source": [
    "#### PSNR\n",
    "\n",
    "\n",
    "- PSNR = Peak Signal-to-Noise Ratio\n",
    "- Measures the difference between an original image and a compressed or reconstructed version of it. \n",
    "- The higher the PSNR value, the better the quality of the compressed or reconstructed image.\n",
    "\n",
    "\\begin{equation}\n",
    "PSNR = - 10 \\cdot \\log_{10} (MSE)\n",
    "\\end{equation}\n",
    "\n",
    "\n"
   ]
  },
  {
   "cell_type": "code",
   "execution_count": 89,
   "id": "7cf8d14c",
   "metadata": {},
   "outputs": [],
   "source": [
    "def compute_psnr(a, b):\n",
    "    mse = torch.mean((a - b)**2).item()\n",
    "    return -10 * math.log10(mse)"
   ]
  },
  {
   "cell_type": "markdown",
   "id": "31266dd1",
   "metadata": {},
   "source": [
    "#### MS-SSIM\n",
    "- MS-SSIM = Multi-Scale Structural Similarity Index\n",
    "- Measures the similarity between two images\n",
    "- Takes into account multiple scales of image structures\n",
    "- The higher the MS-SSIM, the higher the similqrity between 2 images"
   ]
  },
  {
   "cell_type": "code",
   "execution_count": 91,
   "id": "bdef3fd5",
   "metadata": {},
   "outputs": [],
   "source": [
    "def compute_msssim(a, b):\n",
    "    return ms_ssim(a, b, data_range=1.).item()"
   ]
  },
  {
   "cell_type": "markdown",
   "id": "00c0f149",
   "metadata": {},
   "source": [
    "#### IW-SSIM\n",
    "- IW-SSIM = Information-Weighted Structural Similarity Index\n",
    "- Takes into account the importance of different regions in the image, and assigns them different weights based on their visual significance\n",
    "- The higher the MS-SSIM, the higher the similqrity between 2 images\n",
    "\n",
    "\\begin{equation}\n",
    "\\text{IW-SSIM} = \\frac{(2 \\mu_a \\mu_b + c_1)(2\\sigma_{ab} + c_2)}{(\\mu_a^2 + \\mu_b^2 + c_1)(\\sigma_a^2 + \\sigma_b^2 + c_2)} \\cdot \\text{SSIM}\n",
    "\\end{equation}\n"
   ]
  },
  {
   "cell_type": "code",
   "execution_count": 92,
   "id": "0f266b38",
   "metadata": {},
   "outputs": [],
   "source": [
    "def compute_iwssim(a, b, k=0.01):\n",
    "    # Compute the constants c1 and c2 used in the IW-SSIM formula\n",
    "    c1 = (k * 1) ** 2\n",
    "    c2 = (k * 1) ** 2\n",
    "    # Compute the mean, variance, and covariance of the two input images\n",
    "    mean_a = a.mean(dim=(1, 2, 3), keepdim=True)\n",
    "    mean_b = b.mean(dim=(1, 2, 3), keepdim=True)\n",
    "    var_a = ((a - mean_a) ** 2).mean(dim=(1, 2, 3), keepdim=True)\n",
    "    var_b = ((b - mean_b) ** 2).mean(dim=(1, 2, 3), keepdim=True)\n",
    "    cov_ab = ((a - mean_a) * (b - mean_b)).mean(dim=(1, 2, 3), keepdim=True)\n",
    "    \n",
    "    # Compute the SSIM value between the two input images using pytorch_msssim's ssim function\n",
    "    ssim_val = ssim(a, b, data_range=1.0, win_size=11, size_average=True)\n",
    "    \n",
    "    # Compute the IW-SSIM value using the mean, variance, covariance, and SSIM values\n",
    "    iwssim_val = ((2 * mean_a * mean_b + c1) * (2 * cov_ab + c2)) / ((mean_a ** 2 + mean_b ** 2 + c1) * (var_a + var_b + c2)) * ssim_val\n",
    "    \n",
    "    # Return the average IW-SSIM value across the batch\n",
    "    return iwssim_val.mean().item()\n"
   ]
  },
  {
   "cell_type": "code",
   "execution_count": 93,
   "id": "45449b37",
   "metadata": {},
   "outputs": [],
   "source": [
    "def compute_bit_rate(img, dna): \n",
    "    h, w = img.size\n",
    "    return len(dna)/(h*w)"
   ]
  },
  {
   "cell_type": "markdown",
   "id": "e92370f8",
   "metadata": {},
   "source": [
    "### Plots"
   ]
  },
  {
   "cell_type": "code",
   "execution_count": 69,
   "id": "4cf41635",
   "metadata": {},
   "outputs": [],
   "source": [
    "def compute_metric(metric_name, original_tensor, reconstructed_tensor): \n",
    "    \n",
    "    \"\"\"\n",
    "    Computes the quality metric given by 'metric_name' for an encoded image, \n",
    "    in comparison to an original image. \n",
    "\n",
    "    Parameters\n",
    "    ----------\n",
    "    metric_name: string \n",
    "        name of the metric to be computed.\n",
    "        'PSNR', 'PSNR-HVS-M' 'MS-SSIM', or 'IW-SSIM.\n",
    "    original_tensor: tensor\n",
    "        original image run through the different encoder\n",
    "    reconstructed_tensor: tensor\n",
    "        reconstructed image tensor\n",
    "        \n",
    "\n",
    "    Returns\n",
    "    -------\n",
    "    The computed value of the given quality metric for the specified image\n",
    "    \"\"\"\n",
    "    if metric_name == 'PSNR-HVS-M':\n",
    "        original_image = transforms.ToPILImage()(original_tensor.squeeze().cpu())\n",
    "        reconstructed_image = transforms.ToPILImage()(reconstructed_tensor.squeeze().cpu())\n",
    "        return compute_psnr_hvsm(original_image, reconstructed_image)\n",
    "    elif metric_name == 'PSNR' : \n",
    "        return compute_psnr(original_tensor, reconstructed_tensor)\n",
    "    elif metric_name == 'MS-SSIM': \n",
    "        return compute_msssim(original_tensor, reconstructed_tensor)\n",
    "    elif metric_name =='IW-SSIM': \n",
    "        return compute_iwssim(original_tensor, reconstructed_tensor)\n",
    "    else:\n",
    "        print(\"Invalid argument : \" + metric_name +\". The available metrics are PSNR, MS-SSIM, IW-SSIM or PSNR-HVS-M\")\n",
    "        return"
   ]
  },
  {
   "cell_type": "code",
   "execution_count": 57,
   "id": "af0b2751",
   "metadata": {},
   "outputs": [],
   "source": [
    "def plot_metric(metric_name, img_number, data_set = 'jpeg_dna'): \n",
    "    \"\"\"\n",
    "    Plots a quality metric given by metric_name, for a an image encoded by different models.\n",
    "    \n",
    "    Parameters\n",
    "    ----------\n",
    "    metric_name: string \n",
    "        name of the metric to be plotted\n",
    "        'PSNR', 'MSSSIM', or 'IWSSIM'\n",
    "    data_set : string\n",
    "        name of the data set on which to perform the computations\n",
    "        'jpeg_dna' or kodak\n",
    "    img_number: \n",
    "        number of the image of interest in the given data set\n",
    "\n",
    "    Returns\n",
    "    -------\n",
    "    A plot saved in the folder /plots\n",
    "    \"\"\"\n",
    "    if((data_set != 'jpeg_dna') & (data_set != 'kodak')): \n",
    "        print(\"Ivalid data set name, please enter  'jpeg_dna' or 'kodak'.\")\n",
    "        return\n",
    "    \n",
    "    if data_set == 'kodak' : \n",
    "        if(img_number < 1 or img_number > 24): \n",
    "            print('Ivalid image number, please enter a value between 1 and 24.')\n",
    "            return\n",
    "    if data_set == 'kodak' : \n",
    "        if(img_number < 1 or img_number > 10): \n",
    "            print('Ivalid image number, please enter a value between 1 and 10.')\n",
    "            return\n",
    "        \n",
    "    if((metric_name != 'PSNR') & (metric_name != 'MSSSIM') & (metric_name != 'IWSSIM')): \n",
    "        print(\"Ivalid metric name, please enter  'PSNR', 'MSSSIM', or 'IWSSIM'.\")\n",
    "        return\n",
    "    \n",
    "    # Initialize empty lists to store metrics and bit rates for the image at all quality levels\n",
    "    learning_based_metric = []\n",
    "    anchor1_metric = [] \n",
    "    anchor3_metric = []\n",
    "    benchmark_codec_metric = []\n",
    "    learning_based_bitrates = []\n",
    "    anchor1_bitrates = []\n",
    "    anchor3_bitrates = []\n",
    "    benchmark_codec_bitrates = []\n",
    "    img, x = get_original_tensor(img_number, data_set)\n",
    "\n",
    "   # Loop through quality levels 1-8\n",
    "    for quality in range(1, 9):\n",
    "        # Load image, tensor and dna for the learning-based method and calculate bit rate\n",
    "        learning_based_img, learning_based_tensor = get_learningbased_tensor(img_number, quality, data_set)\n",
    "        learning_based_dna = get_learningbased_dna(img_number, quality, data_set)\n",
    "        learning_based_bitrates.append(compute_bit_rate(learning_based_img, learning_based_dna))\n",
    "\n",
    "        # Load image, tensor and dna for anchor1, calculate bit rate\n",
    "        anchor1_img, anchor1_tensor = get_anchor_tensor(1, img_number, quality, data_set)\n",
    "        anchor1_dna = get_anchor_dna(1, img_number, quality, data_set)\n",
    "        anchor1_bitrates.append(compute_bit_rate(anchor1_img, anchor1_dna))\n",
    "\n",
    "        # Load image, tensor and dna for anchor3, calculate bit rate\n",
    "        anchor3_img, anchor3_tensor = get_anchor_tensor(3, img_number, quality, data_set)\n",
    "        anchor3_dna = get_anchor_dna(3, img_number, quality, data_set)\n",
    "        anchor3_bitrates.append(compute_bit_rate(anchor3_img, anchor3_dna))\n",
    "\n",
    "        # Load image, tensor and dna for the JPEG DNA benchmark codec, calculate bit rate\n",
    "        benchmark_codec_img, benchmark_codec_tensor = get_benchmark_tensor(img_number, quality, data_set)\n",
    "        benchmark_codec_dna = get_benchmark_dna(img_number, quality, data_set)\n",
    "        benchmark_codec_bitrates.append(compute_bit_rate(benchmark_codec_img, benchmark_codec_dna))\n",
    "\n",
    "        # Calculate metric for each model and add to corresponding list \n",
    "        \n",
    "        learning_based_metric.append(compute_metric(metric_name, x, learning_based_tensor))\n",
    "        anchor1_metric.append(compute_metric(metric_name, x, anchor1_tensor))\n",
    "        anchor3_metric.append(compute_metric(metric_name, x, anchor3_tensor))\n",
    "        benchmark_codec_metric.append(compute_metric(metric_name, x, benchmark_codec_tensor))\n",
    "        \n",
    "    # plot results\n",
    "    if ((metric_name == 'PSNR') or (metric_name == 'PSNR-HVS-M')): \n",
    "        unit = ' (dB)'\n",
    "    else : unit = ''\n",
    "    plt.plot(learning_based_bitrates, learning_based_metric, label='Learning based', marker='o', markersize=3)\n",
    "    plt.plot(anchor1_bitrates, anchor1_metric, label='Anchor 1', marker='o', markersize=3)\n",
    "    plt.plot(anchor3_bitrates, anchor3_metric, label='Anchor 3', marker='o', markersize=3)\n",
    "    plt.plot(benchmark_codec_bitrates, benchmark_codec_metric, label='JPEG DNA Benchmark Codec', marker='o', markersize=3)\n",
    "    plt.xlabel('Rate (nts/pxl)')\n",
    "    plt.ylabel(metric_name + unit)\n",
    "    plt.title(metric_name +' of the image ' + str(img_number)+ ' of the ' + data_set +  ' set for different models')\n",
    "    plt.legend()\n",
    "    plt.savefig('plots/'+ data_set + '_' + metric_name +'im' + str(img_number) +'.jpeg')\n",
    "    plt.show()"
   ]
  },
  {
   "cell_type": "code",
   "execution_count": 59,
   "id": "2088c1bd",
   "metadata": {},
   "outputs": [],
   "source": [
    "def plot_all_metrics(img_number, data_set = 'jpeg_dna'): \n",
    "        plot_metric('IWSSIM', img_number, data_set)\n",
    "        plot_metric('MSSSIM', img_number, data_set)\n",
    "        plot_metric('PSNR', img_number, data_set)\n",
    "        \n",
    "def plot_all(data_set): \n",
    "    for img_id in range(1,25):\n",
    "        plot_all_metrics(img_id, data_set)\n",
    "\n",
    "#plot_all()"
   ]
  },
  {
   "cell_type": "code",
   "execution_count": 60,
   "id": "99db4591",
   "metadata": {},
   "outputs": [],
   "source": [
    "def plot_avg_metric(metric_name, data_set = 'jpeg_dna'): \n",
    "    \"\"\"\n",
    "    Plots the average across all the images of the kodak data set of the quality metric \n",
    "    given by metric_name. The images are encoded by different models. \n",
    "    \n",
    "    Parameters\n",
    "    ----------\n",
    "    metric_name: string \n",
    "        name of the metric to be plotted\n",
    "        'PSNR', 'MSSSIM', or 'IWSSIM'\n",
    "    data_set : string\n",
    "        name of the data set on which to perform the computations\n",
    "    \n",
    "    Returns\n",
    "    -------\n",
    "    A plot saved in the folder /plots\n",
    "    \"\"\"\n",
    "    \n",
    "    # Check input\n",
    "    if((metric_name != 'PSNR') & (metric_name != 'MSSSIM') & (metric_name != 'IWSSIM')): \n",
    "        print(\"Ivalid metric name, please enter  'PSNR', 'MSSSIM', or 'IWSSIM'.\")\n",
    "        return\n",
    "    if((data_set != 'jpeg_dna') & (data_set != 'kodak')): \n",
    "        print(\"Ivalid data set name, please enter  'jpeg_dna' or 'kodak'.\")\n",
    "        return\n",
    "    \n",
    "    # Initialize empty lists to store average metrics and bit rates for each anchor type\n",
    "    learning_based_avg_metrics = []\n",
    "    anchor1_avg_metrics = []\n",
    "    anchor3_avg_metrics = []\n",
    "    benchmark_codec_avg_metrics = []\n",
    "    \n",
    "    learning_based_avg_bitrates = []\n",
    "    anchor1_avg_bitrates = []\n",
    "    anchor3_avg_bitrates = []\n",
    "    benchmark_codec_avg_bitrates = []\n",
    "    \n",
    "    # Loop through quality levels 1-8\n",
    "    for quality in range(1, 9):\n",
    "        # Initialize empty lists to store metrics and bit rates for all images at the current quality level\n",
    "        learning_based_metric = []\n",
    "        anchor1_metric = [] \n",
    "        anchor3_metric = []\n",
    "        benchmark_codec_metric = []\n",
    "        \n",
    "        learning_based_bitrates = []\n",
    "        anchor1_bitrates = []\n",
    "        anchor3_bitrates = []\n",
    "        benchmark_codec_bitrates = []\n",
    "        # Loop through images 1-24 (kodak data set)\n",
    "        for img_id in range(1, 25):\n",
    "            img, x = get_original_tensor(img_id, data_set)\n",
    "            \n",
    "            # Load image, tensor and dna for the learning-based method and calculate bit rate\n",
    "            learning_based_img, learning_based_tensor = get_learningbased_tensor(img_id, quality, data_set)\n",
    "            learning_based_dna = get_learningbased_dna(img_id, quality, data_set)\n",
    "            learning_based_bitrates.append(compute_bit_rate(learning_based_img, learning_based_dna))\n",
    "            \n",
    "            # Load image, tensor and dna for anchor1, calculate bit rate\n",
    "            anchor1_img, anchor1_tensor = get_anchor_tensor(1, img_id, quality, data_set)\n",
    "            anchor1_dna = get_anchor_dna(1, img_id, quality, data_set)\n",
    "            anchor1_bitrates.append(compute_bit_rate(anchor1_img, anchor1_dna))\n",
    "\n",
    "            # Load image, tensor and dna for anchor3, calculate bit rate\n",
    "            anchor3_img, anchor3_tensor = get_anchor_tensor(3, img_id, quality, data_set)\n",
    "            anchor3_dna = get_anchor_dna(3, img_id, quality, data_set)\n",
    "            anchor3_bitrates.append(compute_bit_rate(anchor3_img, anchor3_dna))\n",
    "            \n",
    "            # Load image, tensor and dna for the JPEG DNA benchmark codec, calculate bit rate\n",
    "            benchmark_codec_img, benchmark_codec_tensor = get_benchmark_tensor(img_id, quality, data_set)\n",
    "            benchmark_codec_dna = get_benchmark_dna(img_id, quality, data_set)\n",
    "            benchmark_codec_bitrates.append(compute_bit_rate(benchmark_codec_img, benchmark_codec_dna))\n",
    "        \n",
    "            # Calculate metric for each model and add to corresponding list\n",
    "            learning_based_metric.append(compute_metric(metric_name, x, learning_based_tensor))\n",
    "            anchor1_metric.append(compute_metric(metric_name, x, anchor1_tensor))\n",
    "            anchor3_metric.append(compute_metric(metric_name, x, anchor3_tensor))\n",
    "            benchmark_codec_metric.append(compute_metric(metric_name, x, benchmark_codec_tensor))\n",
    "        \n",
    "        # Calculate the average bit rate and metric, and add them to the corresponding lists \n",
    "        learning_based_avg_bitrates.append(mean(learning_based_bitrates))\n",
    "        learning_based_avg_metrics.append(mean(learning_based_metric))\n",
    "        anchor1_avg_bitrates.append(mean(anchor1_bitrates))\n",
    "        anchor1_avg_metrics.append(mean(anchor1_metric))\n",
    "        anchor3_avg_bitrates.append(mean(anchor3_bitrates))\n",
    "        anchor3_avg_metrics.append(mean(anchor3_metric))\n",
    "        benchmark_codec_avg_bitrates.append(mean(benchmark_codec_bitrates))\n",
    "        benchmark_codec_avg_metrics.append(mean(benchmark_codec_metric))\n",
    "    \n",
    "    # Plot the result\n",
    "    unit = ''\n",
    "    if(metric_name == 'PSNR'): \n",
    "        unit = (' (dB)')\n",
    "    plt.plot(learning_based_avg_bitrates, learning_based_avg_metrics, label='Learning based', marker='o', markersize=3)\n",
    "    plt.plot(anchor1_avg_bitrates, anchor1_avg_metrics, label='Anchor 1', marker='o', markersize=3)\n",
    "    plt.plot(anchor3_avg_bitrates, anchor3_avg_metrics, label='Anchor 3', marker='o', markersize=3)\n",
    "    plt.plot(benchmark_codec_avg_bitrates, benchmark_codec_avg_metrics, label='JPEG DNA Benchmark Codec', marker='o', markersize=3)\n",
    "    plt.xlabel('Rate (nts/pxl)')\n",
    "    plt.ylabel(metric_name + unit)\n",
    "    plt.title('Average ' + metric_name +' across the ' + data_set + ' set for different models')\n",
    "    plt.legend()\n",
    "    plt.savefig('plots/avg_'+ data_set + '_' + metric_name +'.jpeg')\n",
    "    plt.show()"
   ]
  },
  {
   "cell_type": "code",
   "execution_count": 276,
   "id": "6257de4e",
   "metadata": {
    "scrolled": true
   },
   "outputs": [
    {
     "data": {
      "image/png": "[encoded data removed]",
      "text/plain": [
       "<Figure size 432x288 with 1 Axes>"
      ]
     },
     "metadata": {
      "needs_background": "light"
     },
     "output_type": "display_data"
    }
   ],
   "source": [
    "#plot_avg_metric('IWSSIM')"
   ]
  },
  {
   "cell_type": "code",
   "execution_count": 246,
   "id": "26910ef9",
   "metadata": {},
   "outputs": [],
   "source": [
    "def plot_all_average_metrics():\n",
    "    \"\"\"\n",
    "    Plots the average PSNR, MSSSIM, and IW-SSIM across all the images of the kodak data set \n",
    "    at different quality levels.\n",
    "    The images are encoded by different models. \n",
    "    \"\"\"\n",
    "    plot_avg_metric('PSNR')\n",
    "    plot_avg_metric('MSSSIM')\n",
    "    plot_avg_metric('IWSSIM')"
   ]
  },
  {
   "cell_type": "code",
   "execution_count": 247,
   "id": "d366b712",
   "metadata": {},
   "outputs": [
    {
     "data": {
      "image/png": "[encoded data removed]",
      "text/plain": [
       "<Figure size 432x288 with 1 Axes>"
      ]
     },
     "metadata": {
      "needs_background": "light"
     },
     "output_type": "display_data"
    },
    {
     "data": {
      "image/png": "[encoded data removed]",
      "text/plain": [
       "<Figure size 432x288 with 1 Axes>"
      ]
     },
     "metadata": {
      "needs_background": "light"
     },
     "output_type": "display_data"
    },
    {
     "data": {
      "image/png": "[encoded data removed]",
      "text/plain": [
       "<Figure size 432x288 with 1 Axes>"
      ]
     },
     "metadata": {
      "needs_background": "light"
     },
     "output_type": "display_data"
    }
   ],
   "source": [
    "#plot_all_average_metrics()"
   ]
  },
  {
   "cell_type": "code",
   "execution_count": null,
   "id": "7451206b",
   "metadata": {},
   "outputs": [],
   "source": []
  },
  {
   "cell_type": "code",
   "execution_count": null,
   "id": "f1e1109c",
   "metadata": {},
   "outputs": [],
   "source": []
  }
 ],
 "metadata": {
  "kernelspec": {
   "display_name": "Python 3 (ipykernel)",
   "language": "python",
   "name": "python3"
  },
  "language_info": {
   "codemirror_mode": {
    "name": "ipython",
    "version": 3
   },
   "file_extension": ".py",
   "mimetype": "text/x-python",
   "name": "python",
   "nbconvert_exporter": "python",
   "pygments_lexer": "ipython3",
   "version": "3.9.12"
  }
 },
 "nbformat": 4,
 "nbformat_minor": 5
}
