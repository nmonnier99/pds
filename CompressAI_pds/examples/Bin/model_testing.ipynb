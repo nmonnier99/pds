{
 "cells": [
  {
   "cell_type": "code",
   "execution_count": 1,
   "id": "26809b19",
   "metadata": {},
   "outputs": [],
   "source": [
    "import math\n",
    "import io\n",
    "import torch\n",
    "from torchvision import transforms\n",
    "import numpy as np\n",
    "import pickle\n",
    "import re\n",
    "import scipy.stats as st\n",
    "import PIL\n",
    "from collections import Counter\n",
    "from PIL import Image\n",
    "from PIL import ImageChops\n",
    "import imageio\n",
    "from pytorch_msssim import ssim, ms_ssim\n",
    "import matplotlib.pyplot as plt\n",
    "from statistics import mean\n",
    "import compressai\n",
    "import skimage\n",
    "import torch.nn.functional as F\n",
    "from compression import rates\n",
    "from quality import psnr\n",
    "from compression import rates\n",
    "from oligochecker import size\n",
    "from oligoanalyzer import gc_stats\n",
    "from oligoanalyzer import homopolymer_stats\n",
    "from IQA_pytorch import SSIM, GMSD, LPIPSvgg, DISTS"
   ]
  },
  {
   "cell_type": "code",
   "execution_count": 2,
   "id": "cba92e94",
   "metadata": {},
   "outputs": [],
   "source": [
    "from compressai.zoo import bmshj2018_factorized\n",
    "from compressai.dna_entropy_coding.coder import Coder\n",
    "from ipywidgets import interact, widgets"
   ]
  },
  {
   "cell_type": "code",
   "execution_count": 3,
   "id": "b565f717",
   "metadata": {},
   "outputs": [],
   "source": [
    "device = 'cuda' if torch.cuda.is_available() else 'cpu'"
   ]
  },
  {
   "cell_type": "code",
   "execution_count": 4,
   "id": "e1a31370",
   "metadata": {},
   "outputs": [],
   "source": [
    "JPEG_SIZES = [\n",
    "    '1192x832', \n",
    "    '853x945', \n",
    "    '945x840', \n",
    "    '2000x2496', \n",
    "    '560x888',\n",
    "    '2048x1536', \n",
    "    '1600x1200', \n",
    "    '1430x1834', \n",
    "    '2048x1536', \n",
    "    '2592x1946'  \n",
    "]"
   ]
  },
  {
   "cell_type": "code",
   "execution_count": 5,
   "id": "15747bf1",
   "metadata": {},
   "outputs": [],
   "source": [
    "DATA_SET_LIST = [\n",
    "    'kodak', \n",
    "    'jpeg_dna'\n",
    "]"
   ]
  },
  {
   "cell_type": "code",
   "execution_count": 6,
   "id": "bba3995e",
   "metadata": {},
   "outputs": [],
   "source": [
    "METRICS_LIST = [\n",
    "    'PSNR', \n",
    "    'PSNR-YUV', \n",
    "    'PSNR-Y-CB-CR', \n",
    "    'MS-SSIM', \n",
    "    'IW-SSIM'\n",
    "]"
   ]
  },
  {
   "cell_type": "code",
   "execution_count": 7,
   "id": "b46208be",
   "metadata": {},
   "outputs": [],
   "source": [
    "MODELS_LIST = [\n",
    "    'benchmarkcodec', \n",
    "    'anchor1', \n",
    "    'anchor3', \n",
    "    'learningbased'\n",
    "]"
   ]
  },
  {
   "cell_type": "markdown",
   "id": "540bb45a",
   "metadata": {},
   "source": [
    "### Image extraction"
   ]
  },
  {
   "cell_type": "code",
   "execution_count": 8,
   "id": "85bc0ef0",
   "metadata": {},
   "outputs": [],
   "source": [
    "def get_original_tensor(data_set, img_id): \n",
    "    path = get_original_image_path(data_set, img_id)\n",
    "    img = Image.open(path).convert('RGB')\n",
    "    x = transforms.ToTensor()(img).unsqueeze(0).to(device)\n",
    "    return img, x"
   ]
  },
  {
   "cell_type": "code",
   "execution_count": 9,
   "id": "500e4f59",
   "metadata": {},
   "outputs": [],
   "source": [
    "def get_original_image_path(data_set, img_number): \n",
    "    img_path = 'assets/' + data_set\n",
    "    if data_set == 'kodak':\n",
    "        img_name = '/kodim{:02d}.png'.format(img_number)\n",
    "        \n",
    "    if data_set == 'jpeg_dna': \n",
    "        img_name = f\"/{str(img_number).zfill(5)}_\" + JPEG_SIZES[img_number-1]+'.png'\n",
    "    return img_path + img_name"
   ]
  },
  {
   "cell_type": "code",
   "execution_count": 10,
   "id": "0c06ff46",
   "metadata": {},
   "outputs": [],
   "source": [
    "def get_decoded_image_path(data_set, model_name, img_number, quality): \n",
    "    path = 'assets/' + data_set +'/' + model_name\n",
    "    img_name = ''\n",
    "    if data_set == 'kodak': \n",
    "        img_name = '/{}kodim{:02d}.png'.format(quality, img_number)\n",
    "        \n",
    "    elif data_set == 'jpeg_dna':\n",
    "        img_name = f\"/JPEG-1_{str(img_number).zfill(5)}\" + '_' + JPEG_SIZES[img_number-1] + '_' + str(quality) + '_decoded' + '.png'\n",
    "    else : \n",
    "        return ''\n",
    "    return path + img_name"
   ]
  },
  {
   "cell_type": "code",
   "execution_count": 11,
   "id": "46a9743e",
   "metadata": {},
   "outputs": [],
   "source": [
    "def get_decoded_tensor(data_set, model_name, img_number, quality):\n",
    "    path = get_decoded_image_path(data_set, model_name, img_number, quality)\n",
    "    img = Image.open(path).convert('RGB')   \n",
    "    x = transforms.ToTensor()(img).unsqueeze(0).to(device)\n",
    "    return img, x"
   ]
  },
  {
   "cell_type": "code",
   "execution_count": 12,
   "id": "bc14715e",
   "metadata": {},
   "outputs": [],
   "source": [
    "def get_dna_path(data_set, model_name, img_number, quality): \n",
    "    path = 'assets/' + data_set +'/' + model_name\n",
    "    dna_name = ''\n",
    "    if data_set == 'kodak': \n",
    "        dna_name = '/{}kodim{:02d}.fasta'.format(quality, img_number)\n",
    "        \n",
    "    elif data_set == 'jpeg_dna':\n",
    "        dna_name = f\"/JPEG-1_{str(img_number).zfill(5)}\" + '_' + JPEG_SIZES[img_number-1] + '_' + str(quality) + '.fasta'\n",
    "    else : \n",
    "        return ''\n",
    "    return path + dna_name"
   ]
  },
  {
   "cell_type": "code",
   "execution_count": 13,
   "id": "d38ea918",
   "metadata": {},
   "outputs": [],
   "source": [
    "def get_dna(data_set, model_name, img_number, quality):\n",
    "    path = get_dna_path(data_set, model_name, img_number, quality)\n",
    "    fasta_file = open(path)\n",
    "    dna = fasta_file.read()\n",
    "    fasta_file.close()\n",
    "    return dna\n"
   ]
  },
  {
   "cell_type": "code",
   "execution_count": 14,
   "id": "aebd66e6",
   "metadata": {},
   "outputs": [],
   "source": [
    "#print(get_dna('jpeg_dna', 'anchor1', 1, 1))#"
   ]
  },
  {
   "cell_type": "markdown",
   "id": "b213722f",
   "metadata": {},
   "source": [
    "# Biochemical constraints"
   ]
  },
  {
   "cell_type": "markdown",
   "id": "c6080b88",
   "metadata": {},
   "source": [
    "### DNA CG contents"
   ]
  },
  {
   "cell_type": "code",
   "execution_count": 15,
   "id": "c4a23a70",
   "metadata": {
    "scrolled": false
   },
   "outputs": [],
   "source": [
    "def CG_content(dna) : \n",
    "    return 100*(dna.count(\"C\")+dna.count(\"G\"))/len(dna)"
   ]
  },
  {
   "cell_type": "code",
   "execution_count": 16,
   "id": "f1343a2a",
   "metadata": {
    "scrolled": true
   },
   "outputs": [],
   "source": [
    "def cg_contents(model_name, data_set = 'jpeg_dna'): \n",
    "    \"\"\"\n",
    "    Plots of the percentage of CG nucleotides in dna strands in regards of the quality of the \n",
    "    encoding, computed for the 24 images of the kodak data set.  \n",
    "    \n",
    "    Parameters\n",
    "    ----------\n",
    "    model_name: string \n",
    "        name of the model to be used for dna encoding\n",
    "        'anchor1', 'anchor3', 'benchmark codec' or 'learning based'\n",
    "        \n",
    "    Returns\n",
    "    -------\n",
    "    A plot saved in the folder plots/\n",
    "    \"\"\"\n",
    "    if data_set == 'kodak': \n",
    "        number_of_images = 24\n",
    "    elif data_set == 'jpeg_dna': \n",
    "        number_of_images = 10\n",
    "    else : \n",
    "        print(\"Ivalid data set name, please enter  'jpeg_dna' or 'kodak'.\")\n",
    "        return\n",
    "    \n",
    "    \n",
    "    for i in range(1, number_of_images): \n",
    "        cg = []\n",
    "        bit_rate = []\n",
    "        print('image' + str(i))\n",
    "        for q in range(1,8):\n",
    "            print ('quality' + str(q))\n",
    "            dna = get_dna(data_set, model_name, i, q)\n",
    "            img, x = get_decoded_tensor(data_set, model_name, i, q)\n",
    "            cg.append(CG_content(dna))\n",
    "            bit_rate.append(compute_bit_rate(img, dna))\n",
    "            \n",
    "        plt.plot(bit_rate, cg)\n",
    "        \n",
    "    plt.xlabel('Rate (nt/pxl)')\n",
    "    plt.ylabel('CG content (%)')\n",
    "    plt.title('CG contents of ' + model_name +' dna for the ' + data_set + ' data set')\n",
    "    plt.ylim(0, 100) \n",
    "    #plt.legend(bbox_to_anchor=(1.05, 1), loc='upper left', borderaxespad=0.)\n",
    "    plt.savefig('plots/cg_' + data_set + '_'+ model_name + '.jpeg', bbox_inches='tight')\n",
    "    plt.show()\n",
    "    \n",
    "\n",
    "\n",
    "#cg_contents('anchor1')\n",
    "#cg_contents('anchor3')\n",
    "#cg_contents('benchmarkcodec')\n",
    "#cg_contents('learningbased')\n"
   ]
  },
  {
   "cell_type": "markdown",
   "id": "1e7e8f02",
   "metadata": {},
   "source": [
    "### Oligo length"
   ]
  },
  {
   "cell_type": "code",
   "execution_count": 158,
   "id": "ebe8db47",
   "metadata": {
    "scrolled": true
   },
   "outputs": [
    {
     "name": "stdout",
     "output_type": "stream",
     "text": [
      "<class 'dict'>\n",
      "752973 oligos have a length of 1\n"
     ]
    }
   ],
   "source": [
    "def display_oligo_length(dna): \n",
    "    stats = size.compute_data(dna)\n",
    "    print(type(stats))\n",
    "    size.nice_print(stats)\n",
    "dna = get_dna('kodak', 'benchmarkcodec', 2, 1)\n",
    "display_oligo_length(dna)\n"
   ]
  },
  {
   "cell_type": "markdown",
   "id": "83534b41",
   "metadata": {},
   "source": [
    "### Homopolymers"
   ]
  },
  {
   "cell_type": "code",
   "execution_count": 59,
   "id": "8b48d65a",
   "metadata": {},
   "outputs": [],
   "source": [
    "def homopolymer_data(dna):\n",
    "    (hom, nuc_hom, avg_hom, hom_pos_b) = homopolymer_stats.compute_data(dna)\n",
    "    return (hom, nuc_hom, avg_hom, hom_pos_b)\n",
    "\n",
    "def count_model_homopolymers(data_set, model_name): \n",
    "    if data_set == 'kodak': \n",
    "        number_of_images = 24\n",
    "    elif data_set == 'jpeg_dna': \n",
    "        number_of_images = 10\n",
    "    else : \n",
    "        print('Incorrect data set argument.')\n",
    "        return\n",
    "    homopolymers = 0\n",
    "    for img_id in range(1,number_of_images): \n",
    "        for q in range(1,8): \n",
    "            dna = get_dna(data_set, model_name, img_id, q)\n",
    "            (hom, nuc_hom, avg_hom, hom_pos_b) = homopolymer_data(dna)\n",
    "            homopolymers += sum(hom)\n",
    "    print('Number of homopolymers in all the DNA generated by the ' + model_name \n",
    "          + ' model on the ' + data_set + ' data set = ' + str(homopolymers))\n",
    "    if homopolymers > 0 : \n",
    "        print('The average length of the homopolymers is : ' + str(avg_hom))\n",
    "    return homopolymers\n",
    "\n",
    "def count_all_homopolymers(): \n",
    "    for data_set in DATA_SET_LIST: \n",
    "        for model_name in MODELS_LIST: \n",
    "            count_model_homopolymers(data_set, model_name)\n",
    "            \n",
    "#count_all_homopolymers()"
   ]
  },
  {
   "cell_type": "code",
   "execution_count": 60,
   "id": "0b42cff1",
   "metadata": {},
   "outputs": [
    {
     "data": {
      "text/plain": [
       "'\\ndef count_homopolymers(count, homopolymers, dna, i):\\n    if i == 0 :\\n        return count \\n    elif dna[i] == dna[i-1] : \\n        count_homopolymers(count, homo+1, dna, i-1)\\n    elif homo >= 3 : \\n        count.append(homo)\\n        count_homopolymers(count, 0, dna, i-1)\\n    else : \\n        count_homopolymers(count, 0, dna, i-1) \\n        \\ndef check_homopolymers(dna) :\\n    count = 0\\n    for i in range(len(dna)-2): \\n        if ((dna[i] == dna[i+1]) & (dna[i+1] == dna[i+2])): \\n            ++ count  \\n    if count > 0: \\n        print (count_homopolymers(0, [], dna, len(dna)))\\n    return count \\n'"
      ]
     },
     "execution_count": 60,
     "metadata": {},
     "output_type": "execute_result"
    }
   ],
   "source": [
    "'''\n",
    "def count_homopolymers(count, homopolymers, dna, i):\n",
    "    if i == 0 :\n",
    "        return count \n",
    "    elif dna[i] == dna[i-1] : \n",
    "        count_homopolymers(count, homo+1, dna, i-1)\n",
    "    elif homo >= 3 : \n",
    "        count.append(homo)\n",
    "        count_homopolymers(count, 0, dna, i-1)\n",
    "    else : \n",
    "        count_homopolymers(count, 0, dna, i-1) \n",
    "        \n",
    "def check_homopolymers(dna) :\n",
    "    count = 0\n",
    "    for i in range(len(dna)-2): \n",
    "        if ((dna[i] == dna[i+1]) & (dna[i+1] == dna[i+2])): \n",
    "            ++ count  \n",
    "    if count > 0: \n",
    "        print (count_homopolymers(0, [], dna, len(dna)))\n",
    "    return count \n",
    "'''"
   ]
  },
  {
   "cell_type": "code",
   "execution_count": 61,
   "id": "4f62dd9a",
   "metadata": {},
   "outputs": [
    {
     "data": {
      "text/plain": [
       "'\\ndef all_homopolymers(data_set = \\'jpeg_dna\\'): \\n    anchor1_count = 0\\n    anchor3_count = 0\\n    learningbased_count = 0\\n    benchmarkcodec_count = 0\\n    if data_set == \\'kodak\\': \\n        number_of_images = 24\\n    elif data_set == \\'jpeg_dna\\': \\n        number_of_images = 10\\n    else : \\n        print(\"Ivalid data set name, please enter  \\'jpeg_dna\\' or \\'kodak\\'.\")\\n        return\\n    for q in range(1, 9): \\n        for i in range(1, number_of_images + 1): \\n            anchor1_dna = get_dna(\\'anchor1\\', data_set,i,q)\\n            anchor3_dna = get_dna(\\'anchor3\\', data_set,i,q)\\n            benchmarkcodec_dna = get_dna(\\'benchmarkcodec\\', data_set,i,q)\\n            learningbased_dna = get_dna(\\'learningbased\\', data_set,i,q)\\n            \\n            anchor1_count += check_homopolymers(anchor1_dna) \\n            anchor3_count += check_homopolymers(anchor3_dna)\\n            learningbased_count += check_homopolymers(learningbased_dna)\\n            benchmarkcodec_count += check_homopolymers(benchmarkcodec_dna)\\n\\n    print(\"Number of homopolymers in anchor 1 dna : \" + str(anchor1_count))\\n    print(\"Number of homopolymers in anchor 3 dna : \" + str(anchor3_count))\\n    print(\"Number of homopolymers in learning based dna : \"+ str(learningbased_count))\\n    print(\"Number of homopolymers in benchmark codec dna : \"+ str(learningbased_count))\\n'"
      ]
     },
     "execution_count": 61,
     "metadata": {},
     "output_type": "execute_result"
    }
   ],
   "source": [
    "'''\n",
    "def all_homopolymers(data_set = 'jpeg_dna'): \n",
    "    anchor1_count = 0\n",
    "    anchor3_count = 0\n",
    "    learningbased_count = 0\n",
    "    benchmarkcodec_count = 0\n",
    "    if data_set == 'kodak': \n",
    "        number_of_images = 24\n",
    "    elif data_set == 'jpeg_dna': \n",
    "        number_of_images = 10\n",
    "    else : \n",
    "        print(\"Ivalid data set name, please enter  'jpeg_dna' or 'kodak'.\")\n",
    "        return\n",
    "    for q in range(1, 9): \n",
    "        for i in range(1, number_of_images + 1): \n",
    "            anchor1_dna = get_dna('anchor1', data_set,i,q)\n",
    "            anchor3_dna = get_dna('anchor3', data_set,i,q)\n",
    "            benchmarkcodec_dna = get_dna('benchmarkcodec', data_set,i,q)\n",
    "            learningbased_dna = get_dna('learningbased', data_set,i,q)\n",
    "            \n",
    "            anchor1_count += check_homopolymers(anchor1_dna) \n",
    "            anchor3_count += check_homopolymers(anchor3_dna)\n",
    "            learningbased_count += check_homopolymers(learningbased_dna)\n",
    "            benchmarkcodec_count += check_homopolymers(benchmarkcodec_dna)\n",
    "\n",
    "    print(\"Number of homopolymers in anchor 1 dna : \" + str(anchor1_count))\n",
    "    print(\"Number of homopolymers in anchor 3 dna : \" + str(anchor3_count))\n",
    "    print(\"Number of homopolymers in learning based dna : \"+ str(learningbased_count))\n",
    "    print(\"Number of homopolymers in benchmark codec dna : \"+ str(learningbased_count))\n",
    "'''    \n",
    "    "
   ]
  },
  {
   "cell_type": "code",
   "execution_count": 62,
   "id": "be0fad15",
   "metadata": {
    "scrolled": true
   },
   "outputs": [],
   "source": [
    "#all_homopolymers()"
   ]
  },
  {
   "cell_type": "markdown",
   "id": "b5f14db1",
   "metadata": {},
   "source": [
    "# Objective quality evaluation"
   ]
  },
  {
   "cell_type": "code",
   "execution_count": 17,
   "id": "d51a24e0",
   "metadata": {},
   "outputs": [],
   "source": [
    "def remove_padding(original_tensor, reconstructed_tensor): \n",
    "    height = original_tensor.shape[2]\n",
    "    width = original_tensor.shape[3]\n",
    "    reconstructed_tensor = reconstructed_tensor[:, :, :height, :width]\n",
    "    return reconstructed_tensor"
   ]
  },
  {
   "cell_type": "markdown",
   "id": "126b8e65",
   "metadata": {},
   "source": [
    "### Metrics"
   ]
  },
  {
   "cell_type": "markdown",
   "id": "dac98a49",
   "metadata": {},
   "source": [
    "#### PSNR\n",
    "\n",
    "\n",
    "- PSNR = Peak Signal-to-Noise Ratio\n",
    "- Measures the difference between an original image and a compressed or reconstructed version of it. \n",
    "- The higher the PSNR value, the better the quality of the compressed or reconstructed image.\n",
    "\n",
    "\\begin{equation}\n",
    "PSNR = - 10 \\cdot \\log_{10} (MSE)\n",
    "\\end{equation}\n",
    "\n",
    "\n"
   ]
  },
  {
   "cell_type": "code",
   "execution_count": 18,
   "id": "7cf8d14c",
   "metadata": {},
   "outputs": [],
   "source": [
    "def compute_psnr(original_tensor, reconstructed_tensor):\n",
    "    reconstructed_tensor = remove_padding(original_tensor, reconstructed_tensor)\n",
    "    mse = torch.mean((original_tensor - reconstructed_tensor)**2).item()\n",
    "    return -10 * math.log10(mse)\n"
   ]
  },
  {
   "cell_type": "code",
   "execution_count": 19,
   "id": "c5a12d2d",
   "metadata": {},
   "outputs": [],
   "source": [
    "def compute_psnr_yuv(original_tensor, reconstructed_tensor):\n",
    "    reconstructed_tensor = remove_padding(original_tensor, reconstructed_tensor)\n",
    "    reconstructed_img =  transforms.ToPILImage()(reconstructed_tensor.squeeze().cpu())\n",
    "    original_img = transforms.ToPILImage()(original_tensor.squeeze().cpu())\n",
    "    original_img = np.array(original_img)\n",
    "    reconstructed_img = np.array(reconstructed_img)\n",
    "    return psnr.psnr_yuv(original_img, reconstructed_img)"
   ]
  },
  {
   "cell_type": "code",
   "execution_count": 159,
   "id": "f73593f7",
   "metadata": {},
   "outputs": [],
   "source": [
    "def compute_psnr_y_cb_cr(original_tensor, reconstructed_tensor): \n",
    "    reconstructed_tensor = remove_padding(original_tensor, reconstructed_tensor)\n",
    "    reconstructed_img =  transforms.ToPILImage()(reconstructed_tensor.squeeze().cpu())\n",
    "    original_img = transforms.ToPILImage()(original_tensor.squeeze().cpu())\n",
    "    original_img = np.array(original_img)\n",
    "    reconstructed_img = np.array(reconstructed_img)\n",
    "    return psnr.psnr_y_cb_cr(original_img, reconstructed_img)"
   ]
  },
  {
   "cell_type": "markdown",
   "id": "31266dd1",
   "metadata": {},
   "source": [
    "#### MS-SSIM\n",
    "- MS-SSIM = Multi-Scale Structural Similarity Index\n",
    "- Measures the similarity between two images\n",
    "- Takes into account multiple scales of image structures\n",
    "- The higher the MS-SSIM, the higher the similqrity between 2 images"
   ]
  },
  {
   "cell_type": "code",
   "execution_count": 20,
   "id": "bdef3fd5",
   "metadata": {},
   "outputs": [],
   "source": [
    "def compute_msssim(original_tensor, reconstructed_tensor):\n",
    "    reconstructed_tensor = remove_padding(original_tensor, reconstructed_tensor)\n",
    "    return ms_ssim(original_tensor, reconstructed_tensor, data_range=1.).item()"
   ]
  },
  {
   "cell_type": "markdown",
   "id": "00c0f149",
   "metadata": {},
   "source": [
    "#### IW-SSIM\n",
    "- IW-SSIM = Information-Weighted Structural Similarity Index\n",
    "- Takes into account the importance of different regions in the image, and assigns them different weights based on their visual significance\n",
    "- The higher the MS-SSIM, the higher the similqrity between 2 images\n",
    "\n",
    "\\begin{equation}\n",
    "\\text{IW-SSIM} = \\frac{(2 \\mu_a \\mu_b + c_1)(2\\sigma_{ab} + c_2)}{(\\mu_a^2 + \\mu_b^2 + c_1)(\\sigma_a^2 + \\sigma_b^2 + c_2)} \\cdot \\text{SSIM}\n",
    "\\end{equation}\n"
   ]
  },
  {
   "cell_type": "code",
   "execution_count": 21,
   "id": "0f266b38",
   "metadata": {},
   "outputs": [],
   "source": [
    "def compute_iwssim(original_tensor, reconstructed_tensor, k=0.01):\n",
    "    reconstructed_tensor = remove_padding(original_tensor, reconstructed_tensor)\n",
    "    # Compute the constants c1 and c2 used in the IW-SSIM formula\n",
    "    c1 = (k * 1) ** 2\n",
    "    c2 = (k * 1) ** 2\n",
    "    # Compute the mean, variance, and covariance of the two input images\n",
    "    mean_original_tensor = original_tensor.mean(dim=(1, 2, 3), keepdim=True)\n",
    "    mean_reconstructed_tensor = reconstructed_tensor.mean(dim=(1, 2, 3), keepdim=True)\n",
    "    var_original_tensor = ((original_tensor - mean_original_tensor) ** 2).mean(dim=(1, 2, 3), keepdim=True)\n",
    "    var_reconstructed_tensor = ((reconstructed_tensor - mean_reconstructed_tensor) ** 2).mean(dim=(1, 2, 3), keepdim=True)\n",
    "    cov = ((original_tensor - mean_original_tensor) * (reconstructed_tensor - mean_reconstructed_tensor)).mean(dim=(1, 2, 3), keepdim=True)\n",
    "    \n",
    "    # Compute the SSIM value between the two input images using pytorch_msssim's ssim function\n",
    "    ssim_val = ssim(original_tensor, reconstructed_tensor, data_range=1.0, win_size=11, size_average=True)\n",
    "    \n",
    "    # Compute the IW-SSIM value using the mean, variance, covariance, and SSIM values\n",
    "    iwssim_val = ((2 * mean_original_tensor * mean_reconstructed_tensor + c1) * (2 * cov + c2)) / ((mean_original_tensor ** 2 + mean_reconstructed_tensor ** 2 + c1) * (var_original_tensor + var_reconstructed_tensor + c2)) * ssim_val\n",
    "    \n",
    "    # Return the average IW-SSIM value across the batch\n",
    "    return iwssim_val.mean().item()\n"
   ]
  },
  {
   "cell_type": "code",
   "execution_count": 22,
   "id": "45449b37",
   "metadata": {},
   "outputs": [],
   "source": [
    "def compute_bit_rate(img, dna): \n",
    "    h, w = img.size\n",
    "    return len(dna)/(h*w)"
   ]
  },
  {
   "cell_type": "markdown",
   "id": "e92370f8",
   "metadata": {},
   "source": [
    "### Plots"
   ]
  },
  {
   "cell_type": "code",
   "execution_count": 23,
   "id": "4cf41635",
   "metadata": {},
   "outputs": [],
   "source": [
    "def compute_metric(metric_name, original_tensor, reconstructed_tensor): \n",
    "    \n",
    "    \"\"\"\n",
    "    Computes the quality metric given by 'metric_name' for an encoded image, \n",
    "    in comparison to an original image. \n",
    "\n",
    "    Parameters\n",
    "    ----------\n",
    "    metric_name: string \n",
    "        name of the metric to be computed.\n",
    "        'PSNR', 'PSNR-YUV', 'PSNR-Y-CB-CR', 'MS-SSIM', 'IW-SSIM'\n",
    "        \n",
    "    original_tensor: tensor\n",
    "        original image run through the different encoder\n",
    "    reconstructed_tensor: tensor\n",
    "        reconstructed image tensor\n",
    "        \n",
    "\n",
    "    Returns\n",
    "    -------\n",
    "    The computed value of the given quality metric for the specified image\n",
    "    \"\"\"\n",
    "    \n",
    "    if metric_name == 'PSNR' : \n",
    "        return compute_psnr(original_tensor, reconstructed_tensor)\n",
    "    \n",
    "    elif metric_name == 'PSNR-YUV':\n",
    "        return compute_psnr_yuv(original_tensor, reconstructed_tensor)\n",
    "    \n",
    "    elif metric_name == 'PSNR-Y-CB-CR':\n",
    "        compute_psnr_y_cb_cr(original_te, reconstructed_image)\n",
    "        \n",
    "    elif metric_name == 'MS-SSIM': \n",
    "        return compute_msssim(original_tensor, reconstructed_tensor)\n",
    "    \n",
    "    elif metric_name =='IW-SSIM': \n",
    "        return compute_iwssim(original_tensor, reconstructed_tensor)\n",
    "    else:\n",
    "        print(\"Invalid argument : \" + metric_name + \".\")\n",
    "        return"
   ]
  },
  {
   "cell_type": "code",
   "execution_count": 26,
   "id": "af0b2751",
   "metadata": {},
   "outputs": [],
   "source": [
    "def plot_metric(metric_name, img_number, data_set = 'jpeg_dna'): \n",
    "    \"\"\"\n",
    "    Plots a quality metric given by metric_name, for a an image encoded by different models.\n",
    "    \n",
    "    Parameters\n",
    "    ----------\n",
    "    metric_name: string \n",
    "        name of the metric to be plotted\n",
    "        'PSNR', 'PSNR-YUV', 'PSNR-Y-CB-CR' 'MSSSIM', or 'IWSSIM'\n",
    "    data_set : string\n",
    "        name of the data set on which to perform the computations\n",
    "        'jpeg_dna' or 'kodak'\n",
    "    img_number: \n",
    "        number of the image of interest in the given data set\n",
    "\n",
    "    Returns\n",
    "    -------\n",
    "    A plot saved in the folder /plots\n",
    "    \"\"\"\n",
    "    \n",
    "    # Check if the metric argument is valid\n",
    "    if (metric_name in METRICS_LIST) & (data_set in DATA_SET_LIST) :\n",
    "        \n",
    "        if data_set == 'kodak' : \n",
    "            number_of_images = 24\n",
    "        elif data_set == 'jpeg_dna' : \n",
    "            number_of_images = 10\n",
    "        if (img_number > number_of_images) or (img_number<1): \n",
    "            print('Invalid image number')\n",
    "    # Initialize empty lists to store metrics and bit rates for the image at all quality levels\n",
    "        learning_based_metric = []\n",
    "        anchor1_metric = [] \n",
    "        anchor3_metric = []\n",
    "        benchmark_codec_metric = []\n",
    "        learning_based_bitrates = []\n",
    "        anchor1_bitrates = []\n",
    "        anchor3_bitrates = []\n",
    "        benchmark_codec_bitrates = []\n",
    "        \n",
    "        img, x = get_original_tensor(data_set, img_number)\n",
    "\n",
    "       # Loop through quality levels 1-8\n",
    "        for quality in range(1, 9):\n",
    "\n",
    "            # Load image, tensor and dna for the learning-based method and calculate bit rate\n",
    "            learning_based_img, learning_based_tensor = get_decoded_tensor(data_set, 'learningbased', img_number,quality)\n",
    "            learning_based_dna = get_dna( data_set, 'learningbased', img_number,quality)\n",
    "            learning_based_bitrates.append(compute_bit_rate(img, learning_based_dna))\n",
    "\n",
    "            # Load image, tensor and dna for anchor1, calculate bit rate\n",
    "            anchor1_img, anchor1_tensor = get_decoded_tensor(data_set, 'anchor1', img_number, quality)\n",
    "            anchor1_dna = get_dna(data_set, 'anchor1', img_number,quality)\n",
    "            anchor1_bitrates.append(compute_bit_rate(img, anchor1_dna))\n",
    "\n",
    "            # Load image, tensor and dna for anchor3, calculate bit rate\n",
    "            anchor3_img, anchor3_tensor = get_decoded_tensor(data_set, 'anchor3', img_number, quality)\n",
    "            anchor3_dna = get_dna(data_set, 'anchor3', img_number,quality)\n",
    "            anchor3_bitrates.append(compute_bit_rate(img, anchor3_dna))\n",
    "\n",
    "            # Load image, tensor and dna for the JPEG DNA benchmark codec, calculate bit rate\n",
    "            benchmark_codec_img, benchmark_codec_tensor = get_decoded_tensor(data_set, 'benchmarkcodec', img_number, quality)\n",
    "            benchmark_codec_dna = get_dna( data_set, 'benchmarkcodec',img_number,quality)\n",
    "            benchmark_codec_bitrates.append(compute_bit_rate(img, benchmark_codec_dna))\n",
    "\n",
    "            # Calculate metric for each model and add to corresponding list \n",
    "\n",
    "            learning_based_metric.append(compute_metric(metric_name, x, learning_based_tensor))\n",
    "            anchor1_metric.append(compute_metric(metric_name, x, anchor1_tensor))\n",
    "            anchor3_metric.append(compute_metric(metric_name, x, anchor3_tensor))\n",
    "            benchmark_codec_metric.append(compute_metric(metric_name, x, benchmark_codec_tensor))\n",
    "\n",
    "\n",
    "        # plot results\n",
    "        if 'PSNR' in metric_name:  \n",
    "            unit = ' (dB)'\n",
    "        else : unit = ''\n",
    "        plt.plot(learning_based_bitrates, learning_based_metric, label='Learning based', marker='o', markersize=3)\n",
    "        plt.plot(anchor1_bitrates, anchor1_metric, label='Anchor 1', marker='o', markersize=3)\n",
    "        plt.plot(anchor3_bitrates, anchor3_metric, label='Anchor 3', marker='o', markersize=3)\n",
    "        plt.plot(benchmark_codec_bitrates, benchmark_codec_metric, label='JPEG DNA Benchmark Codec', marker='o', markersize=3)\n",
    "        plt.xlabel('Rate (nts/pxl)')\n",
    "        plt.ylabel(metric_name + unit)\n",
    "        plt.title(metric_name +' of the image ' + str(img_number)+ ' of the ' + data_set +  ' set for different models')\n",
    "        plt.legend()\n",
    "        plt.savefig('plots/'+ data_set + '_' + metric_name +'im' + str(img_number) +'.jpeg')\n",
    "        plt.show()\n",
    "        \n",
    "    else : \n",
    "        print('Invalid data set name or metric name')\n",
    "        return"
   ]
  },
  {
   "cell_type": "code",
   "execution_count": 28,
   "id": "7a8a45d5",
   "metadata": {},
   "outputs": [
    {
     "data": {
      "image/png": "[encoded data removed]",
      "text/plain": [
       "<Figure size 432x288 with 1 Axes>"
      ]
     },
     "metadata": {
      "needs_background": "light"
     },
     "output_type": "display_data"
    }
   ],
   "source": [
    "plot_metric('PSNR-YUV', 1, 'kodak')"
   ]
  },
  {
   "cell_type": "code",
   "execution_count": 29,
   "id": "2088c1bd",
   "metadata": {},
   "outputs": [],
   "source": [
    "def plot_all_metrics(img_number, data_set = 'jpeg_dna'): \n",
    "        for metric in METRICS_LIST: \n",
    "            plot_metric(metric, img_number, data_set)\n",
    "        \n",
    "def plot_all(data_set = 'jpeg_dna'): \n",
    "    if data_set == 'jpeg_dna': \n",
    "        number_of_images = 10\n",
    "    elif data_set == 'kodak': \n",
    "        number_of_images = 24   \n",
    "    for img_id in range(1,number_of_images+1):\n",
    "        plot_all_metrics(img_id, data_set)\n",
    "\n",
    "#plot_all()"
   ]
  },
  {
   "cell_type": "code",
   "execution_count": 30,
   "id": "99db4591",
   "metadata": {},
   "outputs": [],
   "source": [
    "def plot_avg_metric(metric_name, data_set = 'jpeg_dna'): \n",
    "    \"\"\"\n",
    "    Plots the average across all the images of the kodak data set of the quality metric \n",
    "    given by metric_name. The images are encoded by different models. \n",
    "    \n",
    "    Parameters\n",
    "    ----------\n",
    "    metric_name: string \n",
    "        name of the metric to be plotted\n",
    "        'PSNR', 'MSSSIM', or 'IWSSIM'\n",
    "    data_set : string\n",
    "        name of the data set on which to perform the computations\n",
    "        'jpeg_dna' or 'kodak'\n",
    "    Returns\n",
    "    -------\n",
    "    A plot saved in the folder /plots\n",
    "    \"\"\"\n",
    "    \n",
    "    # Check input\n",
    "    if (metric_name in METRICS_LIST) & (data_set in DATA_SET_LIST): \n",
    "        \n",
    "        if data_set == 'kodak': \n",
    "            number_of_images = 24\n",
    "        elif data_set == 'jpeg_dna': \n",
    "            number_of_images = 10\n",
    "    \n",
    "        # Initialize empty lists to store average metrics and bit rates for each anchor type\n",
    "        learning_based_avg_metrics = []\n",
    "        anchor1_avg_metrics = []\n",
    "        anchor3_avg_metrics = []\n",
    "        benchmark_codec_avg_metrics = []\n",
    "\n",
    "        learning_based_avg_bitrates = []\n",
    "        anchor1_avg_bitrates = []\n",
    "        anchor3_avg_bitrates = []\n",
    "        benchmark_codec_avg_bitrates = []\n",
    "\n",
    "        # Loop through quality levels 1-8\n",
    "        for quality in range(1, 9):\n",
    "            # Initialize empty lists to store metrics and bit rates for all images at the current quality level\n",
    "            learning_based_metric = []\n",
    "            anchor1_metric = [] \n",
    "            anchor3_metric = []\n",
    "            benchmark_codec_metric = []\n",
    "\n",
    "            learning_based_bitrates = []\n",
    "            anchor1_bitrates = []\n",
    "            anchor3_bitrates = []\n",
    "            benchmark_codec_bitrates = []\n",
    "            # Loop through images 1-24 (kodak data set)\n",
    "            for img_id in range(1, number_of_images+1):\n",
    "                img, x = get_original_tensor(data_set,img_id)\n",
    "\n",
    "                # Load image, tensor and dna for the learning-based method and calculate bit rate\n",
    "                learning_based_img, learning_based_tensor = get_decoded_tensor(data_set, 'learningbased', img_id, quality)\n",
    "                learning_based_dna = get_dna(data_set, 'learningbased', img_id, quality)\n",
    "                learning_based_bitrates.append(compute_bit_rate(learning_based_img, learning_based_dna))\n",
    "\n",
    "                # Load image, tensor and dna for anchor1, calculate bit rate\n",
    "                anchor1_img, anchor1_tensor = get_decoded_tensor(data_set, 'anchor1', img_id, quality)\n",
    "                anchor1_dna = get_dna(data_set, 'anchor1', img_id, quality)\n",
    "                anchor1_bitrates.append(compute_bit_rate(anchor1_img, anchor1_dna))\n",
    "\n",
    "                # Load image, tensor and dna for anchor3, calculate bit rate\n",
    "                anchor3_img, anchor3_tensor = get_decoded_tensor(data_set, 'anchor3', img_id, quality)\n",
    "                anchor3_dna = get_dna(data_set, 'anchor3', img_id, quality)\n",
    "                anchor3_bitrates.append(compute_bit_rate(anchor3_img, anchor3_dna))\n",
    "\n",
    "                # Load image, tensor and dna for the JPEG DNA benchmark codec, calculate bit rate\n",
    "                benchmark_codec_img, benchmark_codec_tensor = get_decoded_tensor(data_set, 'benchmarkcodec', img_id, quality)\n",
    "                benchmark_codec_dna = get_dna(data_set, 'benchmarkcodec', img_id, quality)\n",
    "                benchmark_codec_bitrates.append(compute_bit_rate(benchmark_codec_img, benchmark_codec_dna))\n",
    "\n",
    "                # Calculate metric for each model and add to corresponding list\n",
    "                learning_based_metric.append(compute_metric(metric_name, x, learning_based_tensor))\n",
    "                anchor1_metric.append(compute_metric(metric_name, x, anchor1_tensor))\n",
    "                anchor3_metric.append(compute_metric(metric_name, x, anchor3_tensor))\n",
    "                benchmark_codec_metric.append(compute_metric(metric_name, x, benchmark_codec_tensor))\n",
    "\n",
    "            # Calculate the average bit rate and metric, and add them to the corresponding lists \n",
    "            learning_based_avg_bitrates.append(mean(learning_based_bitrates))\n",
    "            learning_based_avg_metrics.append(mean(learning_based_metric))\n",
    "            anchor1_avg_bitrates.append(mean(anchor1_bitrates))\n",
    "            anchor1_avg_metrics.append(mean(anchor1_metric))\n",
    "            anchor3_avg_bitrates.append(mean(anchor3_bitrates))\n",
    "            anchor3_avg_metrics.append(mean(anchor3_metric))\n",
    "            benchmark_codec_avg_bitrates.append(mean(benchmark_codec_bitrates))\n",
    "            benchmark_codec_avg_metrics.append(mean(benchmark_codec_metric))\n",
    "\n",
    "        # Plot the result\n",
    "        unit = ''\n",
    "        if 'PSNR' in metric_name: \n",
    "            unit = (' (dB)')\n",
    "        plt.plot(learning_based_avg_bitrates, learning_based_avg_metrics, label='Learning based', marker='o', markersize=3)\n",
    "        plt.plot(anchor1_avg_bitrates, anchor1_avg_metrics, label='Anchor 1', marker='o', markersize=3)\n",
    "        plt.plot(anchor3_avg_bitrates, anchor3_avg_metrics, label='Anchor 3', marker='o', markersize=3)\n",
    "        plt.plot(benchmark_codec_avg_bitrates, benchmark_codec_avg_metrics, label='JPEG DNA Benchmark Codec', marker='o', markersize=3)\n",
    "        plt.xlabel('Rate (nts/pxl)')\n",
    "        plt.ylabel(metric_name + unit)\n",
    "        plt.title('Average ' + metric_name +' across the ' + data_set + ' data set for different models')\n",
    "        plt.legend()\n",
    "        plt.savefig('plots/avg_'+ data_set + '_' + metric_name +'.jpeg')\n",
    "        plt.show()\n",
    "    else : \n",
    "        print ('Invalid metric name or data set. ')\n",
    "        return\n",
    "    "
   ]
  },
  {
   "cell_type": "code",
   "execution_count": null,
   "id": "6257de4e",
   "metadata": {
    "scrolled": true
   },
   "outputs": [],
   "source": [
    "plot_avg_metric('PSNR-YUV', 'kodak')"
   ]
  },
  {
   "cell_type": "code",
   "execution_count": 169,
   "id": "26910ef9",
   "metadata": {},
   "outputs": [],
   "source": [
    "def plot_all_average_metrics(data_set='jpeg_dna'):\n",
    "    \"\"\"\n",
    "    Plots the average PSNR, MSSSIM, and IW-SSIM across all the images of the kodak data set \n",
    "    at different quality levels.\n",
    "    The images are encoded by different models. \n",
    "    \"\"\"\n",
    "    for metric in METRICS_LIST : \n",
    "        plot_avg_metric(metric, data_set)\n",
    "    "
   ]
  },
  {
   "cell_type": "code",
   "execution_count": 36,
   "id": "d366b712",
   "metadata": {},
   "outputs": [],
   "source": [
    "#plot_all_average_metrics('kodak')"
   ]
  },
  {
   "cell_type": "code",
   "execution_count": null,
   "id": "b1adb4cc",
   "metadata": {},
   "outputs": [],
   "source": []
  }
 ],
 "metadata": {
  "direction": "rtl",
  "kernelspec": {
   "display_name": "Python 3 (ipykernel)",
   "language": "python",
   "name": "python3"
  },
  "language_info": {
   "codemirror_mode": {
    "name": "ipython",
    "version": 3
   },
   "file_extension": ".py",
   "mimetype": "text/x-python",
   "name": "python",
   "nbconvert_exporter": "python",
   "pygments_lexer": "ipython3",
   "version": "3.9.12"
  }
 },
 "nbformat": 4,
 "nbformat_minor": 5
}
