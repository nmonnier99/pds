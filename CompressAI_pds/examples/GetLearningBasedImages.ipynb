{
 "cells": [
  {
   "cell_type": "code",
   "execution_count": 18,
   "id": "ee6eb85a",
   "metadata": {},
   "outputs": [],
   "source": [
    "import math\n",
    "import io\n",
    "import torch\n",
    "from torchvision import transforms\n",
    "import numpy as np\n",
    "import pickle\n",
    "import re\n",
    "import scipy.stats as st\n",
    "import PIL\n",
    "from collections import Counter\n",
    "from PIL import Image\n",
    "from PIL import ImageChops\n",
    "import imageio\n",
    "import matplotlib.pyplot as plt\n",
    "import compressai\n",
    "import time \n",
    "from pytorch_msssim import ms_ssim\n",
    "from compressai.zoo import bmshj2018_factorized\n",
    "from compressai.dna_entropy_coding.coder import Coder\n",
    "from ipywidgets import interact, widgets"
   ]
  },
  {
   "cell_type": "code",
   "execution_count": 20,
   "id": "0c3eaaed",
   "metadata": {},
   "outputs": [],
   "source": [
    "device = 'cuda' if torch.cuda.is_available() else 'cpu'"
   ]
  },
  {
   "cell_type": "code",
   "execution_count": 11,
   "id": "2005a3c6",
   "metadata": {},
   "outputs": [],
   "source": [
    "JPEG_SIZES = [\n",
    "    '1192x832', \n",
    "    '853x945', \n",
    "    '945x840', \n",
    "    '2000x2496', \n",
    "    '560x888',\n",
    "    '2048x1536', \n",
    "    '1600x1200', \n",
    "    '1430x1834', \n",
    "    '2048x1536', \n",
    "    '2592x1946'  \n",
    "]"
   ]
  },
  {
   "cell_type": "code",
   "execution_count": 22,
   "id": "1e427307",
   "metadata": {},
   "outputs": [],
   "source": [
    "def compute_x_hat(x, quality=1, include_rounded=False):\n",
    "    \"\"\"\n",
    "    Runs the given image tensor for a given quality level through the forward part of the CompressAI autoencoder, \n",
    "    encodes the non trivial channels of the quantized latent space into DNA, decodes the DNA strand and runs the\n",
    "    latent space representation though the inverse transformations of the CompressAI autoencoder. Results in the \n",
    "    reconstructed image tensor. This is the modified autoencoder.\n",
    "\n",
    "    Parameters\n",
    "    ----------\n",
    "    x : tensor\n",
    "        image tensor to run through the modified autoencoder\n",
    "    quality : int, optional\n",
    "        quality level at which to encode the image\n",
    "        \n",
    "\n",
    "    Returns\n",
    "    -------\n",
    "    The reconstructed image tensor and length of the encoded DNA strand\n",
    "    \"\"\"\n",
    "    net = bmshj2018_factorized(quality = quality, pretrained=True).eval().to(device)\n",
    "    time_encode = 0\n",
    "    time_decode = 0\n",
    "    with torch.no_grad():\n",
    "        dictionary = net.get_y_hat_and_medians(x)\n",
    "        y_hat = dictionary['y_hat']\n",
    "        medians = dictionary['medians']\n",
    "\n",
    "    coder = Coder() ## Class defined in coder.py\n",
    "    rounded = y_hat-torch.unsqueeze(medians, dim=0)\n",
    "    rounded = torch.round(rounded).int()\n",
    "    start_time_encode = time.time()\n",
    "    dna = coder.encode(rounded, quality) \n",
    "    end_time_encode = time.time()\n",
    "    \n",
    "    start_time_decode = time.time()\n",
    "    rounded_decoded = coder.decode(dna, quality, x.shape)\n",
    "    end_time_decode = time.time()\n",
    "\n",
    "    y_hat_decoded = rounded_decoded + torch.unsqueeze(medians, dim=0)\n",
    "\n",
    "    with torch.no_grad():\n",
    "        dict_dna = net.get_x_hat(y_hat_decoded)\n",
    "        out_net_dna = {'x_hat': dict_dna['x_hat']}\n",
    "        out_net_dna['x_hat'] = out_net_dna['x_hat'].clamp(0, 1)\n",
    "        \n",
    "    execution_time_encode = end_time_encode - start_time_encode\n",
    "    print(\"Execution time for encoding of image 1 at quality = \", quality, \" = \", execution_time_encode)\n",
    "\n",
    "    execution_time_decode = end_time_decode - start_time_decode\n",
    "    print(\"Execution time for decoding of image 1 at quality = \", quality, \" = \", execution_time_decode)\n",
    "\n",
    "    if include_rounded:\n",
    "        return out_net_dna['x_hat'], len(dna), rounded\n",
    "    return out_net_dna['x_hat'], dna, execution_time_encode, execution_time_decode"
   ]
  },
  {
   "cell_type": "code",
   "execution_count": 13,
   "id": "e7f878d5",
   "metadata": {},
   "outputs": [],
   "source": [
    "def get_kodim_tensor(img_number): \n",
    "    img_name = '/kodim{:02d}.png'.format(img_number)\n",
    "    img = Image.open('./assets'+ img_name).convert('RGB')\n",
    "    x = transforms.ToTensor()(img).unsqueeze(0).to(device)\n",
    "    return img, x"
   ]
  },
  {
   "cell_type": "code",
   "execution_count": 14,
   "id": "1e9751ef",
   "metadata": {},
   "outputs": [
    {
     "data": {
      "text/plain": [
       "\"\\nfor i in range(1,25): \\n    for q in range(1, 9): \\n        img, x = get_kodim_tensor(i)\\n        x_hat, dna = compute_x_hat(x, q)\\n        \\n        img_decoded = transforms.ToPILImage()(x_hat.squeeze().cpu())\\n        path = 'assets/transcoder/'\\n        img_name = '{}kodim{:02d}.png'.format(q, i)\\n        img_path = path + img_name\\n        imageio.imwrite(img_path, img_decoded)\\n        \\n        dna_name = '{}kodim{:02d}.fasta'.format(q, i)\\n        dna_path = path + dna_name\\n        with open(dna_path, 'w') as f:\\n            f.write(dna)\\n\""
      ]
     },
     "execution_count": 14,
     "metadata": {},
     "output_type": "execute_result"
    }
   ],
   "source": [
    "'''\n",
    "for i in range(1,25): \n",
    "    for q in range(1, 9): \n",
    "        img, x = get_kodim_tensor(i)\n",
    "        x_hat, dna = compute_x_hat(x, q)\n",
    "        \n",
    "        img_decoded = transforms.ToPILImage()(x_hat.squeeze().cpu())\n",
    "        path = 'assets/transcoder/'\n",
    "        img_name = '{}kodim{:02d}.png'.format(q, i)\n",
    "        img_path = path + img_name\n",
    "        imageio.imwrite(img_path, img_decoded)\n",
    "        \n",
    "        dna_name = '{}kodim{:02d}.fasta'.format(q, i)\n",
    "        dna_path = path + dna_name\n",
    "        with open(dna_path, 'w') as f:\n",
    "            f.write(dna)\n",
    "'''\n",
    "\n",
    "\n"
   ]
  },
  {
   "cell_type": "code",
   "execution_count": 15,
   "id": "7498f765",
   "metadata": {},
   "outputs": [],
   "source": [
    "def get_original_tensor(data_set, img_id): \n",
    "    path = get_original_image_path(data_set, img_id)\n",
    "    img = Image.open(path).convert('RGB')\n",
    "    x = transforms.ToTensor()(img).unsqueeze(0).to(device)\n",
    "    return img, x"
   ]
  },
  {
   "cell_type": "code",
   "execution_count": 16,
   "id": "2ffea8ec",
   "metadata": {},
   "outputs": [],
   "source": [
    "def get_original_image_path(data_set, img_number): \n",
    "    img_path = 'assets/' + data_set\n",
    "    if data_set == 'kodak':\n",
    "        img_name = '/kodim{:02d}.png'.format(img_number)\n",
    "        \n",
    "    if data_set == 'jpeg_dna': \n",
    "        img_name = f\"/{str(img_number).zfill(5)}_\" + JPEG_SIZES[img_number-1]+'.png'\n",
    "    return img_path + img_name"
   ]
  },
  {
   "cell_type": "code",
   "execution_count": null,
   "id": "6725e89a",
   "metadata": {},
   "outputs": [],
   "source": [
    "for i in range (1,2): \n",
    "    total_time_encode = 0\n",
    "    total_time_decode = 0\n",
    "    for q in range(1,9): \n",
    "        img, x = get_original_tensor('jpeg_dna', i)\n",
    "        x_hat, dna, execution_time_encode, execution_time_decode = compute_x_hat(x, q)\n",
    "\n",
    "        img_decoded = transforms.ToPILImage()(x_hat.squeeze().cpu())\n",
    "        path = 'assets/jpeg_dna/learningbased/'\n",
    "        img_name = f\"/JPEG-1_{str(i).zfill(5)}\" + '_' + JPEG_SIZES[i-1] + '_' + str(q) + '_decoded' + '.png'\n",
    "        img_path = path + img_name\n",
    "        imageio.imwrite(img_path, img_decoded)\n",
    "\n",
    "        dna_name = f\"/JPEG-1_{str(i).zfill(5)}\" + '_' + JPEG_SIZES[i-1] + '_' + str(q) + '.fasta'\n",
    "        dna_path = path + dna_name\n",
    "        with open(dna_path, 'w') as f:\n",
    "            f.write(dna)\n",
    "            \n",
    "        # Accumulate the execution time\n",
    "        total_time_encode += execution_time_encode\n",
    "        total_time_decode += execution_time_decode\n",
    "\n",
    "            # Calculate the average run time\n",
    "average_time_encode = total_time_encode / 8\n",
    "average_time_decode = total_time_decode / 8\n",
    "print(f\"Average run time for encoding image 1 of the JPEG DNA data set by the JPEG DNA Benchmark Codec : {average_time_decode} seconds\")\n",
    "print(f\"Average run time for decoding image 1 of the JPEG DNA data set by the JPEG DNA Benchmark Codec : {average_time_encode} seconds\")\n"
   ]
  },
  {
   "cell_type": "code",
   "execution_count": null,
   "id": "4be87588",
   "metadata": {},
   "outputs": [],
   "source": []
  }
 ],
 "metadata": {
  "kernelspec": {
   "display_name": "Python 3 (ipykernel)",
   "language": "python",
   "name": "python3"
  },
  "language_info": {
   "codemirror_mode": {
    "name": "ipython",
    "version": 3
   },
   "file_extension": ".py",
   "mimetype": "text/x-python",
   "name": "python",
   "nbconvert_exporter": "python",
   "pygments_lexer": "ipython3",
   "version": "3.9.16"
  }
 },
 "nbformat": 4,
 "nbformat_minor": 5
}
