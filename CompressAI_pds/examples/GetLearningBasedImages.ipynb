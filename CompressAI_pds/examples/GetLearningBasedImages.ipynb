{
 "cells": [
  {
   "cell_type": "code",
   "execution_count": 1,
   "id": "ee6eb85a",
   "metadata": {},
   "outputs": [],
   "source": [
    "import math\n",
    "import io\n",
    "import torch\n",
    "from torchvision import transforms\n",
    "import numpy as np\n",
    "import pickle\n",
    "import re\n",
    "import scipy.stats as st\n",
    "import PIL\n",
    "from collections import Counter\n",
    "from PIL import Image\n",
    "from PIL import ImageChops\n",
    "import imageio\n",
    "import matplotlib.pyplot as plt\n",
    "import compressai\n",
    "\n",
    "from pytorch_msssim import ms_ssim\n",
    "from compressai.zoo import bmshj2018_factorized\n",
    "from compressai.dna_entropy_coding.coder import Coder\n",
    "from ipywidgets import interact, widgets"
   ]
  },
  {
   "cell_type": "code",
   "execution_count": 2,
   "id": "0c3eaaed",
   "metadata": {},
   "outputs": [],
   "source": [
    "device = 'cuda' if torch.cuda.is_available() else 'cpu'"
   ]
  },
  {
   "cell_type": "code",
   "execution_count": 3,
   "id": "2005a3c6",
   "metadata": {},
   "outputs": [],
   "source": [
    "JPEG_SIZES = [\n",
    "    '1192x832', \n",
    "    '853x945', \n",
    "    '945x840', \n",
    "    '2000x2496', \n",
    "    '560x888',\n",
    "    '2048x1536', \n",
    "    '1600x1200', \n",
    "    '1430x1834', \n",
    "    '2048x1536', \n",
    "    '2592x1946'  \n",
    "]"
   ]
  },
  {
   "cell_type": "code",
   "execution_count": 4,
   "id": "1e427307",
   "metadata": {},
   "outputs": [],
   "source": [
    "def compute_x_hat(x, quality=1, include_rounded=False):\n",
    "    \"\"\"\n",
    "    Runs the given image tensor for a given quality level through the forward part of the CompressAI autoencoder, \n",
    "    encodes the non trivial channels of the quantized latent space into DNA, decodes the DNA strand and runs the\n",
    "    latent space representation though the inverse transformations of the CompressAI autoencoder. Results in the \n",
    "    reconstructed image tensor. This is the modified autoencoder.\n",
    "\n",
    "    Parameters\n",
    "    ----------\n",
    "    x : tensor\n",
    "        image tensor to run through the modified autoencoder\n",
    "    quality : int, optional\n",
    "        quality level at which to encode the image\n",
    "        \n",
    "\n",
    "    Returns\n",
    "    -------\n",
    "    The reconstructed image tensor and length of the encoded DNA strand\n",
    "    \"\"\"\n",
    "    net = bmshj2018_factorized(quality = quality, pretrained=True).eval().to(device)\n",
    "\n",
    "    with torch.no_grad():\n",
    "        dictionary = net.get_y_hat_and_medians(x)\n",
    "        y_hat = dictionary['y_hat']\n",
    "        medians = dictionary['medians']\n",
    "\n",
    "    coder = Coder() ## Class defined in coder.py\n",
    "    rounded = y_hat-torch.unsqueeze(medians, dim=0)\n",
    "    rounded = torch.round(rounded).int()\n",
    "\n",
    "    dna = coder.encode(rounded, quality)                               \n",
    "    rounded_decoded = coder.decode(dna, quality, x.shape)\n",
    "\n",
    "    y_hat_decoded = rounded_decoded + torch.unsqueeze(medians, dim=0)\n",
    "\n",
    "    with torch.no_grad():\n",
    "        dict_dna = net.get_x_hat(y_hat_decoded)\n",
    "        out_net_dna = {'x_hat': dict_dna['x_hat']}\n",
    "        out_net_dna['x_hat'] = out_net_dna['x_hat'].clamp(0, 1)\n",
    "    \n",
    "    if include_rounded:\n",
    "        return out_net_dna['x_hat'], len(dna), rounded\n",
    "    return out_net_dna['x_hat'], dna"
   ]
  },
  {
   "cell_type": "code",
   "execution_count": 5,
   "id": "e7f878d5",
   "metadata": {},
   "outputs": [],
   "source": [
    "def get_kodim_tensor(img_number): \n",
    "    img_name = '/kodim{:02d}.png'.format(img_number)\n",
    "    img = Image.open('./assets'+ img_name).convert('RGB')\n",
    "    x = transforms.ToTensor()(img).unsqueeze(0).to(device)\n",
    "    return img, x"
   ]
  },
  {
   "cell_type": "code",
   "execution_count": 13,
   "id": "1e9751ef",
   "metadata": {},
   "outputs": [
    {
     "data": {
      "text/plain": [
       "\"\\nfor i in range(1,25): \\n    for q in range(1, 9): \\n        img, x = get_kodim_tensor(i)\\n        x_hat, dna = compute_x_hat(x, q)\\n        \\n        img_decoded = transforms.ToPILImage()(x_hat.squeeze().cpu())\\n        path = 'assets/transcoder/'\\n        img_name = '{}kodim{:02d}.png'.format(q, i)\\n        img_path = path + img_name\\n        imageio.imwrite(img_path, img_decoded)\\n        \\n        dna_name = '{}kodim{:02d}.fasta'.format(q, i)\\n        dna_path = path + dna_name\\n        with open(dna_path, 'w') as f:\\n            f.write(dna)\\n\""
      ]
     },
     "execution_count": 13,
     "metadata": {},
     "output_type": "execute_result"
    }
   ],
   "source": [
    "'''\n",
    "for i in range(1,25): \n",
    "    for q in range(1, 9): \n",
    "        img, x = get_kodim_tensor(i)\n",
    "        x_hat, dna = compute_x_hat(x, q)\n",
    "        \n",
    "        img_decoded = transforms.ToPILImage()(x_hat.squeeze().cpu())\n",
    "        path = 'assets/transcoder/'\n",
    "        img_name = '{}kodim{:02d}.png'.format(q, i)\n",
    "        img_path = path + img_name\n",
    "        imageio.imwrite(img_path, img_decoded)\n",
    "        \n",
    "        dna_name = '{}kodim{:02d}.fasta'.format(q, i)\n",
    "        dna_path = path + dna_name\n",
    "        with open(dna_path, 'w') as f:\n",
    "            f.write(dna)\n",
    "'''\n",
    "\n",
    "\n"
   ]
  },
  {
   "cell_type": "code",
   "execution_count": 8,
   "id": "7498f765",
   "metadata": {},
   "outputs": [],
   "source": [
    "def get_original_tensor(data_set, img_id): \n",
    "    path = get_original_image_path(data_set, img_id)\n",
    "    img = Image.open(path).convert('RGB')\n",
    "    x = transforms.ToTensor()(img).unsqueeze(0).to(device)\n",
    "    return img, x"
   ]
  },
  {
   "cell_type": "code",
   "execution_count": 9,
   "id": "2ffea8ec",
   "metadata": {},
   "outputs": [],
   "source": [
    "def get_original_image_path(data_set, img_number): \n",
    "    img_path = 'assets/' + data_set\n",
    "    if data_set == 'kodak':\n",
    "        img_name = '/kodim{:02d}.png'.format(img_number)\n",
    "        \n",
    "    if data_set == 'jpeg_dna': \n",
    "        img_name = f\"/{str(img_number).zfill(5)}_\" + JPEG_SIZES[img_number-1]+'.png'\n",
    "    return img_path + img_name"
   ]
  },
  {
   "cell_type": "code",
   "execution_count": 11,
   "id": "6725e89a",
   "metadata": {},
   "outputs": [],
   "source": [
    "i = 10\n",
    "q = 8\n",
    "for i in range (1,11): \n",
    "    for q in range(1,9): \n",
    "        img, x = get_original_tensor('jpeg_dna', i)\n",
    "        x_hat, dna = compute_x_hat(x, q)\n",
    "\n",
    "        img_decoded = transforms.ToPILImage()(x_hat.squeeze().cpu())\n",
    "        path = 'assets/jpeg_dna/learningbased/'\n",
    "        img_name = f\"/JPEG-1_{str(i).zfill(5)}\" + '_' + JPEG_SIZES[i-1] + '_' + str(q) + '_decoded' + '.png'\n",
    "        img_path = path + img_name\n",
    "        imageio.imwrite(img_path, img_decoded)\n",
    "\n",
    "        dna_name = f\"/JPEG-1_{str(i).zfill(5)}\" + '_' + JPEG_SIZES[i-1] + '_' + str(q) + '.fasta'\n",
    "        dna_path = path + dna_name\n",
    "        with open(dna_path, 'w') as f:\n",
    "            f.write(dna)"
   ]
  },
  {
   "cell_type": "code",
   "execution_count": null,
   "id": "c9d02ab8",
   "metadata": {},
   "outputs": [],
   "source": []
  },
  {
   "cell_type": "code",
   "execution_count": 1,
   "id": "6d3ea563",
   "metadata": {},
   "outputs": [
    {
     "ename": "NameError",
     "evalue": "name 'get_original_tensor' is not defined",
     "output_type": "error",
     "traceback": [
      "\u001b[0;31m---------------------------------------------------------------------------\u001b[0m",
      "\u001b[0;31mNameError\u001b[0m                                 Traceback (most recent call last)",
      "Cell \u001b[0;32mIn[1], line 6\u001b[0m\n\u001b[1;32m      3\u001b[0m \u001b[38;5;28;01mfor\u001b[39;00m i \u001b[38;5;129;01min\u001b[39;00m \u001b[38;5;28mrange\u001b[39m(\u001b[38;5;241m1\u001b[39m, \u001b[38;5;241m25\u001b[39m): \n\u001b[1;32m      4\u001b[0m     \u001b[38;5;28;01mfor\u001b[39;00m q \u001b[38;5;129;01min\u001b[39;00m \u001b[38;5;28mrange\u001b[39m(\u001b[38;5;241m1\u001b[39m,\u001b[38;5;241m8\u001b[39m):\n\u001b[0;32m----> 6\u001b[0m         img, x \u001b[38;5;241m=\u001b[39m \u001b[43mget_original_tensor\u001b[49m(i)\n\u001b[1;32m      7\u001b[0m         x_hat, dna \u001b[38;5;241m=\u001b[39m compute_x_hat(x, q)\n\u001b[1;32m      9\u001b[0m         img_decoded \u001b[38;5;241m=\u001b[39m transforms\u001b[38;5;241m.\u001b[39mToPILImage()(x_hat\u001b[38;5;241m.\u001b[39msqueeze()\u001b[38;5;241m.\u001b[39mcpu())\n",
      "\u001b[0;31mNameError\u001b[0m: name 'get_original_tensor' is not defined"
     ]
    }
   ],
   "source": [
    "\n",
    "for i in range(1, 25): \n",
    "    for q in range(1,8):\n",
    "        img, x = get_original_tensor(i)\n",
    "        x_hat, dna = compute_x_hat(x, q)\n",
    "\n",
    "        img_decoded = transforms.ToPILImage()(x_hat.squeeze().cpu())\n",
    "        path = 'assets/jpeg_dna/learningbased/'\n",
    "        img_name = f\"/JPEG-1_{str(i).zfill(5)}\" + '_' + JPEG_SIZES[i-1] + '_' + str(q) + '_decoded' + '.png'\n",
    "        img_path = path + img_name\n",
    "        imageio.imwrite(img_path, img_decoded)\n",
    "\n",
    "        dna_name = f\"/JPEG-1_{str(i).zfill(5)}\" + '_' + JPEG_SIZES[i-1] + '_' + str(q) + '.fasta'\n",
    "        dna_path = path + dna_name\n",
    "        with open(dna_path, 'w') as f:\n",
    "            f.write(dna)"
   ]
  },
  {
   "cell_type": "code",
   "execution_count": null,
   "id": "4be87588",
   "metadata": {},
   "outputs": [],
   "source": []
  }
 ],
 "metadata": {
  "kernelspec": {
   "display_name": "Python 3 (ipykernel)",
   "language": "python",
   "name": "python3"
  },
  "language_info": {
   "codemirror_mode": {
    "name": "ipython",
    "version": 3
   },
   "file_extension": ".py",
   "mimetype": "text/x-python",
   "name": "python",
   "nbconvert_exporter": "python",
   "pygments_lexer": "ipython3",
   "version": "3.9.12"
  }
 },
 "nbformat": 4,
 "nbformat_minor": 5
}
